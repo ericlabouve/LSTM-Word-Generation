{
 "cells": [
  {
   "cell_type": "code",
   "execution_count": 1,
   "metadata": {},
   "outputs": [
    {
     "name": "stderr",
     "output_type": "stream",
     "text": [
      "[nltk_data] Downloading package punkt to\n",
      "[nltk_data]     C:\\Users\\Eric\\AppData\\Roaming\\nltk_data...\n",
      "[nltk_data]   Package punkt is already up-to-date!\n",
      "Using TensorFlow backend.\n"
     ]
    }
   ],
   "source": [
    "import numpy as np\n",
    "import nltk\n",
    "nltk.download('punkt')\n",
    "from nltk.tokenize import word_tokenize\n",
    "from keras.utils import to_categorical\n",
    "from keras.models import Sequential\n",
    "from keras.layers import Dense, LSTM, Embedding\n",
    "from nltk import ngrams\n",
    "from keras.preprocessing.text import Tokenizer\n",
    "from keras.preprocessing.sequence import pad_sequences"
   ]
  },
  {
   "cell_type": "code",
   "execution_count": 7,
   "metadata": {},
   "outputs": [],
   "source": [
    "def tokenizeFile(fileName: str) -> list:\n",
    "    '''Will take in the name of a txt file located in the base directory \n",
    "    of the drive and return a list of tokens. Tokens are defined to be\n",
    "    any nonzero sequence of characters.'''\n",
    "    tokens = []\n",
    "    with open(fileName, 'r', encoding=\"ISO-8859-1\") as file:\n",
    "        s = file.read()\n",
    "        s = s.replace('\\n', ' NEWLINETOKEN ') # Use a character you would never find in code\n",
    "        s = s.replace('\\t', ' TABTOKEN ')\n",
    "        tokens = word_tokenize(s)\n",
    "        tokens = ['\\n' if t == 'NEWLINETOKEN' else t for t in tokens ]\n",
    "        tokens = ['\\t' if t == 'TABTOKEN' else t for t in tokens ]\n",
    "    return list(tokens)"
   ]
  },
  {
   "cell_type": "code",
   "execution_count": 8,
   "metadata": {},
   "outputs": [],
   "source": [
    "# Import the dataset\n",
    "# tokens_all = tokenizeFile(\"TheLordOfTheRings_Book1.txt\")\n",
    "tokens_all = tokenizeFile(\"linux_kernel_concat.c\")"
   ]
  },
  {
   "cell_type": "code",
   "execution_count": 10,
   "metadata": {},
   "outputs": [
    {
     "name": "stdout",
     "output_type": "stream",
     "text": [
      "Total Tokens: 37589\n",
      "Unique Tokens: 3059\n",
      "Total ngrams: 37570\n",
      "Total Samples: 37570\n"
     ]
    }
   ],
   "source": [
    "# Cut number of words so we can fit everything in memory\n",
    "tokens = tokens_all[:len(tokens_all)//10]\n",
    "# tokens = tokens_all[:len(tokens_all)]\n",
    "print('Total Tokens: %d' % len(tokens))\n",
    "print('Unique Tokens: %d' % len(set(tokens)))\n",
    "\n",
    "# Change this parameter to decrease or increase the size of the training samples\n",
    "N = 20\n",
    "ngrams_tokens = list(ngrams(tokens, N))\n",
    "np.random.shuffle(ngrams_tokens)\n",
    "print('Total ngrams: %d' % len(ngrams_tokens))\n",
    "\n",
    "# Combine tokens into training sample phrases\n",
    "ngrams_samples = [\" \".join(x) for x in ngrams_tokens]\n",
    "print(\"Total Samples: %d\" % len(ngrams_samples))"
   ]
  },
  {
   "cell_type": "markdown",
   "metadata": {},
   "source": [
    "Assign a unique ID to each token and make an inverted index so we can look up terms easily later.\n",
    "\n",
    "Determine the vocabulary size for the Embedding layer."
   ]
  },
  {
   "cell_type": "code",
   "execution_count": 12,
   "metadata": {},
   "outputs": [
    {
     "name": "stdout",
     "output_type": "stream",
     "text": [
      "Sequences Shape: (37570, 20)\n",
      "Vocabulary size: 2928\n"
     ]
    }
   ],
   "source": [
    "tokenizer = Tokenizer(filters='')\n",
    "# tokenizer = Tokenizer(filters='\\t\\n')\n",
    "tokenizer.fit_on_texts(ngrams_samples)\n",
    "sequencies = np.array(tokenizer.texts_to_sequences(ngrams_samples))\n",
    "# sequencies = tokenizer.texts_to_sequences(ngrams_samples)\n",
    "vocab_size = len(tokenizer.word_index) + 1\n",
    "print(\"Sequences Shape: \" + str(sequencies.shape))\n",
    "print(\"Vocabulary size: %d\" % vocab_size)"
   ]
  },
  {
   "cell_type": "markdown",
   "metadata": {},
   "source": [
    "Split into training, validation, and testing\n",
    "\n",
    "Split into input and expected output where the input is all but the last token and the output is the last token"
   ]
  },
  {
   "cell_type": "code",
   "execution_count": 13,
   "metadata": {},
   "outputs": [],
   "source": [
    "from numpy import array as ar\n",
    "\n",
    "tr = int(len(sequencies) * 0.9) # Training samples is 90% of data\n",
    "va = int(len(sequencies) * 0.95) # Validation samples is 5% of data \n",
    "te = len(sequencies) # Testing samples is last 5% of data\n",
    "training, validation, testing = sequencies[:tr], sequencies[tr:va], sequencies[va:te]\n",
    "\n",
    "tr_input, tr_output = ar([x[:-1] for x in training]), [x[-1] for x in training]\n",
    "tr_output = to_categorical(tr_output, num_classes=vocab_size)\n",
    "\n",
    "va_input, va_output = ar([x[:-1] for x in validation]), [x[-1] for x in validation]\n",
    "va_output = to_categorical(va_output, num_classes=vocab_size)\n",
    "\n",
    "te_input, te_output = ar([x[:-1] for x in testing]), [x[-1] for x in testing]\n",
    "te_output = to_categorical(te_output, num_classes=vocab_size)"
   ]
  },
  {
   "cell_type": "code",
   "execution_count": 14,
   "metadata": {},
   "outputs": [
    {
     "name": "stdout",
     "output_type": "stream",
     "text": [
      "19\n"
     ]
    }
   ],
   "source": [
    "seq_length = tr_input.shape[1]\n",
    "print(seq_length)"
   ]
  },
  {
   "cell_type": "code",
   "execution_count": 15,
   "metadata": {},
   "outputs": [
    {
     "name": "stdout",
     "output_type": "stream",
     "text": [
      "_________________________________________________________________\n",
      "Layer (type)                 Output Shape              Param #   \n",
      "=================================================================\n",
      "embedding_1 (Embedding)      (None, 19, 300)           878400    \n",
      "_________________________________________________________________\n",
      "lstm_1 (LSTM)                (None, 19, 300)           721200    \n",
      "_________________________________________________________________\n",
      "lstm_2 (LSTM)                (None, 300)               721200    \n",
      "_________________________________________________________________\n",
      "dense_1 (Dense)              (None, 300)               90300     \n",
      "_________________________________________________________________\n",
      "dense_2 (Dense)              (None, 2928)              881328    \n",
      "=================================================================\n",
      "Total params: 3,292,428\n",
      "Trainable params: 3,292,428\n",
      "Non-trainable params: 0\n",
      "_________________________________________________________________\n",
      "None\n"
     ]
    }
   ],
   "source": [
    "model = Sequential()\n",
    "model.add(Embedding(vocab_size, 300, input_length=seq_length))\n",
    "model.add(LSTM(300, return_sequences=True))\n",
    "model.add(LSTM(300))\n",
    "model.add(Dense(300, activation='relu'))\n",
    "model.add(Dense(vocab_size, activation='softmax'))\n",
    "print(model.summary())"
   ]
  },
  {
   "cell_type": "code",
   "execution_count": 16,
   "metadata": {},
   "outputs": [
    {
     "name": "stdout",
     "output_type": "stream",
     "text": [
      "Train on 33813 samples, validate on 1878 samples\n",
      "Epoch 1/50\n",
      "33813/33813 [==============================] - 65s 2ms/step - loss: 4.3342 - acc: 0.2652 - val_loss: 3.7388 - val_acc: 0.3557\n",
      "Epoch 2/50\n",
      "33813/33813 [==============================] - 61s 2ms/step - loss: 3.4377 - acc: 0.3862 - val_loss: 3.4519 - val_acc: 0.4137\n",
      "Epoch 3/50\n",
      "33813/33813 [==============================] - 61s 2ms/step - loss: 3.0188 - acc: 0.4445 - val_loss: 3.2233 - val_acc: 0.4542\n",
      "Epoch 4/50\n",
      "33813/33813 [==============================] - 61s 2ms/step - loss: 2.7242 - acc: 0.4818 - val_loss: 3.1608 - val_acc: 0.4760\n",
      "Epoch 5/50\n",
      "33813/33813 [==============================] - 61s 2ms/step - loss: 2.4925 - acc: 0.5055 - val_loss: 3.1228 - val_acc: 0.4968\n",
      "Epoch 6/50\n",
      "33813/33813 [==============================] - 61s 2ms/step - loss: 2.3040 - acc: 0.5247 - val_loss: 3.0954 - val_acc: 0.5059\n",
      "Epoch 7/50\n",
      "33813/33813 [==============================] - 61s 2ms/step - loss: 2.1309 - acc: 0.5415 - val_loss: 3.1222 - val_acc: 0.5075\n",
      "Epoch 8/50\n",
      "33813/33813 [==============================] - 61s 2ms/step - loss: 1.9829 - acc: 0.5590 - val_loss: 3.1216 - val_acc: 0.5186\n",
      "Epoch 9/50\n",
      "33813/33813 [==============================] - 61s 2ms/step - loss: 1.8345 - acc: 0.5778 - val_loss: 3.1824 - val_acc: 0.5234\n",
      "Epoch 10/50\n",
      "33813/33813 [==============================] - 61s 2ms/step - loss: 1.7041 - acc: 0.5969 - val_loss: 3.2094 - val_acc: 0.5250\n",
      "Epoch 11/50\n",
      "33813/33813 [==============================] - 61s 2ms/step - loss: 1.5735 - acc: 0.6143 - val_loss: 3.2998 - val_acc: 0.5266\n",
      "Epoch 12/50\n",
      "33813/33813 [==============================] - 61s 2ms/step - loss: 1.4551 - acc: 0.6352 - val_loss: 3.3089 - val_acc: 0.5293\n",
      "Epoch 13/50\n",
      "33813/33813 [==============================] - 61s 2ms/step - loss: 1.3453 - acc: 0.6536 - val_loss: 3.3968 - val_acc: 0.5229\n",
      "Epoch 14/50\n",
      "33813/33813 [==============================] - 61s 2ms/step - loss: 1.2394 - acc: 0.6733 - val_loss: 3.4689 - val_acc: 0.5293\n",
      "Epoch 15/50\n",
      "33813/33813 [==============================] - 61s 2ms/step - loss: 1.1312 - acc: 0.6967 - val_loss: 3.5065 - val_acc: 0.5288\n",
      "Epoch 16/50\n",
      "33813/33813 [==============================] - 61s 2ms/step - loss: 1.0331 - acc: 0.7185 - val_loss: 3.5885 - val_acc: 0.5330\n",
      "Epoch 17/50\n",
      "33813/33813 [==============================] - 61s 2ms/step - loss: 0.9475 - acc: 0.7385 - val_loss: 3.6564 - val_acc: 0.5266\n",
      "Epoch 18/50\n",
      "33813/33813 [==============================] - 61s 2ms/step - loss: 0.8615 - acc: 0.7588 - val_loss: 3.7471 - val_acc: 0.5277\n",
      "Epoch 19/50\n",
      "33813/33813 [==============================] - 61s 2ms/step - loss: 0.7767 - acc: 0.7834 - val_loss: 3.8270 - val_acc: 0.5288 - loss: 0.7766\n",
      "Epoch 20/50\n",
      "33813/33813 [==============================] - 61s 2ms/step - loss: 0.7108 - acc: 0.7984 - val_loss: 3.9170 - val_acc: 0.5234\n",
      "Epoch 21/50\n",
      "33813/33813 [==============================] - 61s 2ms/step - loss: 0.6447 - acc: 0.8167 - val_loss: 3.9315 - val_acc: 0.5325\n",
      "Epoch 22/50\n",
      "33813/33813 [==============================] - 61s 2ms/step - loss: 0.5820 - acc: 0.8338 - val_loss: 3.9682 - val_acc: 0.5304s - loss: 0.5830 - acc: 0.83 - ETA: 1s - loss: \n",
      "Epoch 23/50\n",
      "33813/33813 [==============================] - 61s 2ms/step - loss: 0.5317 - acc: 0.8473 - val_loss: 4.0762 - val_acc: 0.5293\n",
      "Epoch 24/50\n",
      "33813/33813 [==============================] - 62s 2ms/step - loss: 0.4830 - acc: 0.8611 - val_loss: 4.1233 - val_acc: 0.5288\n",
      "Epoch 25/50\n",
      "33813/33813 [==============================] - 61s 2ms/step - loss: 0.4327 - acc: 0.8759 - val_loss: 4.2349 - val_acc: 0.5213\n",
      "Epoch 26/50\n",
      "33813/33813 [==============================] - 61s 2ms/step - loss: 0.3937 - acc: 0.8867 - val_loss: 4.3593 - val_acc: 0.5224\n",
      "Epoch 27/50\n",
      "33813/33813 [==============================] - 61s 2ms/step - loss: 0.3672 - acc: 0.8944 - val_loss: 4.3846 - val_acc: 0.5165\n",
      "Epoch 28/50\n",
      "33813/33813 [==============================] - 61s 2ms/step - loss: 0.3373 - acc: 0.9033 - val_loss: 4.4018 - val_acc: 0.5240\n",
      "Epoch 29/50\n",
      "33813/33813 [==============================] - 61s 2ms/step - loss: 0.3109 - acc: 0.9090 - val_loss: 4.5005 - val_acc: 0.5197\n",
      "Epoch 30/50\n",
      "33813/33813 [==============================] - 61s 2ms/step - loss: 0.2753 - acc: 0.9216 - val_loss: 4.5647 - val_acc: 0.5160\n",
      "Epoch 31/50\n",
      "33813/33813 [==============================] - 61s 2ms/step - loss: 0.2624 - acc: 0.9256 - val_loss: 4.6871 - val_acc: 0.5128\n",
      "Epoch 32/50\n",
      "33813/33813 [==============================] - 61s 2ms/step - loss: 0.2606 - acc: 0.9254 - val_loss: 4.6762 - val_acc: 0.5176\n",
      "Epoch 33/50\n",
      "33813/33813 [==============================] - 61s 2ms/step - loss: 0.2361 - acc: 0.9327 - val_loss: 4.7369 - val_acc: 0.5138\n",
      "Epoch 34/50\n",
      "33813/33813 [==============================] - 61s 2ms/step - loss: 0.2166 - acc: 0.9401 - val_loss: 4.7596 - val_acc: 0.5144\n",
      "Epoch 35/50\n",
      "33813/33813 [==============================] - 61s 2ms/step - loss: 0.2007 - acc: 0.9440 - val_loss: 4.7924 - val_acc: 0.5245\n",
      "Epoch 36/50\n",
      "33813/33813 [==============================] - 61s 2ms/step - loss: 0.1970 - acc: 0.9445 - val_loss: 4.8550 - val_acc: 0.5197\n",
      "Epoch 37/50\n",
      "33813/33813 [==============================] - 60s 2ms/step - loss: 0.1922 - acc: 0.9451 - val_loss: 4.8855 - val_acc: 0.5224\n",
      "Epoch 38/50\n",
      "33813/33813 [==============================] - 60s 2ms/step - loss: 0.1724 - acc: 0.9524 - val_loss: 4.9050 - val_acc: 0.5128\n",
      "Epoch 39/50\n",
      "33813/33813 [==============================] - 60s 2ms/step - loss: 0.1761 - acc: 0.9506 - val_loss: 4.8776 - val_acc: 0.5325\n",
      "Epoch 40/50\n",
      "33813/33813 [==============================] - 60s 2ms/step - loss: 0.1485 - acc: 0.9585 - val_loss: 4.9842 - val_acc: 0.5181\n",
      "Epoch 41/50\n",
      "33813/33813 [==============================] - 60s 2ms/step - loss: 0.1482 - acc: 0.9603 - val_loss: 4.9534 - val_acc: 0.5224\n",
      "Epoch 42/50\n",
      "33813/33813 [==============================] - 60s 2ms/step - loss: 0.1457 - acc: 0.9616 - val_loss: 5.0442 - val_acc: 0.5133\n",
      "Epoch 43/50\n",
      "33813/33813 [==============================] - 60s 2ms/step - loss: 0.1438 - acc: 0.9611 - val_loss: 5.0385 - val_acc: 0.5122\n",
      "Epoch 44/50\n",
      "33813/33813 [==============================] - 60s 2ms/step - loss: 0.1400 - acc: 0.9618 - val_loss: 5.0978 - val_acc: 0.5202\n",
      "Epoch 45/50\n",
      "33813/33813 [==============================] - 60s 2ms/step - loss: 0.1281 - acc: 0.9650 - val_loss: 5.1222 - val_acc: 0.5234\n",
      "Epoch 46/50\n",
      "33813/33813 [==============================] - 60s 2ms/step - loss: 0.1216 - acc: 0.9673 - val_loss: 5.1222 - val_acc: 0.5186\n",
      "Epoch 47/50\n",
      "33813/33813 [==============================] - 60s 2ms/step - loss: 0.1328 - acc: 0.9640 - val_loss: 5.0833 - val_acc: 0.5277\n",
      "Epoch 48/50\n",
      "33813/33813 [==============================] - 60s 2ms/step - loss: 0.1125 - acc: 0.9705 - val_loss: 5.1940 - val_acc: 0.5213\n",
      "Epoch 49/50\n",
      "33813/33813 [==============================] - 61s 2ms/step - loss: 0.1295 - acc: 0.9652 - val_loss: 5.1858 - val_acc: 0.5154\n",
      "Epoch 50/50\n",
      "33813/33813 [==============================] - 61s 2ms/step - loss: 0.1150 - acc: 0.9695 - val_loss: 5.1356 - val_acc: 0.5112\n"
     ]
    }
   ],
   "source": [
    "model.compile(loss='categorical_crossentropy', optimizer='adam', metrics=['accuracy'])\n",
    "history = model.fit(tr_input, tr_output, batch_size=32, epochs=50, validation_data=(va_input, va_output))"
   ]
  },
  {
   "cell_type": "code",
   "execution_count": 17,
   "metadata": {},
   "outputs": [],
   "source": [
    "from matplotlib import pyplot as plt\n",
    "\n",
    "def plot_accuracy(history):\n",
    "    plt.plot(history.history['acc'],label='train')\n",
    "    if 'val_acc' in history.history:\n",
    "        plt.plot(history.history['val_acc'],label='val')\n",
    "    plt.xlabel('Epoch')\n",
    "    plt.ylabel('Accuracy')\n",
    "    plt.legend()\n",
    "    plt.title('Accuracy during Training')\n",
    "    plt.show()\n",
    "    \n",
    "def plot_loss(history):\n",
    "    plt.plot(history.history['loss'],label='train')\n",
    "    if 'val_loss' in history.history:\n",
    "        plt.plot(history.history['val_loss'],label='val')\n",
    "    plt.xlabel('Epoch')\n",
    "    plt.ylabel('Loss')\n",
    "    plt.legend()\n",
    "    plt.title('Loss during Training')\n",
    "    plt.show()"
   ]
  },
  {
   "cell_type": "code",
   "execution_count": 18,
   "metadata": {},
   "outputs": [
    {
     "data": {
      "image/png": "[encoded data removed]",
      "text/plain": [
       "<Figure size 432x288 with 1 Axes>"
      ]
     },
     "metadata": {
      "needs_background": "light"
     },
     "output_type": "display_data"
    }
   ],
   "source": [
    "plot_accuracy(history)"
   ]
  },
  {
   "cell_type": "code",
   "execution_count": 19,
   "metadata": {},
   "outputs": [
    {
     "data": {
      "image/png": "[encoded data removed]",
      "text/plain": [
       "<Figure size 432x288 with 1 Axes>"
      ]
     },
     "metadata": {
      "needs_background": "light"
     },
     "output_type": "display_data"
    }
   ],
   "source": [
    "plot_loss(history)"
   ]
  },
  {
   "cell_type": "code",
   "execution_count": 20,
   "metadata": {},
   "outputs": [
    {
     "name": "stdout",
     "output_type": "stream",
     "text": [
      "\t uint32_t *genpoly ; \n",
      " \t struct bch_control *bch = NULL ; \n",
      " \n",
      " \t const int min_m = 5\n"
     ]
    }
   ],
   "source": [
    "from random import randint\n",
    "seed_text = ngrams_samples[randint(0, len(ngrams_samples))]\n",
    "print(seed_text)"
   ]
  },
  {
   "cell_type": "code",
   "execution_count": 26,
   "metadata": {},
   "outputs": [
    {
     "name": "stdout",
     "output_type": "stream",
     "text": [
      "; \n",
      " \t const int ecclen = bch_ecc_words ( bch ) -1 ; \n",
      " \n",
      " \t while ( len ) { \n",
      " \t \t q- > deg = 0 ; \n",
      " \t \t q- > c [ 0 ] = c ; \n",
      " \t } \n",
      " \t return v ; \n",
      " } \n",
      " export_symbol ( _bin2bcd ) ; \n",
      " \n",
      " /** \n",
      " * same as encode_bch - calculate positive parity of pages \n",
      " * \t from aio_get_req ( ) encounters return and move it after be supported \n",
      " * \n",
      " * the exact electronics specified is distributed in the given by \n",
      " * them . \n",
      " */ \n",
      " static int br_device_event ( struct notifier_block *unused , unsigned long bugaddr , \n",
      " \t \t \t \t struct page *pages , phys_addr_t unused , const uint8_t iocb- > \n",
      " \t \t \t \t struct cma __user * + prot_write , bool compat ) \n",
      " { \n",
      " \t \t mutex_unlock ( & cma- > lock ) ; \n",
      " \t } \n",
      " } \n",
      " \n",
      " static int __init br_init ( void ) \n",
      " { \n",
      " \t int i ; \n",
      " \n",
      " \t build_bug_on ( sizeof ( *table ) ; \n",
      " \n",
      " err : \n",
      " \t local_irq_restore ( page ) ; \n",
      " \n",
      " \t if ( ! device ) \n",
      " \t \t return -einval ; \n",
      " \n",
      " \t mask = cma_bitmap_aligned_mask ( cma , align ) ; \n",
      " \t offset = cma_bitmap_aligned_offset ( cma , align ) ; \n",
      " \t bitmap_maxno = ( void __user * ) bug ; \n",
      " \t ac- > charger = null ; \n",
      " \t ac- > charger_desc.properties = sizeof ( ioctx_table ) ; \n",
      " \t wake_up_all ( & ctx- > users ) ; \n",
      " } \n",
      " \n",
      " static int acpi_ac_open_fs ( struct inode *inode , struct file *file ) \n",
      " { \n",
      " \t return single_open ( file , acpi_ac_seq_show , pde_data ( inode ) ) ; \n",
      " } \n",
      " \n",
      " static int acpi_ac_add_fs ( struct acpi_ac *ac ) \n",
      " { \n",
      " \t struct proc_dir_entry *entry = null ; \n",
      " \n",
      " \t if ( unlikely ( copy_from_user ( & ctx- > dead ) ) ) \n",
      " \t \t ret = -einval ; \n",
      " \t } \n",
      " \n",
      " \t if ( acpi_disabled ) \n",
      " \t \t return -enodev ; \n",
      " \n",
      " \t if ( nsol ) { \n",
      " \t \t int m ; \n",
      " \t } \n",
      " \n",
      " \t /* \n",
      " \t * the mutex is been at error locations \n",
      " \t * the ring_lock mutex held until setup is not know that bit 's going to flip \n",
      " \t * migratetype at it again in wake_up_bit ( ) for any . \n",
      " \t \t */ \n",
      " \t \t limit = kmap_atomic ( ctx- > ring_pages [ 0 ] ) ; \n",
      " \t \t a2 = gf_inv ( bch , b , d ) ; \n",
      " \t \t page = ctx- > id ; \n",
      " \t \t /* find elimination on remaining or remaining */ \n",
      " \t \t if ( strcmp (\n"
     ]
    }
   ],
   "source": [
    "def generate_seq(model, tokenizer, seq_length, seed_text, n_words):\n",
    "    result = list()\n",
    "    in_text = seed_text\n",
    "    # generate a fixed number of words\n",
    "    for _ in range(n_words):\n",
    "        # encode the text as integer\n",
    "        encoded = tokenizer.texts_to_sequences([in_text])[0]\n",
    "        # truncate sequences to a fixed length\n",
    "        encoded = pad_sequences([encoded], maxlen=seq_length, truncating='pre')\n",
    "        # predict probabilities for each word\n",
    "        yhat = model.predict_classes(encoded, verbose=0)\n",
    "        # map predicted word index to word\n",
    "        out_word = ''\n",
    "        for word, index in tokenizer.word_index.items():\n",
    "            if index == yhat:\n",
    "                out_word = word\n",
    "                break\n",
    "        # append to input\n",
    "        in_text += ' ' + out_word\n",
    "        result.append(out_word)\n",
    "    return ' '.join(result)\n",
    "\n",
    "# generate new text\n",
    "generated = generate_seq(model, tokenizer, seq_length, seed_text, 500)\n",
    "print(generated)"
   ]
  },
  {
   "cell_type": "code",
   "execution_count": null,
   "metadata": {},
   "outputs": [],
   "source": [
    "# Grab some fun examples"
   ]
  }
 ],
 "metadata": {
  "kernelspec": {
   "display_name": "Python 3",
   "language": "python",
   "name": "python3"
  },
  "language_info": {
   "codemirror_mode": {
    "name": "ipython",
    "version": 3
   },
   "file_extension": ".py",
   "mimetype": "text/x-python",
   "name": "python",
   "nbconvert_exporter": "python",
   "pygments_lexer": "ipython3",
   "version": "3.6.8"
  }
 },
 "nbformat": 4,
 "nbformat_minor": 2
}
