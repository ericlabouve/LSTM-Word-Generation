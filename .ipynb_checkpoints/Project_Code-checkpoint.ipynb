{
 "cells": [
  {
   "cell_type": "markdown",
   "metadata": {
    "colab_type": "text",
    "id": "FTeLwWc8MMBO"
   },
   "source": [
    "# Text Prediction and Generation using LSTM Networks"
   ]
  },
  {
   "cell_type": "code",
   "execution_count": 2,
   "metadata": {
    "colab": {
     "base_uri": "https://localhost:8080/",
     "height": 126
    },
    "colab_type": "code",
    "id": "ZNalDTJmMjX-",
    "outputId": "bc0ca233-d918-444a-df8a-a85ebea5738d"
   },
   "outputs": [
    {
     "name": "stdout",
     "output_type": "stream",
     "text": [
      "Wall time: 920 ms\n"
     ]
    }
   ],
   "source": [
    "%%time\n",
    "# Code to read google drive files into Colaboratory:\n",
    "!pip install -U -q PyDrive\n",
    "from pydrive.auth import GoogleAuth\n",
    "from pydrive.drive import GoogleDrive"
   ]
  },
  {
   "cell_type": "code",
   "execution_count": null,
   "metadata": {},
   "outputs": [],
   "source": [
    "# Google drive code only\n",
    "from google.colab import auth\n",
    "from oauth2client.client import GoogleCredentials\n",
    "# Authenticate and create the PyDrive client.\n",
    "auth.authenticate_user()\n",
    "gauth = GoogleAuth()\n",
    "gauth.credentials = GoogleCredentials.get_application_default()\n",
    "drive = GoogleDrive(gauth)"
   ]
  },
  {
   "cell_type": "code",
   "execution_count": 0,
   "metadata": {
    "colab": {
     "base_uri": "https://localhost:8080/",
     "height": 72
    },
    "colab_type": "code",
    "id": "ujVuCb3iRW8G",
    "outputId": "8cdcc0fb-be62-4737-9c03-9a805fc45e22"
   },
   "outputs": [
    {
     "name": "stdout",
     "output_type": "stream",
     "text": [
      "CPU times: user 17 µs, sys: 4 µs, total: 21 µs\n",
      "Wall time: 23.4 µs\n"
     ]
    }
   ],
   "source": [
    "%%time\n",
    "def importFile(fileName: str, fileID: str):\n",
    "  '''Imports a file into the Colaboratory workspace. The fileID can be \n",
    "     found in the file's Share Link'''\n",
    "  print(\"Grabbing file \" + str(fileName) + \" with id = \" + str(fileID)) # Verify that you have everything after '='\n",
    "  downloaded = drive.CreateFile({'id':fileID}) \n",
    "  downloaded.GetContentFile(fileName) "
   ]
  },
  {
   "cell_type": "code",
   "execution_count": 0,
   "metadata": {
    "colab": {
     "base_uri": "https://localhost:8080/",
     "height": 94
    },
    "colab_type": "code",
    "id": "r7xpitMqO8bN",
    "outputId": "2526d459-b32c-4df9-995e-c6e03412bebc"
   },
   "outputs": [
    {
     "name": "stdout",
     "output_type": "stream",
     "text": [
      "Grabbing file TheLordOfTheRings_Book1.txt with id = 1crAeSigOaQcT62W7EjcwrKcIVBx5ayeh\n",
      "Grabbing file GoogleNews-vectors-negative300.bin with id = 1zzUeVFsRYw3lWe6kjk1nccywCkMDp-AY\n"
     ]
    }
   ],
   "source": [
    "# Import all the datasets we are going to use for our project\n",
    "\n",
    "importFile('TheLordOfTheRings_Book1.txt', '1crAeSigOaQcT62W7EjcwrKcIVBx5ayeh')\n",
    "importFile('GoogleNews-vectors-negative300.bin', '1zzUeVFsRYw3lWe6kjk1nccywCkMDp-AY')"
   ]
  },
  {
   "cell_type": "code",
   "execution_count": 0,
   "metadata": {
    "colab": {
     "base_uri": "https://localhost:8080/",
     "height": 93
    },
    "colab_type": "code",
    "id": "3ODs77INUaJl",
    "outputId": "f470718b-c04a-4ac2-8a12-edcf2fbe4615"
   },
   "outputs": [
    {
     "name": "stdout",
     "output_type": "stream",
     "text": [
      "CPU times: user 15.3 s, sys: 1.65 s, total: 17 s\n",
      "Wall time: 17.4 s\n"
     ]
    }
   ],
   "source": [
    "# Load top 1 million (out of 3 million) word embeddings from the binary file.\n",
    "# These vectors are 300 dimensions large and are created using the word2vec algorithm.\n",
    "# The model was trained on the GoogleNews corpus, which is a similar size to the English version of Wikipedia.\n",
    "# We can only load 1 million vectors because we run out of RAM.\n",
    "\n",
    "%%time\n",
    "import gensim\n",
    "embeddings = gensim.models.KeyedVectors.load_word2vec_format('GoogleNews-vectors-negative300.bin', limit=1000000, binary=True)"
   ]
  },
  {
   "cell_type": "markdown",
   "metadata": {
    "colab_type": "text",
    "id": "A_WqVQBraIN7"
   },
   "source": [
    "### Word Embedding Examples\n",
    "\n",
    "When we import the binary file using the gensim library, we can easily explore interesting properties of word embeddings. Much like a latent vector produced using an autoencoder, each embedding holds meaningful information about each word and the context in which it is used. The following examples explore the latent space in which these vectors reside."
   ]
  },
  {
   "cell_type": "code",
   "execution_count": 0,
   "metadata": {
    "colab": {
     "base_uri": "https://localhost:8080/",
     "height": 120
    },
    "colab_type": "code",
    "id": "pC_Da54bPmGt",
    "outputId": "9a8f8143-406b-41b2-942f-22d48e41bcbf"
   },
   "outputs": [
    {
     "name": "stderr",
     "output_type": "stream",
     "text": [
      "/usr/local/lib/python3.6/dist-packages/gensim/matutils.py:737: FutureWarning: Conversion of the second argument of issubdtype from `int` to `np.signedinteger` is deprecated. In future, it will be treated as `np.int64 == np.dtype(int).type`.\n",
      "  if np.issubdtype(vec.dtype, np.int):\n"
     ]
    },
    {
     "name": "stdout",
     "output_type": "stream",
     "text": [
      "[('teenage_girl', 0.7674504518508911), ('teenager', 0.7674364447593689), ('toddler', 0.701943576335907)]\n",
      "[('striped_bass', 0.47242963314056396), ('bluefin', 0.4493907392024994), ('tunas', 0.4461327791213989)]\n",
      "[('woman', 0.9972377419471741)]\n"
     ]
    }
   ],
   "source": [
    "import numpy as np\n",
    "\n",
    "# We can perform interesting vector addition/subtraction\n",
    "print(embeddings.most_similar(positive=[\"boy\", \"girl\"], topn=3))\n",
    "print(embeddings.most_similar(positive=[\"fish\"], negative=[\"water\"], topn=3)) # What is a fish without water?\n",
    "\n",
    "# We can extract nearby points. This feature will be useful because our model \n",
    "# won't output vectors that exactly correspond to existing vectors.\n",
    "v = np.copy(embeddings[\"woman\"])\n",
    "v[0] += 0.2\n",
    "print(embeddings.most_similar(positive=[v], topn=1))"
   ]
  },
  {
   "cell_type": "markdown",
   "metadata": {
    "colab_type": "text",
    "id": "bF-OhBj7aFDY"
   },
   "source": [
    "![](https://drive.google.com/uc?export=view&id=1e9PxMNKjTXDx7KZDxHpC4ENmz0sXHl_g)"
   ]
  },
  {
   "cell_type": "markdown",
   "metadata": {
    "colab_type": "text",
    "id": "iuvUj83Fb1ug"
   },
   "source": [
    "### Generate training data from text"
   ]
  },
  {
   "cell_type": "code",
   "execution_count": 0,
   "metadata": {
    "colab": {},
    "colab_type": "code",
    "id": "mz9lUGnqWNGd"
   },
   "outputs": [],
   "source": [
    "import re\n",
    "\n",
    "def tokenizeFile(fileName: str) -> list:\n",
    "  '''Will take in the name of a txt file located in the base directory \n",
    "     of the drive and return a list of terms'''\n",
    "  words = []\n",
    "  with open(fileName, 'r', encoding=\"ISO-8859-1\") as myTxtFile:\n",
    "    for line in myTxtFile:\n",
    "      lineWords = [word for word in re.split(r'[^a-zA-Z]', line.strip()) if word]\n",
    "      words += lineWords\n",
    "  return words\n",
    "\n",
    "\n",
    "def flipFirstChar(word: str) -> str:\n",
    "    '''Capitalizes/Un-capitalizes the first character of the word'''\n",
    "    if word[0].isupper():\n",
    "        return word[0].lower() + word[1:]\n",
    "    else:\n",
    "        return word[0].upper() + word[1:]\n",
    "\n",
    "def wordsToVectors(words: list) -> (list, list):\n",
    "  '''Convert a list of terms into a list of word embeddings. \n",
    "     We also keep track of which terms cannot be paired with an embedding.'''\n",
    "  unknownWords = []\n",
    "  vectors = []\n",
    "  for word in words:\n",
    "    if word in embeddings:\n",
    "        vectors.append(embeddings[word])\n",
    "    elif flipFirstChar(word) in embeddings:\n",
    "        vectors.append(embeddings[flipFirstChar(word)])\n",
    "    else:\n",
    "        unknownWords.append(word)\n",
    "  return vectors, unknownWords\n",
    "\n",
    "def summary(vectors, unknown_words):\n",
    "  print(\"Number of embeddings: \" + str(len(vectors)))\n",
    "  unique_unknown = set(unknown_words)\n",
    "  print(\"Number of unknown terms: \" + str(len(unique_unknown)))\n",
    "  unique_unknown_sort = sorted(list(unique_unknown), key=lambda x: len(x))\n",
    "  print(\"Unknown Terms: \" + str(unique_unknown_sort))"
   ]
  },
  {
   "cell_type": "code",
   "execution_count": 0,
   "metadata": {
    "colab": {
     "base_uri": "https://localhost:8080/",
     "height": 101
    },
    "colab_type": "code",
    "id": "CeJWhilpcpql",
    "outputId": "b51d018f-d22a-4d6d-f877-f18d3066d7cc"
   },
   "outputs": [
    {
     "name": "stdout",
     "output_type": "stream",
     "text": [
      "Number of embeddings: 188455\n",
      "Number of unknown terms: 548\n",
      "Unknown Terms: ['imb', 'ril', 'oial', 'axin', 'BREE', 'whin', 'Nazg', 'Muil', 'nazg', 'agol', 'Anor', 'Yrch', 'flet', 'tads', 'anor', 'edro', 'PPPS', 'rdan', 'naur', 'eyot', 'Naur', 'aear', 'Lhaw', 'larn', 'Emyn', 'udan', 'Forn', 'ryat', 'Edro', 'neek', 'menel', 'Elent', 'caita', 'Uruks', 'FRODO', 'mustn', 'redly', 'Bofur', 'MORIA', 'ortan', 'estre', 'flets', 'Ithil', 'flews', 'MINAS', 'airet', 'Shath', 'Beorn', 'Ohtar', 'Lothl', 'undul', 'Eress', 'glede', 'Naith', 'eyots', 'zigil', 'needn', 'slier', 'vanwa', 'Narvi', 'Lotho', 'Gebir', 'Baraz', 'galad', 'Hador', 'rayed', 'vedui', 'yulma', 'luini', 'Bifur', 'rinen', 'BALIN', 'wains', 'Wargs', 'lasto', 'Zirak', 'Kibil', 'Nenya', 'Lawks', 'maryo', 'aglar', 'Ethir', 'miruv', 'breek', 'wargs', 'Orald', 'Vardo', 'yestre', 'fadeth', 'Gildor', 'Rauros', 'nuncle', 'thrawn', 'deedle', 'Cirdan', 'fanyar', 'Gamgee', 'Archet', 'halloo', 'Guldur', 'Tobold', 'lumbul', 'untame', 'Mathom', 'Galdor', 'yuldar', 'MORGUL', 'Haldir', 'Edoras', 'nedain', 'lammen', 'Fennas', 'Anduin', 'Celebr', 'Aiglos', 'lndeed', 'Mayhap', 'Khazad', 'drowse', 'Tirion', 'hazels', 'umbels', 'Smials', 'mathom', 'Stoors', 'Bombur', 'turves', 'wights', 'Rushey', 'FUNDIN', 'Cirith', 'sindan', 'Tirith', 'aearon', 'Morgul', 'smials', 'Borgil', 'rendil', 'durstn', 'hiruva', 'mayhap', 'Narsil', 'Finrod', 'Erebor', 'Elwing', 'lantar', 'Marcho', 'Kheled', 'Lindir', 'Fundin', 'Daeron', 'Gorgor', 'Wights', 'Dwalin', 'lembas', 'oughtn', 'LOBELIA', 'Tinbone', 'intaken', 'corslet', 'athelas', 'seemeth', 'Tintall', 'toeless', 'Eriador', 'whortle', 'Hithoel', 'midmost', 'Athelas', 'elenath', 'bowshot', 'Carrock', 'Eldamar', 'Dimrill', 'Erestor', 'Deadmen', 'builded', 'Thingol', 'Orcrist', 'deafest', 'wolvish', 'Valinor', 'mallorn', 'Westron', 'Eregion', 'throned', 'ORTHANC', 'Doriath', 'beechen', 'Hamfast', 'misseth', 'Melilot', 'queerer', 'crebain', 'Halfast', 'Elessar', 'writhen', 'Elladan', 'Tharbad', 'BAGGINS', 'Harfoot', 'Bolgers', 'circlet', 'galenas', 'mathoms', 'Haysend', 'Gwaihir', 'Orthanc', 'GANDALF', 'Fornost', 'gloomed', 'Gamgees', 'Orophin', 'Elendil', 'Nimrais', 'Egladil', 'Oioloss', 'chaered', 'Iarwain', 'Morgoth', 'Angband', 'ADELARD', 'bedewed', 'Oldbuck', 'Barahir', 'aldaron', 'Twofoot', 'Ilmarin', 'firelit', 'Fangorn', 'Bruinen', 'Elrohir', 'Brandir', 'Nindalf', 'edraith', 'Mellyrn', 'Redhorn', 'Valimar', 'Staddle', 'miruvor', 'capered', 'Entwash', 'lamplit', 'baldric', 'draweth', 'misgave', 'Dunland', 'jewelled', 'Valandil', 'untasted', 'spearmen', 'starmoon', 'tarrying', 'clippety', 'HOBBITON', 'Meriadoc', 'Belfalas', 'Elvendom', 'Halfling', 'coppices', 'crannied', 'wilfully', 'laboured', 'Windlord', 'edhellen', 'Imladris', 'hearties', 'Rohirrim', 'tussocky', 'Tunnelly', 'silivren', 'damasked', 'Asfaloth', 'wightish', 'unrusted', 'thennath', 'Orodruin', 'darksome', 'hithlain', 'longwise', 'errantry', 'Mazarbul', 'durbatul', 'Radagast', 'darkling', 'weregild', 'Tarmenel', 'theElder', 'kindreds', 'lamplike', 'waybread', 'Gorbadoc', 'oromardi', 'Elbereth', 'unhorsed', 'Tindrock', 'govannen', 'Sandyman', 'Evereven', 'Hoarwell', 'circlets', 'Gondolin', 'Isengrim', 'Thinbone', 'tintilar', 'Esgaroth', 'tellumar', 'Paveyard', 'Evenstar', 'Meneldil', 'Ithilien', 'leathern', 'PROLOGUE', 'Fredegar', 'outflung', 'plashing', 'Caveyard', 'Whitfoot', 'Dagorlad', 'Lebennin', 'Findegil', 'pretence', 'pathless', 'ennorath', 'Bardings', 'forbodes', 'Sirannon', 'PRANCING', 'drownded', 'Herblore', 'hiruvaly', 'unlading', 'Tookland', 'menorean', 'Celeborn', 'unfading', 'Oldbucks', 'Nimrodel', 'Bombadil', 'gimbatul', 'Limlight', 'Winyards', 'Goatleaf', 'halfling', 'Elfstone', 'reforged', 'Haradrim', 'carcanet', 'clippely', 'Barliman', 'Mugworts', 'draggled', 'Celebdil', 'Fanuilos', 'Galadhon', 'Argonath', 'BARLIMAN', 'Arathorn', 'sluggard', 'Hobbitry', 'Harfoots', 'ithildin', 'Shirriff', 'Drownded', 'Goldberry', 'unguessed', 'unwinking', 'Fallohide', 'changeful', 'Rushlight', 'Westmarch', 'yestereve', 'habergeon', 'ngaurhoth', 'nogothrim', 'Halfelven', 'Evernight', 'Greyflood', 'Longholes', 'Beleriand', 'dragonets', 'Galadhrim', 'Beornings', 'dreamless', 'marvelled', 'vanimelda', 'crownless', 'Gorhendad', 'krimpatul', 'Bandobras', 'doorwards', 'halflings', 'harboured', 'Leastways', 'Everwhite', 'Halflings', 'unbraided', 'Farthings', 'headstall', 'kindlings', 'Arvernien', 'northmost', 'Budgeford', 'aforetime', 'pikestaff', 'worriting', 'Neldoreth', 'Fanuidhol', 'Burrowses', 'Thranduil', 'Unwearied', 'Ancalagon', 'linnathon', 'Baranduin', 'folklands', 'practised', 'Glamdring', 'ramifying', 'Grimbeorn', 'Calaciryo', 'thrakatul', 'shoreless', 'strayings', 'Thainship', 'Silmarils', 'ProudFEET', 'provender', 'riverward', 'Remmirath', 'Calacirya', 'Inglorion', 'Osgiliath', 'Bagginses', 'menoreans', 'niphredil', 'Rhosgobel', 'Stonebows', 'Caradhras', 'outspread', 'Esgalduin', 'leastways', 'pocketses', 'Flammifer', 'BUTTERBUR', 'Elvenhome', 'cornlands', 'caperings', 'sorrowless', 'Brandybuck', 'Barazinbar', 'Weathertop', 'foremother', 'Bamfurlong', 'Underhills', 'hobbitlike', 'Riddermark', 'Bundushath', 'truesilver', 'bowstrings', 'Menelvagor', 'Shadowmere', 'Midgewater', 'Wilderland', 'Nimbrethil', 'wellforged', 'Puddifoots', 'Silvertine', 'Goodbodies', 'enquantuva', 'Ettendales', 'Fallohides', 'Bullroarer', 'trapessing', 'Glorfindel', 'vanishment', 'shrivelled', 'Harrowdale', 'shadowless', 'Mithrandir', 'Silverlode', 'Mitheithel', 'ADMITTANCE', 'unslinging', 'Calacirian', 'Cloudyhead', 'Periannath', 'Sandheaver', 'Proudfoots', 'dependants', 'omentielvo', 'Bucklander', 'morrowless', 'Bombadillo', 'errandless', 'Gilthoniel', 'counselled', 'Ettenmoors', 'Mirrormere', 'Fairbairns', 'wildberries', 'unguessable', 'comfortless', 'Withywindle', 'Tuckborough', 'BRACEGIRDLE', 'Azanulbizar', 'Northerland', 'Easterlings', 'untroubling', 'harbourless', 'Breelanders', 'rightabouts', 'dishevelled', 'weatherworn', 'Dwarrowdelf', 'twentyfirst', 'Brandybucks', 'Crickhollow', 'falmalinnar', 'Nargothrond', 'quarrelling', 'Bucklanders', 'Westernesse', 'Hornblowers', 'Thistlewool', 'Fallohidish', 'Heathertoes', 'Nanduhirion', 'Oakenshield', 'Celebrimbor', 'Undertowers', 'Ringwraiths', 'Brockhouses', 'galadhremmin', 'Bracegirdles', 'Thangorodrim', 'marvellously', 'backarappers', 'gentlehobbit', 'Westfarthing', 'Eastfarthing', 'Bridgefields', 'unwearyingly', 'unconcernedly', 'Northfarthing', 'Southfarthing', 'Neekerbreekers', 'weatherstained']\n"
     ]
    }
   ],
   "source": [
    "words = tokenizeFile(\"TheLordOfTheRings_Book1.txt\")\n",
    "vectors, unknown_words = wordsToVectors(words)\n",
    "summary(vectors, unknown_words)"
   ]
  },
  {
   "cell_type": "markdown",
   "metadata": {
    "colab_type": "text",
    "id": "WCWhCAk2WW2w"
   },
   "source": [
    "### Model Code"
   ]
  },
  {
   "cell_type": "code",
   "execution_count": 0,
   "metadata": {
    "colab": {},
    "colab_type": "code",
    "id": "BoPXOUjJW0Kf"
   },
   "outputs": [],
   "source": [
    "from keras.models import Sequential\n",
    "from keras.layers import LSTM, Dense\n",
    "import math\n",
    "import numpy as np"
   ]
  },
  {
   "cell_type": "code",
   "execution_count": 0,
   "metadata": {
    "colab": {},
    "colab_type": "code",
    "id": "6l2HRpsmaK84"
   },
   "outputs": [],
   "source": [
    "# Cut data to make training go faster\n",
    "vectors = vectors[:len(vectors)//100]\n",
    "\n",
    "size = len(vectors) - 1\n",
    "split = math.floor(size*.8)\n",
    "\n",
    "# Explaination:\n",
    "# [A, B, C, D, E]\n",
    "# [A, B, C, D, E]\n",
    "#\n",
    "# [A, B, C, D]\n",
    "# [B, C, D, E]\n",
    "#\n",
    "# [(A, B), (B, C), (C, D), (D, E)]\n",
    "#\n",
    "vectors_np = np.array(vectors[:len(vectors)])\n",
    "vectors_copy = np.array(vectors[1:])\n",
    "vectors_paired = np.array(list(zip(vectors_np, vectors_copy)))\n",
    "training = vectors_paired[:split]\n",
    "testing = vectors_paired[split:]\n"
   ]
  },
  {
   "cell_type": "code",
   "execution_count": 0,
   "metadata": {
    "colab": {
     "base_uri": "https://localhost:8080/",
     "height": 236
    },
    "colab_type": "code",
    "id": "CymWYziXllRA",
    "outputId": "f20dcb33-4e2d-4a88-cd37-1c7a39b44efc"
   },
   "outputs": [
    {
     "name": "stdout",
     "output_type": "stream",
     "text": [
      "_________________________________________________________________\n",
      "Layer (type)                 Output Shape              Param #   \n",
      "=================================================================\n",
      "lstm_5 (LSTM)                (None, 1, 300)            721200    \n",
      "_________________________________________________________________\n",
      "dense_5 (Dense)              (None, 1, 300)            90300     \n",
      "=================================================================\n",
      "Total params: 811,500\n",
      "Trainable params: 811,500\n",
      "Non-trainable params: 0\n",
      "_________________________________________________________________\n",
      "None\n"
     ]
    }
   ],
   "source": [
    "model = Sequential()  \n",
    "# return_sequence is set to true so that we predict a vector after every pass\n",
    "model.add(LSTM(300, input_shape=(1, 300), return_sequences=True))\n",
    "model.add(Dense(300))\n",
    "model.compile(loss='mean_squared_error', optimizer='adam',metrics=['accuracy'])\n",
    "print(model.summary())"
   ]
  },
  {
   "cell_type": "code",
   "execution_count": 0,
   "metadata": {
    "colab": {
     "base_uri": "https://localhost:8080/",
     "height": 54
    },
    "colab_type": "code",
    "id": "vgbQwD42gEjL",
    "outputId": "9f8a3045-a541-4ad5-b089-4ab0950fb148"
   },
   "outputs": [
    {
     "name": "stdout",
     "output_type": "stream",
     "text": [
      "(1506, 1, 300)\n"
     ]
    }
   ],
   "source": [
    "print(np.expand_dims(training[:, 0], axis=1).shape)"
   ]
  },
  {
   "cell_type": "code",
   "execution_count": 0,
   "metadata": {
    "colab": {
     "base_uri": "https://localhost:8080/",
     "height": 419
    },
    "colab_type": "code",
    "id": "UaStJMjKWf7Y",
    "outputId": "544df0a1-1134-4b24-da7c-a2996838b73c"
   },
   "outputs": [
    {
     "name": "stderr",
     "output_type": "stream",
     "text": [
      "/usr/local/lib/python3.6/dist-packages/ipykernel_launcher.py:5: UserWarning: The `nb_epoch` argument in `fit` has been renamed `epochs`.\n",
      "  \"\"\"\n"
     ]
    },
    {
     "name": "stdout",
     "output_type": "stream",
     "text": [
      "Train on 1506 samples, validate on 377 samples\n",
      "Epoch 1/10\n",
      " - 13s - loss: 0.0159 - acc: 0.0498 - val_loss: 0.0162 - val_acc: 0.0531\n",
      "Epoch 2/10\n",
      " - 12s - loss: 0.0150 - acc: 0.0664 - val_loss: 0.0163 - val_acc: 0.1034\n",
      "Epoch 3/10\n",
      " - 12s - loss: 0.0145 - acc: 0.0910 - val_loss: 0.0164 - val_acc: 0.1061\n",
      "Epoch 4/10\n",
      " - 12s - loss: 0.0140 - acc: 0.1056 - val_loss: 0.0168 - val_acc: 0.0849\n",
      "Epoch 5/10\n",
      " - 12s - loss: 0.0135 - acc: 0.1215 - val_loss: 0.0170 - val_acc: 0.0902\n",
      "Epoch 6/10\n",
      " - 12s - loss: 0.0129 - acc: 0.1381 - val_loss: 0.0173 - val_acc: 0.0796\n",
      "Epoch 7/10\n",
      " - 12s - loss: 0.0126 - acc: 0.1567 - val_loss: 0.0174 - val_acc: 0.0822\n",
      "Epoch 8/10\n",
      " - 12s - loss: 0.0122 - acc: 0.1667 - val_loss: 0.0176 - val_acc: 0.0690\n",
      "Epoch 9/10\n",
      " - 12s - loss: 0.0119 - acc: 0.1766 - val_loss: 0.0177 - val_acc: 0.0769\n",
      "Epoch 10/10\n",
      " - 12s - loss: 0.0117 - acc: 0.1833 - val_loss: 0.0181 - val_acc: 0.0716\n"
     ]
    }
   ],
   "source": [
    "train_first = np.expand_dims(training[:, 0], axis=1)\n",
    "train_second = np.expand_dims(training[:, 1], axis=1)\n",
    "test_first = np.expand_dims(testing[:, 0], axis=1)\n",
    "test_second = np.expand_dims(testing[:, 1], axis=1)\n",
    "history = model.fit(train_first, train_second, nb_epoch=10, batch_size=1, verbose=2, validation_data=(test_first, test_second))"
   ]
  },
  {
   "cell_type": "code",
   "execution_count": 0,
   "metadata": {
    "colab": {
     "base_uri": "https://localhost:8080/",
     "height": 734
    },
    "colab_type": "code",
    "id": "f_tzFZDEhjxD",
    "outputId": "72d2f6e8-90b0-4377-bc66-7e7df4c80f44"
   },
   "outputs": [
    {
     "data": {
      "image/png": "[encoded data removed]",
      "text/plain": [
       "<Figure size 576x396 with 1 Axes>"
      ]
     },
     "metadata": {
      "tags": []
     },
     "output_type": "display_data"
    },
    {
     "data": {
      "image/png": "[encoded data removed]",
      "text/plain": [
       "<Figure size 576x396 with 1 Axes>"
      ]
     },
     "metadata": {
      "tags": []
     },
     "output_type": "display_data"
    }
   ],
   "source": [
    "from matplotlib import pyplot as plt\n",
    "\n",
    "def plot_history(history):\n",
    "  plt.plot(history.history['acc'],label='train')\n",
    "  if 'val_acc' in history.history:\n",
    "    plt.plot(history.history['val_acc'],label='val')\n",
    "  plt.xlabel('Epoch')\n",
    "  plt.ylabel('Accuracy')\n",
    "  plt.legend()\n",
    "  plt.title('Accuracy during Training')\n",
    "  plt.show()\n",
    "  \n",
    "  plt.plot(history.history['loss'],label='train')\n",
    "  if 'val_loss' in history.history:\n",
    "    plt.plot(history.history['val_loss'],label='val')\n",
    "  plt.xlabel('Epoch')\n",
    "  plt.ylabel('Loss')\n",
    "  plt.legend()\n",
    "  plt.title('Loss during Training')\n",
    "  plt.show()\n",
    "\n",
    "#results = model.evaluate(x_test, y_test, verbose=False)\n",
    "#print('Test loss:', results[0])\n",
    "#print('Test accuracy:', results[1])\n",
    "\n",
    "plot_history(history)"
   ]
  },
  {
   "cell_type": "code",
   "execution_count": 0,
   "metadata": {
    "colab": {
     "base_uri": "https://localhost:8080/",
     "height": 193
    },
    "colab_type": "code",
    "id": "7V2LweZcjqfG",
    "outputId": "263de1ad-0b2a-4938-d724-4f2ca761eb67"
   },
   "outputs": [
    {
     "name": "stdout",
     "output_type": "stream",
     "text": [
      "(6, 1, 300)\n",
      "[('tale', 0.7478899955749512), ('story', 0.6445780396461487), ('fable', 0.6085277795791626)]\n"
     ]
    },
    {
     "name": "stderr",
     "output_type": "stream",
     "text": [
      "/usr/local/lib/python3.6/dist-packages/gensim/matutils.py:737: FutureWarning: Conversion of the second argument of issubdtype from `int` to `np.signedinteger` is deprecated. In future, it will be treated as `np.int64 == np.dtype(int).type`.\n",
      "  if np.issubdtype(vec.dtype, np.int):\n"
     ]
    },
    {
     "name": "stdout",
     "output_type": "stream",
     "text": [
      "[('It', 0.782120406627655), ('That', 0.7014086246490479), (\"It'sa\", 0.6450313925743103)]\n",
      "[('in', 0.7625988721847534), ('when', 0.5438968539237976), ('just', 0.5420645475387573)]\n",
      "[('the', 0.7496902942657471), ('that', 0.6561087965965271), ('this', 0.6236401796340942)]\n",
      "[('%_#F########_7v.jsn', 0.6291949152946472), ('%_#F########_3v.jsn', 0.6216694116592407), ('%_#F########_9v.jsn', 0.6206303238868713)]\n",
      "[('until', 0.757969856262207), ('but', 0.6875307559967041), ('when', 0.6583946943283081)]\n"
     ]
    }
   ],
   "source": [
    "# test_vec = np.expand_dims(np.array(embeddings[\"A\"]), axis=1)\n",
    "# list_vec = []\n",
    "# list_vec.append(embeddings['A'])\n",
    "# test_vec = np.array(list_vec)\n",
    "# print(test_vec.shape)\n",
    "\n",
    "# vec = np.array(np.array(embeddings[\"A\"]))\n",
    "\n",
    "def getTestingArray(sentence: str):\n",
    "  arr = []\n",
    "  for i in sentence.split():\n",
    "    item = embeddings[i]\n",
    "    arr.append(item)\n",
    "  return np.array(arr)\n",
    "\n",
    "\n",
    "def printPredictions(predictions):\n",
    "  print(predictions.shape)\n",
    "  for i in range(len(predictions)):\n",
    "    print(embeddings.most_similar(positive=[predictions[i][0]], topn=3))\n",
    "\n",
    "    \n",
    "test_input = getTestingArray(\"This tale grew in the telling\")\n",
    "test_input = np.expand_dims(test_input, axis=1)\n",
    "predictions = model.predict(test_input)\n",
    "printPredictions(predictions)"
   ]
  },
  {
   "cell_type": "code",
   "execution_count": 0,
   "metadata": {
    "colab": {},
    "colab_type": "code",
    "id": "QbRBtgaamGef"
   },
   "outputs": [],
   "source": []
  }
 ],
 "metadata": {
  "accelerator": "GPU",
  "colab": {
   "collapsed_sections": [],
   "name": "Project Code",
   "provenance": [],
   "version": "0.3.2"
  },
  "kernelspec": {
   "display_name": "Python 3",
   "language": "python",
   "name": "python3"
  },
  "language_info": {
   "codemirror_mode": {
    "name": "ipython",
    "version": 3
   },
   "file_extension": ".py",
   "mimetype": "text/x-python",
   "name": "python",
   "nbconvert_exporter": "python",
   "pygments_lexer": "ipython3",
   "version": "3.6.8"
  }
 },
 "nbformat": 4,
 "nbformat_minor": 1
}
