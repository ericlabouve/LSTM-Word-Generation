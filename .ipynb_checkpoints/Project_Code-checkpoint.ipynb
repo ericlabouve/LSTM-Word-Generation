{
 "cells": [
  {
   "cell_type": "markdown",
   "metadata": {
    "colab_type": "text",
    "id": "FTeLwWc8MMBO"
   },
   "source": [
    "# Text Prediction and Generation using LSTM Networks"
   ]
  },
  {
   "cell_type": "markdown",
   "metadata": {
    "colab_type": "text",
    "id": "UwK0g5gV5hTi"
   },
   "source": [
    "_______________\n",
    "## Google drive code only\n",
    "Only run the following sections in a colaboratory shell"
   ]
  },
  {
   "cell_type": "code",
   "execution_count": null,
   "metadata": {
    "colab": {
     "base_uri": "https://localhost:8080/",
     "height": 87
    },
    "colab_type": "code",
    "executionInfo": {
     "elapsed": 30489,
     "status": "ok",
     "timestamp": 1551835746036,
     "user": {
      "displayName": "Andy W",
      "photoUrl": "https://lh3.googleusercontent.com/-e2yB0x7o_ZY/AAAAAAAAAAI/AAAAAAAAJuw/nAsmHlehdlY/s64/photo.jpg",
      "userId": "17506489879312600830"
     },
     "user_tz": 480
    },
    "id": "h7P6a2_l5hTj",
    "outputId": "abe81f01-fa9e-4694-f575-e042e4fd56a3"
   },
   "outputs": [],
   "source": [
    "%%time\n",
    "# Code to read google drive files into Colaboratory:\n",
    "!pip install -U -q PyDrive\n",
    "from pydrive.auth import GoogleAuth\n",
    "from pydrive.drive import GoogleDrive\n",
    "from google.colab import auth\n",
    "from oauth2client.client import GoogleCredentials\n",
    "# Authenticate and create the PyDrive client.\n",
    "auth.authenticate_user()\n",
    "gauth = GoogleAuth()\n",
    "gauth.credentials = GoogleCredentials.get_application_default()\n",
    "drive = GoogleDrive(gauth)"
   ]
  },
  {
   "cell_type": "code",
   "execution_count": null,
   "metadata": {
    "colab": {
     "base_uri": "https://localhost:8080/",
     "height": 52
    },
    "colab_type": "code",
    "executionInfo": {
     "elapsed": 30454,
     "status": "ok",
     "timestamp": 1551835746039,
     "user": {
      "displayName": "Andy W",
      "photoUrl": "https://lh3.googleusercontent.com/-e2yB0x7o_ZY/AAAAAAAAAAI/AAAAAAAAJuw/nAsmHlehdlY/s64/photo.jpg",
      "userId": "17506489879312600830"
     },
     "user_tz": 480
    },
    "id": "ujVuCb3iRW8G",
    "outputId": "6ebda17c-e353-49d8-9942-0619a3e141ed"
   },
   "outputs": [],
   "source": [
    "%%time\n",
    "def importFile(fileName: str, fileID: str):\n",
    "  '''Imports a file into the Colaboratory workspace. The fileID can be \n",
    "     found in the file's Share Link'''\n",
    "  print(\"Grabbing file \" + str(fileName) + \" with id = \" + str(fileID)) # Verify that you have everything after '='\n",
    "  downloaded = drive.CreateFile({'id':fileID}) \n",
    "  downloaded.GetContentFile(fileName) "
   ]
  },
  {
   "cell_type": "code",
   "execution_count": null,
   "metadata": {
    "colab": {
     "base_uri": "https://localhost:8080/",
     "height": 52
    },
    "colab_type": "code",
    "executionInfo": {
     "elapsed": 93955,
     "status": "ok",
     "timestamp": 1551835809588,
     "user": {
      "displayName": "Andy W",
      "photoUrl": "https://lh3.googleusercontent.com/-e2yB0x7o_ZY/AAAAAAAAAAI/AAAAAAAAJuw/nAsmHlehdlY/s64/photo.jpg",
      "userId": "17506489879312600830"
     },
     "user_tz": 480
    },
    "id": "r7xpitMqO8bN",
    "outputId": "98facc28-f472-4d9c-efa6-b343038a8d19"
   },
   "outputs": [],
   "source": [
    "# Import all the datasets we are going to use for our project\n",
    "importFile('TheLordOfTheRings_Book1.txt', '1crAeSigOaQcT62W7EjcwrKcIVBx5ayeh')"
   ]
  },
  {
   "cell_type": "code",
   "execution_count": null,
   "metadata": {
    "colab": {
     "base_uri": "https://localhost:8080/",
     "height": 52
    },
    "colab_type": "code",
    "executionInfo": {
     "elapsed": 93955,
     "status": "ok",
     "timestamp": 1551835809588,
     "user": {
      "displayName": "Andy W",
      "photoUrl": "https://lh3.googleusercontent.com/-e2yB0x7o_ZY/AAAAAAAAAAI/AAAAAAAAJuw/nAsmHlehdlY/s64/photo.jpg",
      "userId": "17506489879312600830"
     },
     "user_tz": 480
    },
    "id": "r7xpitMqO8bN",
    "outputId": "98facc28-f472-4d9c-efa6-b343038a8d19"
   },
   "outputs": [],
   "source": [
    "importFile('GoogleNews-vectors-negative300.bin', '1zzUeVFsRYw3lWe6kjk1nccywCkMDp-AY')"
   ]
  },
  {
   "cell_type": "markdown",
   "metadata": {
    "colab_type": "text",
    "id": "o0owQf_T5hTr"
   },
   "source": [
    "## End of Google drive code\n",
    "_________________________________________"
   ]
  },
  {
   "cell_type": "markdown",
   "metadata": {
    "colab": {},
    "colab_type": "code",
    "id": "3ODs77INUaJl"
   },
   "source": [
    "## Setup Word Embeddings\n",
    "\n",
    "- Load top 1 million (out of 3 million) word embeddings from the binary file.\n",
    "- The vectors are 300 dimensions large and are created using the word2vec algorithm.\n",
    "- The model was trained on the GoogleNews corpus and the vector is taken from a latent layer, representing a compressed representation of a word with its surrounding context.  \n",
    "    - The GoogleNews corpus is a similar size to the English version of Wikipedia.\n",
    "- We cannot load all 3,000,000 vectors or else we will run out of RAM.\n",
    "    - Missing words will be added programmatically"
   ]
  },
  {
   "cell_type": "code",
   "execution_count": 1,
   "metadata": {
    "colab": {},
    "colab_type": "code",
    "id": "3ODs77INUaJl"
   },
   "outputs": [
    {
     "name": "stdout",
     "output_type": "stream",
     "text": [
      "Wall time: 4.36 s\n"
     ]
    }
   ],
   "source": [
    "%%time\n",
    "import gensim\n",
    "import numpy as np\n",
    "\n",
    "# This line imports 100,000 vectors\n",
    "embeddings = gensim.models.KeyedVectors.load_word2vec_format('GoogleNews-vectors-negative300.bin', limit=100000, binary=True)"
   ]
  },
  {
   "cell_type": "markdown",
   "metadata": {
    "colab_type": "text",
    "id": "A_WqVQBraIN7"
   },
   "source": [
    "### Word Embedding Examples\n",
    "\n",
    "When we import the binary file using the gensim library, we can easily explore interesting properties of word embeddings. Much like a latent vector produced using an autoencoder, each embedding holds meaningful information about each word and the context in which it is used. The following examples explore the latent space in which these vectors reside."
   ]
  },
  {
   "cell_type": "code",
   "execution_count": null,
   "metadata": {
    "colab": {
     "base_uri": "https://localhost:8080/",
     "height": 124
    },
    "colab_type": "code",
    "executionInfo": {
     "elapsed": 97713,
     "status": "ok",
     "timestamp": 1551835813375,
     "user": {
      "displayName": "Andy W",
      "photoUrl": "https://lh3.googleusercontent.com/-e2yB0x7o_ZY/AAAAAAAAAAI/AAAAAAAAJuw/nAsmHlehdlY/s64/photo.jpg",
      "userId": "17506489879312600830"
     },
     "user_tz": 480
    },
    "id": "pC_Da54bPmGt",
    "outputId": "7f5501f4-7e80-4d3e-8294-b5620bad5300"
   },
   "outputs": [],
   "source": [
    "# Vector addition/subtraction examples:\n",
    "# What are the top three vectors similar to boy and girl?\n",
    "print(embeddings.most_similar(positive=[\"boy\", \"girl\"], topn=3))\n",
    "# What is a fish without water?\n",
    "print(embeddings.most_similar(positive=[\"fish\"], negative=[\"water\"], topn=3)) \n",
    "\n",
    "# Can also obtain nearby vectors. Here of an example where we slightly modify \n",
    "# the \"woman\" vectors and test if we can get back the same bector using the most_similar function\n",
    "v = np.copy(embeddings[\"woman\"])\n",
    "v[0] += 0.2\n",
    "print(embeddings.most_similar(positive=[v], topn=1))"
   ]
  },
  {
   "cell_type": "markdown",
   "metadata": {
    "colab_type": "text",
    "id": "bF-OhBj7aFDY"
   },
   "source": [
    "![](https://drive.google.com/uc?export=view&id=1e9PxMNKjTXDx7KZDxHpC4ENmz0sXHl_g)"
   ]
  },
  {
   "cell_type": "markdown",
   "metadata": {},
   "source": [
    "Figure 1: Word embeddings organize terms based on the context in which they are used. All three example images demonstrate possible transformation functions that convey structure in the latent space. In the \"Male-Female\" image, there exists a function that relates male-oriented words to their corresponding female-oriented words. In the \"Verb Tense\" image, there exists a function that maps a present-tense word to its past-tense conjugation. In the \"Country-Capital\" image, there exists a function that relates a country to its corresponding capital city.\n",
    "\n",
    "_________________________________________"
   ]
  },
  {
   "cell_type": "markdown",
   "metadata": {
    "colab_type": "text",
    "id": "iuvUj83Fb1ug"
   },
   "source": [
    "## Preprocessing\n",
    "\n",
    "1. Split training data into individual tokens, ie: \"Here is a sentence\" --> \\[\"Here\" \"is\" \"a\" \"sentence\"\\]\n",
    "2. Use nltk to split training data into ngram phrases to feed into our LSTM network\n",
    "    - The model's architecture will automatically adjust based on ngram size\n",
    "3. Shuffle the data\n",
    "4. Split the data into training and validation"
   ]
  },
  {
   "cell_type": "code",
   "execution_count": 2,
   "metadata": {
    "colab": {
     "base_uri": "https://localhost:8080/",
     "height": 35
    },
    "colab_type": "code",
    "executionInfo": {
     "elapsed": 100774,
     "status": "ok",
     "timestamp": 1551835816464,
     "user": {
      "displayName": "Andy W",
      "photoUrl": "https://lh3.googleusercontent.com/-e2yB0x7o_ZY/AAAAAAAAAAI/AAAAAAAAJuw/nAsmHlehdlY/s64/photo.jpg",
      "userId": "17506489879312600830"
     },
     "user_tz": 480
    },
    "id": "mz9lUGnqWNGd",
    "outputId": "3d2647f0-20cf-417d-ac5c-105cf99e5803"
   },
   "outputs": [
    {
     "name": "stderr",
     "output_type": "stream",
     "text": [
      "[nltk_data] Downloading package punkt to\n",
      "[nltk_data]     C:\\Users\\Eric\\AppData\\Roaming\\nltk_data...\n",
      "[nltk_data]   Package punkt is already up-to-date!\n"
     ]
    }
   ],
   "source": [
    "import numpy as np\n",
    "import nltk\n",
    "nltk.download('punkt')\n",
    "from nltk.tokenize import word_tokenize\n",
    "\n",
    "\n",
    "def tokenizeFile(fileName: str) -> list:\n",
    "    '''Will take in the name of a txt file located in the base directory \n",
    "    of the drive and return a list of tokens. Tokens are defined to be\n",
    "    any nonzero sequence of characters.'''\n",
    "    tokens = []\n",
    "    with open(fileName, 'r', encoding=\"ISO-8859-1\") as file:\n",
    "        tokens = word_tokenize(file.read())\n",
    "    return tokens"
   ]
  },
  {
   "cell_type": "code",
   "execution_count": 26,
   "metadata": {
    "colab": {
     "base_uri": "https://localhost:8080/",
     "height": 35
    },
    "colab_type": "code",
    "executionInfo": {
     "elapsed": 100774,
     "status": "ok",
     "timestamp": 1551835816464,
     "user": {
      "displayName": "Andy W",
      "photoUrl": "https://lh3.googleusercontent.com/-e2yB0x7o_ZY/AAAAAAAAAAI/AAAAAAAAJuw/nAsmHlehdlY/s64/photo.jpg",
      "userId": "17506489879312600830"
     },
     "user_tz": 480
    },
    "id": "mz9lUGnqWNGd",
    "outputId": "3d2647f0-20cf-417d-ac5c-105cf99e5803"
   },
   "outputs": [],
   "source": [
    "# Used to generate new embeddings with random weights\n",
    "seed = 0\n",
    "# Used to store only the word vectors we come across in a file\n",
    "my_embeddings = gensim.models.keyedvectors.WordEmbeddingsKeyedVectors(300)\n",
    "\n",
    "\n",
    "def addNewEmbedding(token: str):\n",
    "    '''Adds a new word embedding to our vector set with randomly initialized values.\n",
    "    Returns the newly created embedding.'''\n",
    "    global seed\n",
    "    np.random.seed(seed)\n",
    "    seed += 1\n",
    "    weights = np.random.uniform(-1,1,300)\n",
    "    my_embeddings.add(token, weights)\n",
    "    return my_embeddings[token]\n",
    "\n",
    "\n",
    "def flipFirstChar(word: str) -> str:\n",
    "    '''Capitalizes/Un-capitalizes the first character of the word.\n",
    "    It is not garunteed that all terms in the WordNet corpus are lower\n",
    "    case or upper case. So if we can't find a term then it is a good \n",
    "    idea to fip the first character's case and try again. '''\n",
    "    if word[0].isupper():\n",
    "        return word[0].lower() + word[1:]\n",
    "    else:\n",
    "        return word[0].upper() + word[1:]\n",
    "\n",
    "\n",
    "def tokensToVectors(tokens: list) -> (list, list):\n",
    "    '''Convert a list of terms into a list of word embeddings. \n",
    "    If an embeddding exists for a term, we add it to our vector set.\n",
    "    If an embedding does not exist for a term, we create a new embedding and add it to our vector set.'''\n",
    "    vectors = []\n",
    "    unknownTokens = set()\n",
    "    for token in tokens:\n",
    "        # The vector exists in the GoogleNews vector set\n",
    "        if token in embeddings:\n",
    "            weights = embeddings[token]\n",
    "            vectors.append(weights)\n",
    "            my_embeddings.add(token, weights)\n",
    "        # The flipFirstChar'ed vector exists in the GoogleNews vector set\n",
    "        elif flipFirstChar(token) in embeddings:\n",
    "            weights = embeddings[flipFirstChar(token)]\n",
    "            vectors.append(weights)\n",
    "            my_embeddings.add(token, weights)\n",
    "        # The vector does not exist so make a new vector\n",
    "        else:\n",
    "            weights = addNewEmbedding(token)\n",
    "            vectors.append(weights)\n",
    "            unknownTokens.add(token)\n",
    "    return vectors, unknownTokens\n",
    "\n",
    "\n",
    "def phrasesToVectors(ngramList: list, summary=True) -> (list, list):\n",
    "    '''Calls wordsToVectors() on a list of lists. This function will be called\n",
    "       after data is split into ngrams. Each phrase in the code below operations\n",
    "       on a single ngram.'''\n",
    "    ngramVectorList = []\n",
    "    allUnknownTokens = set()\n",
    "    for tokens in ngramList:\n",
    "        vectors, unknownTokens = tokensToVectors(tokens)\n",
    "        ngramVectorList.append(vectors)\n",
    "        allUnknownTokens = allUnknownTokens.union(unknownTokens)  \n",
    "    if summary:\n",
    "        print(\"Number of training ngrams: \" + str(len(ngramVectorList)))\n",
    "        print(\"Number of unknown vector terms created: \" + str(len(allUnknownTokens)))\n",
    "    print(\"Shape of training set: \" + str(np.shape(ngramVectorList)))\n",
    "    return np.array(ngramVectorList, dtype=np.ndarray), allUnknownTokens"
   ]
  },
  {
   "cell_type": "code",
   "execution_count": 27,
   "metadata": {
    "colab": {
     "base_uri": "https://localhost:8080/",
     "height": 104
    },
    "colab_type": "code",
    "executionInfo": {
     "elapsed": 120045,
     "status": "ok",
     "timestamp": 1551835835756,
     "user": {
      "displayName": "Andy W",
      "photoUrl": "https://lh3.googleusercontent.com/-e2yB0x7o_ZY/AAAAAAAAAAI/AAAAAAAAJuw/nAsmHlehdlY/s64/photo.jpg",
      "userId": "17506489879312600830"
     },
     "user_tz": 480
    },
    "id": "uU-H6dNE5hT5",
    "outputId": "c658075b-f9ee-4869-e94c-47e7a3ab7e78"
   },
   "outputs": [
    {
     "name": "stdout",
     "output_type": "stream",
     "text": [
      "4435\n",
      "Number of training ngrams: 4430\n",
      "Number of unknown vector terms created: 149\n",
      "Shape of training set: (4430, 6, 300)\n",
      "Wall time: 19.1 s\n"
     ]
    }
   ],
   "source": [
    "%%time\n",
    "from nltk import ngrams\n",
    "\n",
    "# Cut number of words so we can fit everything in memory\n",
    "words_all = tokenizeFile(\"TheLordOfTheRings_Book1.txt\")\n",
    "words = words_all[:len(words_all)//50]\n",
    "print(len(words))\n",
    "# Change this parameter to decrease or increase the size of the training samples\n",
    "N = 5\n",
    "ngrams_words = ngrams(words, N + 1)\n",
    "ngram_vectors_original, _ = phrasesToVectors(ngrams_words)"
   ]
  },
  {
   "cell_type": "code",
   "execution_count": 28,
   "metadata": {
    "colab": {
     "base_uri": "https://localhost:8080/",
     "height": 87
    },
    "colab_type": "code",
    "executionInfo": {
     "elapsed": 120030,
     "status": "ok",
     "timestamp": 1551835835763,
     "user": {
      "displayName": "Andy W",
      "photoUrl": "https://lh3.googleusercontent.com/-e2yB0x7o_ZY/AAAAAAAAAAI/AAAAAAAAJuw/nAsmHlehdlY/s64/photo.jpg",
      "userId": "17506489879312600830"
     },
     "user_tz": 480
    },
    "id": "qEfgIpp15hT9",
    "outputId": "f7ff6c92-2cc2-42d3-97ee-6f07d59551eb"
   },
   "outputs": [
    {
     "name": "stdout",
     "output_type": "stream",
     "text": [
      "Samples Shape: (4430, 6, 300)\n",
      "Wall time: 60.8 ms\n"
     ]
    }
   ],
   "source": [
    "%%time\n",
    "# This block of code cuts the data to make training go faster during experimentation\n",
    "def divideSamplesBy(divisor: int, ngram_vectors_original):\n",
    "    total_size = np.size(ngram_vectors_original, axis=0)\n",
    "    ngram_vectors = ngram_vectors_original[:total_size//divisor]\n",
    "    adjusted_size = np.size(ngram_vectors, axis=0)\n",
    "    percentage = (adjusted_size/total_size) * 100\n",
    "    print(\"Using %.2f percent of samples\" % percentage)\n",
    "    return ngram_vectors\n",
    "    \n",
    "# ngram_vectors = divideSamplesBy(100, ngram_vectors_original)\n",
    "# ngram_vectors = divideSamplesBy(20, ngram_vectors_original)\n",
    "# ngram_vectors = divideSamplesBy(1, ngram_vectors_original)\n",
    "ngram_vectors = ngram_vectors_original\n",
    "\n",
    "np.random.shuffle(ngram_vectors)\n",
    "\n",
    "print(\"Samples Shape: \" + str(ngram_vectors.shape))"
   ]
  },
  {
   "cell_type": "markdown",
   "metadata": {
    "colab_type": "text",
    "id": "cBUN5Hjf5hUA"
   },
   "source": [
    "### Training/Validation Split\n",
    "First we will set aside some data for validation. The default is 10% of the data\n",
    "\n",
    "Each phrase (element) in ngram_vectors will be split into two parts. All the terms preceeding the last term will be used to predict the last term. So, if we have an array of phrases of size six, then these phrases will be split into two arrays of equal size. For example: \n",
    "\n",
    "phrase: \\[This tale grew in the telling\\]\n",
    " - input data = \\[This tale grew in the\\]\n",
    " - expected output = \\[tale grew in the telling\\]"
   ]
  },
  {
   "cell_type": "code",
   "execution_count": 29,
   "metadata": {
    "colab": {
     "base_uri": "https://localhost:8080/",
     "height": 52
    },
    "colab_type": "code",
    "executionInfo": {
     "elapsed": 120016,
     "status": "ok",
     "timestamp": 1551835835768,
     "user": {
      "displayName": "Andy W",
      "photoUrl": "https://lh3.googleusercontent.com/-e2yB0x7o_ZY/AAAAAAAAAAI/AAAAAAAAJuw/nAsmHlehdlY/s64/photo.jpg",
      "userId": "17506489879312600830"
     },
     "user_tz": 480
    },
    "id": "6l2HRpsmaK84",
    "outputId": "c0b380ba-6ab6-4836-e401-7b5f6cc38358"
   },
   "outputs": [
    {
     "name": "stdout",
     "output_type": "stream",
     "text": [
      "Training Input: (3987, 5, 300), Training Predict: (3987, 5, 300)\n",
      "Validation Input: (443, 5, 300), Validation Predict: (443, 5, 300)\n"
     ]
    }
   ],
   "source": [
    "import math\n",
    "\n",
    "# Split data into training and validation\n",
    "split = math.floor(np.size(ngram_vectors, axis=0) * 0.9)\n",
    "training = ngram_vectors[:split,:,:]\n",
    "validation = ngram_vectors[split:,:,:]\n",
    "\n",
    "# Split the training and validation data as discussed above ^\n",
    "train_input = training[:,:-1,:]\n",
    "# train_predict = np.expand_dims(training[:,-1,:], axis=1)\n",
    "train_predict = training[:,1:,:]\n",
    "\n",
    "\n",
    "validation_input = validation[:,:-1,:]\n",
    "# validation_predict = np.expand_dims(validation[:,-1,:], axis=1)\n",
    "validation_predict = validation[:,1:,:]\n",
    "\n",
    "print(\"Training Input: \" + str(train_input.shape) + \", Training Predict: \" + str(train_predict.shape))\n",
    "print(\"Validation Input: \" + str(validation_input.shape) + \", Validation Predict: \" + str(validation_predict.shape))"
   ]
  },
  {
   "cell_type": "markdown",
   "metadata": {
    "colab_type": "text",
    "id": "tOYI6ZRM5hUE"
   },
   "source": [
    "## Architecture Explaination\n",
    "\n",
    "### NOTE: Should Sigmoid be tanh because vectors are [-1, 1]\n",
    "\n",
    "- The input shape is 300 because we take in each dimension of the word embedding as input\n",
    "- Sigmoid activations are used because word embeddings are normalized betweeen zero and one\n",
    "- Loss is cosine similarity because word2vec also uses cosine similarity to measure the distance between word vectors"
   ]
  },
  {
   "cell_type": "code",
   "execution_count": 30,
   "metadata": {
    "colab": {
     "base_uri": "https://localhost:8080/",
     "height": 349
    },
    "colab_type": "code",
    "executionInfo": {
     "elapsed": 121155,
     "status": "ok",
     "timestamp": 1551835836935,
     "user": {
      "displayName": "Andy W",
      "photoUrl": "https://lh3.googleusercontent.com/-e2yB0x7o_ZY/AAAAAAAAAAI/AAAAAAAAJuw/nAsmHlehdlY/s64/photo.jpg",
      "userId": "17506489879312600830"
     },
     "user_tz": 480
    },
    "id": "CymWYziXllRA",
    "outputId": "22e50a6c-fb33-4373-9d7b-c805e272890b"
   },
   "outputs": [
    {
     "name": "stdout",
     "output_type": "stream",
     "text": [
      "Input Shape: (5, 300)\n",
      "_________________________________________________________________\n",
      "Layer (type)                 Output Shape              Param #   \n",
      "=================================================================\n",
      "lstm_7 (LSTM)                (None, 5, 300)            721200    \n",
      "_________________________________________________________________\n",
      "lstm_8 (LSTM)                (None, 5, 300)            721200    \n",
      "_________________________________________________________________\n",
      "dense_4 (Dense)              (None, 5, 300)            90300     \n",
      "=================================================================\n",
      "Total params: 1,532,700\n",
      "Trainable params: 1,532,700\n",
      "Non-trainable params: 0\n",
      "_________________________________________________________________\n",
      "None\n"
     ]
    }
   ],
   "source": [
    "from tensorflow.keras.models import Sequential\n",
    "from keras.models import Sequential\n",
    "from keras.layers import LSTM, Dense\n",
    "\n",
    "input_shape=(N, 300)\n",
    "print(\"Input Shape: \" + str(input_shape))\n",
    "\n",
    "model = Sequential()  \n",
    "model.add(LSTM(300, input_shape=input_shape, return_sequences=True, activation='tanh'))\n",
    "model.add(LSTM(300, return_sequences=True, activation='tanh'))\n",
    "model.add(Dense(300))\n",
    "\n",
    "model.compile(loss='cosine_proximity', optimizer='adam',metrics=['accuracy'])\n",
    "print(model.summary())"
   ]
  },
  {
   "cell_type": "code",
   "execution_count": 35,
   "metadata": {
    "colab": {
     "base_uri": "https://localhost:8080/",
     "height": 7075
    },
    "colab_type": "code",
    "executionInfo": {
     "elapsed": 350005,
     "status": "ok",
     "timestamp": 1551836065824,
     "user": {
      "displayName": "Andy W",
      "photoUrl": "https://lh3.googleusercontent.com/-e2yB0x7o_ZY/AAAAAAAAAAI/AAAAAAAAJuw/nAsmHlehdlY/s64/photo.jpg",
      "userId": "17506489879312600830"
     },
     "user_tz": 480
    },
    "id": "UaStJMjKWf7Y",
    "outputId": "9ae8ee3c-0f48-4cbe-eaa8-0eb90a562a03"
   },
   "outputs": [
    {
     "name": "stdout",
     "output_type": "stream",
     "text": [
      "Train on 3987 samples, validate on 443 samples\n",
      "Epoch 1/100\n",
      " - 3s - loss: -8.3796e-01 - acc: 0.4451 - val_loss: -7.5254e-01 - val_acc: 0.3458\n",
      "Epoch 2/100\n",
      " - 3s - loss: -8.3750e-01 - acc: 0.4386 - val_loss: -7.5281e-01 - val_acc: 0.3549\n",
      "Epoch 3/100\n",
      " - 3s - loss: -8.4057e-01 - acc: 0.4436 - val_loss: -7.5670e-01 - val_acc: 0.3427\n",
      "Epoch 4/100\n",
      " - 3s - loss: -8.4283e-01 - acc: 0.4517 - val_loss: -7.5700e-01 - val_acc: 0.3585\n",
      "Epoch 5/100\n",
      " - 3s - loss: -8.4418e-01 - acc: 0.4482 - val_loss: -7.5770e-01 - val_acc: 0.3562\n",
      "Epoch 6/100\n",
      " - 3s - loss: -8.4520e-01 - acc: 0.4512 - val_loss: -7.5935e-01 - val_acc: 0.3576\n",
      "Epoch 7/100\n",
      " - 3s - loss: -8.4646e-01 - acc: 0.4556 - val_loss: -7.5984e-01 - val_acc: 0.3585\n",
      "Epoch 8/100\n",
      " - 3s - loss: -8.4730e-01 - acc: 0.4600 - val_loss: -7.5848e-01 - val_acc: 0.3530\n",
      "Epoch 9/100\n",
      " - 3s - loss: -8.4806e-01 - acc: 0.4574 - val_loss: -7.6179e-01 - val_acc: 0.3666\n",
      "Epoch 10/100\n",
      " - 3s - loss: -8.4859e-01 - acc: 0.4591 - val_loss: -7.6151e-01 - val_acc: 0.3625\n",
      "Epoch 11/100\n",
      " - 3s - loss: -8.4902e-01 - acc: 0.4620 - val_loss: -7.6199e-01 - val_acc: 0.3589\n",
      "Epoch 12/100\n",
      " - 3s - loss: -8.4979e-01 - acc: 0.4651 - val_loss: -7.6126e-01 - val_acc: 0.3630\n",
      "Epoch 13/100\n",
      " - 3s - loss: -8.4990e-01 - acc: 0.4654 - val_loss: -7.6091e-01 - val_acc: 0.3562\n",
      "Epoch 14/100\n",
      " - 3s - loss: -8.5076e-01 - acc: 0.4655 - val_loss: -7.6210e-01 - val_acc: 0.3707\n",
      "Epoch 15/100\n",
      " - 3s - loss: -8.5131e-01 - acc: 0.4664 - val_loss: -7.6213e-01 - val_acc: 0.3684\n",
      "Epoch 16/100\n",
      " - 3s - loss: -8.5189e-01 - acc: 0.4659 - val_loss: -7.6421e-01 - val_acc: 0.3675\n",
      "Epoch 17/100\n",
      " - 3s - loss: -8.5181e-01 - acc: 0.4709 - val_loss: -7.6298e-01 - val_acc: 0.3607\n",
      "Epoch 18/100\n",
      " - 3s - loss: -8.5246e-01 - acc: 0.4681 - val_loss: -7.6286e-01 - val_acc: 0.3711\n",
      "Epoch 19/100\n",
      " - 3s - loss: -8.5296e-01 - acc: 0.4721 - val_loss: -7.6389e-01 - val_acc: 0.3684\n",
      "Epoch 20/100\n",
      " - 3s - loss: -8.5323e-01 - acc: 0.4728 - val_loss: -7.6277e-01 - val_acc: 0.3716\n",
      "Epoch 21/100\n",
      " - 3s - loss: -8.5367e-01 - acc: 0.4746 - val_loss: -7.6354e-01 - val_acc: 0.3729\n",
      "Epoch 22/100\n",
      " - 3s - loss: -8.5420e-01 - acc: 0.4751 - val_loss: -7.6403e-01 - val_acc: 0.3679\n",
      "Epoch 23/100\n",
      " - 3s - loss: -8.5419e-01 - acc: 0.4727 - val_loss: -7.6454e-01 - val_acc: 0.3747\n",
      "Epoch 24/100\n",
      " - 3s - loss: -8.5474e-01 - acc: 0.4775 - val_loss: -7.6439e-01 - val_acc: 0.3589\n",
      "Epoch 25/100\n",
      " - 3s - loss: -8.5529e-01 - acc: 0.4757 - val_loss: -7.6305e-01 - val_acc: 0.3707\n",
      "Epoch 26/100\n",
      " - 3s - loss: -8.5541e-01 - acc: 0.4817 - val_loss: -7.6437e-01 - val_acc: 0.3684\n",
      "Epoch 27/100\n",
      " - 3s - loss: -8.5563e-01 - acc: 0.4824 - val_loss: -7.6557e-01 - val_acc: 0.3752\n",
      "Epoch 28/100\n",
      " - 3s - loss: -8.5611e-01 - acc: 0.4821 - val_loss: -7.6529e-01 - val_acc: 0.3621\n",
      "Epoch 29/100\n",
      " - 3s - loss: -8.5591e-01 - acc: 0.4783 - val_loss: -7.6636e-01 - val_acc: 0.3684\n",
      "Epoch 30/100\n",
      " - 3s - loss: -8.5654e-01 - acc: 0.4759 - val_loss: -7.6664e-01 - val_acc: 0.3743\n",
      "Epoch 31/100\n",
      " - 3s - loss: -8.5687e-01 - acc: 0.4823 - val_loss: -7.6484e-01 - val_acc: 0.3603\n",
      "Epoch 32/100\n",
      " - 3s - loss: -8.5729e-01 - acc: 0.4814 - val_loss: -7.6586e-01 - val_acc: 0.3670\n",
      "Epoch 33/100\n",
      " - 3s - loss: -8.5747e-01 - acc: 0.4882 - val_loss: -7.6691e-01 - val_acc: 0.3688\n",
      "Epoch 34/100\n",
      " - 3s - loss: -8.5783e-01 - acc: 0.4810 - val_loss: -7.6556e-01 - val_acc: 0.3765\n",
      "Epoch 35/100\n",
      " - 3s - loss: -8.5804e-01 - acc: 0.4876 - val_loss: -7.6725e-01 - val_acc: 0.3720\n",
      "Epoch 36/100\n",
      " - 3s - loss: -8.5797e-01 - acc: 0.4866 - val_loss: -7.6662e-01 - val_acc: 0.3716\n",
      "Epoch 37/100\n",
      " - 3s - loss: -8.5864e-01 - acc: 0.4877 - val_loss: -7.6625e-01 - val_acc: 0.3734\n",
      "Epoch 38/100\n",
      " - 3s - loss: -8.5869e-01 - acc: 0.4851 - val_loss: -7.6581e-01 - val_acc: 0.3806\n",
      "Epoch 39/100\n",
      " - 3s - loss: -8.5950e-01 - acc: 0.4887 - val_loss: -7.6601e-01 - val_acc: 0.3729\n",
      "Epoch 40/100\n",
      " - 3s - loss: -8.5944e-01 - acc: 0.4896 - val_loss: -7.6657e-01 - val_acc: 0.3756\n",
      "Epoch 41/100\n",
      " - 3s - loss: -8.5968e-01 - acc: 0.4905 - val_loss: -7.6684e-01 - val_acc: 0.3765\n",
      "Epoch 42/100\n",
      " - 3s - loss: -8.5979e-01 - acc: 0.4904 - val_loss: -7.6701e-01 - val_acc: 0.3738\n",
      "Epoch 43/100\n",
      " - 3s - loss: -8.6016e-01 - acc: 0.4917 - val_loss: -7.6669e-01 - val_acc: 0.3792\n",
      "Epoch 44/100\n",
      " - 3s - loss: -8.6031e-01 - acc: 0.4907 - val_loss: -7.6690e-01 - val_acc: 0.3765\n",
      "Epoch 45/100\n",
      " - 3s - loss: -8.6052e-01 - acc: 0.4948 - val_loss: -7.6713e-01 - val_acc: 0.3797\n",
      "Epoch 46/100\n",
      " - 3s - loss: -8.6075e-01 - acc: 0.4909 - val_loss: -7.6726e-01 - val_acc: 0.3761\n",
      "Epoch 47/100\n",
      " - 3s - loss: -8.6098e-01 - acc: 0.4951 - val_loss: -7.6620e-01 - val_acc: 0.3725\n",
      "Epoch 48/100\n",
      " - 3s - loss: -8.6105e-01 - acc: 0.4935 - val_loss: -7.6647e-01 - val_acc: 0.3661\n",
      "Epoch 49/100\n",
      " - 3s - loss: -8.6151e-01 - acc: 0.4944 - val_loss: -7.6850e-01 - val_acc: 0.3648\n",
      "Epoch 50/100\n",
      " - 3s - loss: -8.6145e-01 - acc: 0.4959 - val_loss: -7.6828e-01 - val_acc: 0.3738\n",
      "Epoch 51/100\n",
      " - 3s - loss: -8.6157e-01 - acc: 0.4928 - val_loss: -7.6767e-01 - val_acc: 0.3792\n",
      "Epoch 52/100\n",
      " - 3s - loss: -8.6195e-01 - acc: 0.4978 - val_loss: -7.6808e-01 - val_acc: 0.3738\n",
      "Epoch 53/100\n",
      " - 3s - loss: -8.6217e-01 - acc: 0.4945 - val_loss: -7.6774e-01 - val_acc: 0.3810\n",
      "Epoch 54/100\n",
      " - 3s - loss: -8.6245e-01 - acc: 0.4987 - val_loss: -7.6824e-01 - val_acc: 0.3801\n",
      "Epoch 55/100\n",
      " - 3s - loss: -8.6279e-01 - acc: 0.5011 - val_loss: -7.6902e-01 - val_acc: 0.3824\n",
      "Epoch 56/100\n",
      " - 3s - loss: -8.6284e-01 - acc: 0.5028 - val_loss: -7.6848e-01 - val_acc: 0.3679\n",
      "Epoch 57/100\n",
      " - 3s - loss: -8.6298e-01 - acc: 0.4983 - val_loss: -7.6836e-01 - val_acc: 0.3819\n",
      "Epoch 58/100\n",
      " - 3s - loss: -8.6287e-01 - acc: 0.4988 - val_loss: -7.6963e-01 - val_acc: 0.3770\n",
      "Epoch 59/100\n",
      " - 3s - loss: -8.6323e-01 - acc: 0.4994 - val_loss: -7.6743e-01 - val_acc: 0.3670\n",
      "Epoch 60/100\n",
      " - 3s - loss: -8.6352e-01 - acc: 0.5047 - val_loss: -7.6800e-01 - val_acc: 0.3725\n",
      "Epoch 61/100\n",
      " - 3s - loss: -8.6359e-01 - acc: 0.5035 - val_loss: -7.6944e-01 - val_acc: 0.3801\n",
      "Epoch 62/100\n",
      " - 3s - loss: -8.6425e-01 - acc: 0.5065 - val_loss: -7.6889e-01 - val_acc: 0.3865\n",
      "Epoch 63/100\n",
      " - 3s - loss: -8.6443e-01 - acc: 0.5014 - val_loss: -7.6784e-01 - val_acc: 0.3869\n",
      "Epoch 64/100\n",
      " - 3s - loss: -8.6418e-01 - acc: 0.5024 - val_loss: -7.6860e-01 - val_acc: 0.3837\n",
      "Epoch 65/100\n",
      " - 3s - loss: -8.6434e-01 - acc: 0.5047 - val_loss: -7.6887e-01 - val_acc: 0.3819\n",
      "Epoch 66/100\n",
      " - 3s - loss: -8.6449e-01 - acc: 0.5049 - val_loss: -7.6943e-01 - val_acc: 0.3801\n",
      "Epoch 67/100\n",
      " - 3s - loss: -8.6490e-01 - acc: 0.5064 - val_loss: -7.6883e-01 - val_acc: 0.3847\n",
      "Epoch 68/100\n",
      " - 3s - loss: -8.6491e-01 - acc: 0.5085 - val_loss: -7.7009e-01 - val_acc: 0.3774\n",
      "Epoch 69/100\n",
      " - 3s - loss: -8.6517e-01 - acc: 0.5079 - val_loss: -7.6925e-01 - val_acc: 0.3883\n",
      "Epoch 70/100\n",
      " - 3s - loss: -8.6519e-01 - acc: 0.5109 - val_loss: -7.6941e-01 - val_acc: 0.3883\n",
      "Epoch 71/100\n",
      " - 3s - loss: -8.6543e-01 - acc: 0.5100 - val_loss: -7.6815e-01 - val_acc: 0.3860\n",
      "Epoch 72/100\n",
      " - 3s - loss: -8.6540e-01 - acc: 0.5088 - val_loss: -7.6911e-01 - val_acc: 0.3883\n",
      "Epoch 73/100\n",
      " - 3s - loss: -8.6548e-01 - acc: 0.5098 - val_loss: -7.6891e-01 - val_acc: 0.3837\n",
      "Epoch 74/100\n",
      " - 3s - loss: -8.6595e-01 - acc: 0.5092 - val_loss: -7.6828e-01 - val_acc: 0.4009\n",
      "Epoch 75/100\n",
      " - 3s - loss: -8.6596e-01 - acc: 0.5150 - val_loss: -7.6875e-01 - val_acc: 0.3847\n",
      "Epoch 76/100\n",
      " - 3s - loss: -8.6606e-01 - acc: 0.5090 - val_loss: -7.6963e-01 - val_acc: 0.3774\n",
      "Epoch 77/100\n",
      " - 3s - loss: -8.6639e-01 - acc: 0.5106 - val_loss: -7.6926e-01 - val_acc: 0.3837\n",
      "Epoch 78/100\n",
      " - 3s - loss: -8.6646e-01 - acc: 0.5125 - val_loss: -7.6905e-01 - val_acc: 0.3828\n",
      "Epoch 79/100\n",
      " - 3s - loss: -8.6639e-01 - acc: 0.5153 - val_loss: -7.6964e-01 - val_acc: 0.3883\n",
      "Epoch 80/100\n",
      " - 3s - loss: -8.6678e-01 - acc: 0.5138 - val_loss: -7.6923e-01 - val_acc: 0.3837\n",
      "Epoch 81/100\n",
      " - 3s - loss: -8.6682e-01 - acc: 0.5153 - val_loss: -7.6948e-01 - val_acc: 0.3883\n",
      "Epoch 82/100\n",
      " - 3s - loss: -8.6693e-01 - acc: 0.5153 - val_loss: -7.6977e-01 - val_acc: 0.3883\n",
      "Epoch 83/100\n",
      " - 3s - loss: -8.6724e-01 - acc: 0.5146 - val_loss: -7.7040e-01 - val_acc: 0.3919\n",
      "Epoch 84/100\n",
      " - 3s - loss: -8.6736e-01 - acc: 0.5161 - val_loss: -7.6955e-01 - val_acc: 0.3860\n",
      "Epoch 85/100\n",
      " - 3s - loss: -8.6771e-01 - acc: 0.5153 - val_loss: -7.6895e-01 - val_acc: 0.3937\n",
      "Epoch 86/100\n",
      " - 3s - loss: -8.6765e-01 - acc: 0.5186 - val_loss: -7.6925e-01 - val_acc: 0.3869\n"
     ]
    },
    {
     "name": "stdout",
     "output_type": "stream",
     "text": [
      "Epoch 87/100\n",
      " - 3s - loss: -8.6776e-01 - acc: 0.5134 - val_loss: -7.7019e-01 - val_acc: 0.3910\n",
      "Epoch 88/100\n",
      " - 3s - loss: -8.6785e-01 - acc: 0.5153 - val_loss: -7.6972e-01 - val_acc: 0.3937\n",
      "Epoch 89/100\n",
      " - 3s - loss: -8.6810e-01 - acc: 0.5200 - val_loss: -7.7005e-01 - val_acc: 0.3923\n",
      "Epoch 90/100\n",
      " - 3s - loss: -8.6811e-01 - acc: 0.5179 - val_loss: -7.6923e-01 - val_acc: 0.3874\n",
      "Epoch 91/100\n",
      " - 3s - loss: -8.6828e-01 - acc: 0.5187 - val_loss: -7.6989e-01 - val_acc: 0.3959\n",
      "Epoch 92/100\n",
      " - 3s - loss: -8.6848e-01 - acc: 0.5199 - val_loss: -7.6991e-01 - val_acc: 0.3910\n",
      "Epoch 93/100\n",
      " - 3s - loss: -8.6843e-01 - acc: 0.5211 - val_loss: -7.6968e-01 - val_acc: 0.3851\n",
      "Epoch 94/100\n",
      " - 3s - loss: -8.6866e-01 - acc: 0.5221 - val_loss: -7.7033e-01 - val_acc: 0.3851\n",
      "Epoch 95/100\n",
      " - 3s - loss: -8.6880e-01 - acc: 0.5240 - val_loss: -7.6964e-01 - val_acc: 0.4027\n",
      "Epoch 96/100\n",
      " - 3s - loss: -8.6882e-01 - acc: 0.5200 - val_loss: -7.6965e-01 - val_acc: 0.3856\n",
      "Epoch 97/100\n",
      " - 3s - loss: -8.6897e-01 - acc: 0.5277 - val_loss: -7.7036e-01 - val_acc: 0.3847\n",
      "Epoch 98/100\n",
      " - 3s - loss: -8.6906e-01 - acc: 0.5245 - val_loss: -7.6988e-01 - val_acc: 0.3959\n",
      "Epoch 99/100\n",
      " - 3s - loss: -8.6933e-01 - acc: 0.5247 - val_loss: -7.7085e-01 - val_acc: 0.3878\n",
      "Epoch 100/100\n",
      " - 3s - loss: -8.6934e-01 - acc: 0.5234 - val_loss: -7.7084e-01 - val_acc: 0.3905\n",
      "Wall time: 4min 22s\n"
     ]
    }
   ],
   "source": [
    "%%time\n",
    "history = model.fit(train_input, train_predict, epochs=100, batch_size=32, verbose=2, validation_data=(validation_input, validation_predict))"
   ]
  },
  {
   "cell_type": "code",
   "execution_count": null,
   "metadata": {
    "colab": {
     "base_uri": "https://localhost:8080/",
     "height": 35
    },
    "colab_type": "code",
    "executionInfo": {
     "elapsed": 349991,
     "status": "ok",
     "timestamp": 1551836065836,
     "user": {
      "displayName": "Andy W",
      "photoUrl": "https://lh3.googleusercontent.com/-e2yB0x7o_ZY/AAAAAAAAAAI/AAAAAAAAJuw/nAsmHlehdlY/s64/photo.jpg",
      "userId": "17506489879312600830"
     },
     "user_tz": 480
    },
    "id": "3nQcAI8a5hUN",
    "outputId": "7230efd2-3d24-469f-ab8c-e7650feb0fb0"
   },
   "outputs": [],
   "source": [
    "# serialize model to JSON\n",
    "model_json = model.to_json()\n",
    "with open(\"model_3LSTM_1Dense_5PercentDAta_400Epochs.json\", \"w\") as json_file:\n",
    "    json_file.write(model_json)\n",
    "# serialize weights to HDF5\n",
    "model.save_weights(\"model_Weights_3LSTM_1Dense_5PercentDAta_400Epochs.h5\")\n",
    "print(\"Saved model to disk\")"
   ]
  },
  {
   "cell_type": "code",
   "execution_count": 36,
   "metadata": {
    "colab": {},
    "colab_type": "code",
    "id": "f_tzFZDEhjxD"
   },
   "outputs": [],
   "source": [
    "from matplotlib import pyplot as plt\n",
    "\n",
    "def plot_accuracy(history):\n",
    "  plt.plot(history.history['acc'],label='train')\n",
    "  if 'val_acc' in history.history:\n",
    "    plt.plot(history.history['val_acc'],label='val')\n",
    "  plt.xlabel('Epoch')\n",
    "  plt.ylabel('Accuracy')\n",
    "  plt.legend()\n",
    "  plt.title('Accuracy during Training')\n",
    "  plt.show()\n",
    "  \n",
    "def plot_loss(history):\n",
    "  plt.plot(history.history['loss'],label='train')\n",
    "  if 'val_loss' in history.history:\n",
    "    plt.plot(history.history['val_loss'],label='val')\n",
    "  plt.xlabel('Epoch')\n",
    "  plt.ylabel('Loss')\n",
    "  plt.legend()\n",
    "  plt.title('Loss during Training')\n",
    "  plt.show()"
   ]
  },
  {
   "cell_type": "code",
   "execution_count": 37,
   "metadata": {
    "colab": {
     "base_uri": "https://localhost:8080/",
     "height": 377
    },
    "colab_type": "code",
    "executionInfo": {
     "elapsed": 350738,
     "status": "ok",
     "timestamp": 1551836066606,
     "user": {
      "displayName": "Andy W",
      "photoUrl": "https://lh3.googleusercontent.com/-e2yB0x7o_ZY/AAAAAAAAAAI/AAAAAAAAJuw/nAsmHlehdlY/s64/photo.jpg",
      "userId": "17506489879312600830"
     },
     "user_tz": 480
    },
    "id": "_Z6NaUjF5hUT",
    "outputId": "db8a1159-369a-4ebb-ba7b-c99cd9cd31f0"
   },
   "outputs": [
    {
     "data": {
      "image/png": "[encoded data removed]",
      "text/plain": [
       "<Figure size 432x288 with 1 Axes>"
      ]
     },
     "metadata": {
      "needs_background": "light"
     },
     "output_type": "display_data"
    }
   ],
   "source": [
    "plot_accuracy(history)"
   ]
  },
  {
   "cell_type": "code",
   "execution_count": 38,
   "metadata": {
    "colab": {
     "base_uri": "https://localhost:8080/",
     "height": 377
    },
    "colab_type": "code",
    "executionInfo": {
     "elapsed": 350720,
     "status": "ok",
     "timestamp": 1551836066609,
     "user": {
      "displayName": "Andy W",
      "photoUrl": "https://lh3.googleusercontent.com/-e2yB0x7o_ZY/AAAAAAAAAAI/AAAAAAAAJuw/nAsmHlehdlY/s64/photo.jpg",
      "userId": "17506489879312600830"
     },
     "user_tz": 480
    },
    "id": "977XiQEf5hUX",
    "outputId": "9658bc01-9776-4f87-c022-809899b15d16"
   },
   "outputs": [
    {
     "data": {
      "image/png": "[encoded data removed]",
      "text/plain": [
       "<Figure size 432x288 with 1 Axes>"
      ]
     },
     "metadata": {
      "needs_background": "light"
     },
     "output_type": "display_data"
    }
   ],
   "source": [
    "plot_loss(history)"
   ]
  },
  {
   "cell_type": "code",
   "execution_count": null,
   "metadata": {
    "colab": {},
    "colab_type": "code",
    "id": "NC4z1ovE5hUZ"
   },
   "outputs": [],
   "source": [
    "from keras.models import model_from_json\n",
    "\n",
    "importFile('model_3LSTM_1Dense_5PercentDAta_400Epochs.json', '')\n",
    "importFile('model_Weights_3LSTM_1Dense_5PercentDAta_400Epochs.h5', '')\n",
    "\n",
    "# load json and create model if not already created\n",
    "json_file = open('model_3LSTM_1Dense_5PercentDAta_400Epochs.json', 'r')\n",
    "loaded_model_json = json_file.read()\n",
    "json_file.close()\n",
    "model = model_from_json(loaded_model_json)\n",
    "# load weights into new model\n",
    "model.load_weights(\"model_Weights_3LSTM_1Dense_5PercentDAta_400Epochs.h5\")\n",
    "print(\"Loaded model from disk\")"
   ]
  },
  {
   "cell_type": "markdown",
   "metadata": {
    "colab_type": "text",
    "id": "gEIj2vesfkV2"
   },
   "source": [
    "## Text Prediction\n",
    "\n",
    "Here we demonstrate the predictive nature of our model. In order to make a prediction, our model must be provided a seed. The seed must be equal to N (defined above as the input size to our model). In the example shown below, we seed our model with the first phrase of the book \"This tale grew in the\" and we expect each prediction to be the next word in the phrase, such as \"tale grew in the telling.\" The correct pairings are as follows:\n",
    "\n",
    "This => tale\n",
    "\n",
    "tale => grew\n",
    "\n",
    "grew => in\n",
    "\n",
    "in => the\n",
    "\n",
    "the => telling"
   ]
  },
  {
   "cell_type": "code",
   "execution_count": 42,
   "metadata": {
    "colab": {
     "base_uri": "https://localhost:8080/",
     "height": 211
    },
    "colab_type": "code",
    "executionInfo": {
     "elapsed": 938,
     "status": "ok",
     "timestamp": 1551836079609,
     "user": {
      "displayName": "Andy W",
      "photoUrl": "https://lh3.googleusercontent.com/-e2yB0x7o_ZY/AAAAAAAAAAI/AAAAAAAAJuw/nAsmHlehdlY/s64/photo.jpg",
      "userId": "17506489879312600830"
     },
     "user_tz": 480
    },
    "id": "7V2LweZcjqfG",
    "outputId": "34fdb3f4-e131-4fa6-e38b-2ff85b028da7"
   },
   "outputs": [
    {
     "name": "stdout",
     "output_type": "stream",
     "text": [
      "This => [('book', 0.6597087383270264)]\n",
      "tale => [('grew', 0.88482666015625)]\n",
      "grew => [('in', 0.9944294691085815)]\n",
      "in => [('the', 0.9967352151870728)]\n",
      "the => [('telling', 0.9430216550827026)]\n"
     ]
    }
   ],
   "source": [
    "def getTestingPhrase(sentence: str):\n",
    "  if len(sentence.split()) != N:\n",
    "    print(\"Sentence must contain exactly \" + str(N) + \" words.\")\n",
    "    return None\n",
    "  return np.array([my_embeddings[i] for i in sentence.split()])\n",
    "\n",
    "\n",
    "def printPredictions(predictions, testingPhrase):\n",
    "  num_outputs = predictions.shape[1]\n",
    "  for i in range(num_outputs):\n",
    "    print(testingPhrase.split()[i] + \" => \", end='')\n",
    "    print(my_embeddings.most_similar(positive=[predictions[0][i]], topn=1))\n",
    "\n",
    "    \n",
    "# This tale grew in the telling\n",
    "testingPhrase = \"This tale grew in the\"\n",
    "test_input = getTestingPhrase(testingPhrase)\n",
    "test_input = np.expand_dims(test_input, axis=0)\n",
    "predictions = model.predict(test_input)\n",
    "printPredictions(predictions, testingPhrase)"
   ]
  },
  {
   "cell_type": "markdown",
   "metadata": {},
   "source": [
    "It appears that our model has done a decent job memorizing sequences of text from the book. When input the phrase \"This tale grew in the\", our model predicted incorrectly that the next word would be \"book.\" However, the model indicated that this prediction with ~66% accuracy, which is expectly low because the model has very little context. \n",
    "\n",
    "The accuracy of the next predicted word is much higher, from ~66% to ~88%, and is able to correctly predict the expected word. This shows that our model is able to make helpful predictions with as little as two context terms. The model correctly predicts all subsequent terms in the example phrase."
   ]
  },
  {
   "cell_type": "markdown",
   "metadata": {
    "colab_type": "text",
    "id": "yi1_wqi0fhT2"
   },
   "source": [
    "## Text Generation"
   ]
  },
  {
   "cell_type": "code",
   "execution_count": 25,
   "metadata": {
    "colab": {
     "base_uri": "https://localhost:8080/",
     "height": 436
    },
    "colab_type": "code",
    "executionInfo": {
     "elapsed": 1215,
     "status": "ok",
     "timestamp": 1551836084962,
     "user": {
      "displayName": "Andy W",
      "photoUrl": "https://lh3.googleusercontent.com/-e2yB0x7o_ZY/AAAAAAAAAAI/AAAAAAAAJuw/nAsmHlehdlY/s64/photo.jpg",
      "userId": "17506489879312600830"
     },
     "user_tz": 480
    },
    "id": "ygf_m4qVfgGd",
    "outputId": "9a2d316e-449f-41b4-9852-9a1cae638a8d"
   },
   "outputs": [
    {
     "name": "stdout",
     "output_type": "stream",
     "text": [
      "Those who had asked for more information about ;\n",
      "Those who had asked for more information about ; have\n",
      "Those who had asked for more information about ; have they\n",
      "Those who had asked for more information about ; have they moved\n",
      "Those who had asked for more information about ; have they moved plied\n",
      "Those who had asked for more information about ; have they moved plied variety\n",
      "Those who had asked for more information about ; have they moved plied variety variety\n",
      "Those who had asked for more information about ; have they moved plied variety variety variety\n",
      "Those who had asked for more information about ; have they moved plied variety variety variety ;\n",
      "Those who had asked for more information about ; have they moved plied variety variety variety ; ;\n",
      "\n",
      "he was on his to the little\n",
      "he was on his to the little as\n",
      "he was on his to the little as ,\n",
      "he was on his to the little as , ,\n",
      "he was on his to the little as , , variety\n",
      "he was on his to the little as , , variety variety\n",
      "he was on his to the little as , , variety variety variety\n",
      "he was on his to the little as , , variety variety variety hillsides\n",
      "he was on his to the little as , , variety variety variety hillsides well\n",
      "he was on his to the little as , , variety variety variety hillsides well well\n"
     ]
    }
   ],
   "source": [
    "# generate text out of input sequence string.\n",
    "# The seed input string has to contain at least N words.\n",
    "# If it contains more than N words only the last N will be feed into the network\n",
    "\n",
    "# get array of the last 5 words of the sentence\n",
    "def get_text_to_array(sentence: str):\n",
    "  if len(sentence.split()) < N:\n",
    "    print(\"Sentence must contain at least \" + str(N) + \" words.\")\n",
    "    return None\n",
    "  #take the last 5 words of the seed sente\n",
    "  word_embed_seq = [my_embeddings[i] for i in sentence.split()]\n",
    "  return np.array(word_embed_seq[-N:])\n",
    "\n",
    "\n",
    "def get_word_from_vector(array_seq):\n",
    "  return my_embeddings.most_similar(positive=[array_seq[0][-1]], topn=1)[0]\n",
    "\n",
    "\n",
    "def generate_seq(model, seed_text, n_words):\n",
    "  text_seq = seed_text.split()\n",
    "  # Input Data\n",
    "  text_array_seq = get_text_to_array(seed_text)\n",
    "  for i in range(n_words):\n",
    "    input = np.expand_dims(text_array_seq, axis=0)\n",
    "    pred = model.predict(input, verbose=0)\n",
    "    pred_word = get_word_from_vector(pred)\n",
    "    text_seq.append(pred_word[0])\n",
    "    # Append predicted word to the end of text_array_seq\n",
    "    # 1. Remove first\n",
    "    text_array_seq = text_array_seq[1:,:]\n",
    "    # 2. Append to last\n",
    "    last_pred = pred[:,-1,:]\n",
    "    text_array_seq = np.append(text_array_seq, last_pred, axis=0)\n",
    "    print(' ' .join(text_seq))\n",
    "  return ' ' .join(text_seq)\n",
    "  \n",
    "\n",
    "seed_text = \"Those who had asked for more information about\"\n",
    "generated_text = generate_seq(model, seed_text, 10)\n",
    "#print(generated_text)\n",
    "print()\n",
    "\n",
    "#seed_text = \"Bilbo was very rich And very\"\n",
    "seed_text = \"he was on his to the\"\n",
    "generated_text = generate_seq(model, seed_text, 10)\n",
    "# #print(generated_text)"
   ]
  },
  {
   "cell_type": "code",
   "execution_count": null,
   "metadata": {
    "colab": {},
    "colab_type": "code",
    "id": "QbRBtgaamGef"
   },
   "outputs": [],
   "source": []
  }
 ],
 "metadata": {
  "accelerator": "GPU",
  "colab": {
   "collapsed_sections": [],
   "name": "Project_Code",
   "provenance": [],
   "version": "0.3.2"
  },
  "kernelspec": {
   "display_name": "Python 3",
   "language": "python",
   "name": "python3"
  },
  "language_info": {
   "codemirror_mode": {
    "name": "ipython",
    "version": 3
   },
   "file_extension": ".py",
   "mimetype": "text/x-python",
   "name": "python",
   "nbconvert_exporter": "python",
   "pygments_lexer": "ipython3",
   "version": "3.6.8"
  }
 },
 "nbformat": 4,
 "nbformat_minor": 1
}
