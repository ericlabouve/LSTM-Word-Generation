{
 "cells": [
  {
   "cell_type": "markdown",
   "metadata": {
    "colab_type": "text",
    "id": "FTeLwWc8MMBO"
   },
   "source": [
    "# Text Prediction and Generation using LSTM Networks"
   ]
  },
  {
   "cell_type": "markdown",
   "metadata": {
    "colab_type": "text",
    "id": "UwK0g5gV5hTi"
   },
   "source": [
    "_______________\n",
    "## Google drive code only\n",
    "Only run the following sections in a colaboratory shell"
   ]
  },
  {
   "cell_type": "code",
   "execution_count": null,
   "metadata": {
    "colab": {
     "base_uri": "https://localhost:8080/",
     "height": 87
    },
    "colab_type": "code",
    "executionInfo": {
     "elapsed": 30489,
     "status": "ok",
     "timestamp": 1551835746036,
     "user": {
      "displayName": "Andy W",
      "photoUrl": "https://lh3.googleusercontent.com/-e2yB0x7o_ZY/AAAAAAAAAAI/AAAAAAAAJuw/nAsmHlehdlY/s64/photo.jpg",
      "userId": "17506489879312600830"
     },
     "user_tz": 480
    },
    "id": "h7P6a2_l5hTj",
    "outputId": "abe81f01-fa9e-4694-f575-e042e4fd56a3"
   },
   "outputs": [],
   "source": [
    "%%time\n",
    "# Code to read google drive files into Colaboratory:\n",
    "!pip install -U -q PyDrive\n",
    "from pydrive.auth import GoogleAuth\n",
    "from pydrive.drive import GoogleDrive\n",
    "from google.colab import auth\n",
    "from oauth2client.client import GoogleCredentials\n",
    "# Authenticate and create the PyDrive client.\n",
    "auth.authenticate_user()\n",
    "gauth = GoogleAuth()\n",
    "gauth.credentials = GoogleCredentials.get_application_default()\n",
    "drive = GoogleDrive(gauth)"
   ]
  },
  {
   "cell_type": "code",
   "execution_count": null,
   "metadata": {
    "colab": {
     "base_uri": "https://localhost:8080/",
     "height": 52
    },
    "colab_type": "code",
    "executionInfo": {
     "elapsed": 30454,
     "status": "ok",
     "timestamp": 1551835746039,
     "user": {
      "displayName": "Andy W",
      "photoUrl": "https://lh3.googleusercontent.com/-e2yB0x7o_ZY/AAAAAAAAAAI/AAAAAAAAJuw/nAsmHlehdlY/s64/photo.jpg",
      "userId": "17506489879312600830"
     },
     "user_tz": 480
    },
    "id": "ujVuCb3iRW8G",
    "outputId": "6ebda17c-e353-49d8-9942-0619a3e141ed"
   },
   "outputs": [],
   "source": [
    "%%time\n",
    "def importFile(fileName: str, fileID: str):\n",
    "  '''Imports a file into the Colaboratory workspace. The fileID can be \n",
    "     found in the file's Share Link'''\n",
    "  print(\"Grabbing file \" + str(fileName) + \" with id = \" + str(fileID)) # Verify that you have everything after '='\n",
    "  downloaded = drive.CreateFile({'id':fileID}) \n",
    "  downloaded.GetContentFile(fileName) "
   ]
  },
  {
   "cell_type": "code",
   "execution_count": null,
   "metadata": {
    "colab": {
     "base_uri": "https://localhost:8080/",
     "height": 52
    },
    "colab_type": "code",
    "executionInfo": {
     "elapsed": 93955,
     "status": "ok",
     "timestamp": 1551835809588,
     "user": {
      "displayName": "Andy W",
      "photoUrl": "https://lh3.googleusercontent.com/-e2yB0x7o_ZY/AAAAAAAAAAI/AAAAAAAAJuw/nAsmHlehdlY/s64/photo.jpg",
      "userId": "17506489879312600830"
     },
     "user_tz": 480
    },
    "id": "r7xpitMqO8bN",
    "outputId": "98facc28-f472-4d9c-efa6-b343038a8d19"
   },
   "outputs": [],
   "source": [
    "# Import all the datasets we are going to use for our project\n",
    "importFile('TheLordOfTheRings_Book1.txt', '1crAeSigOaQcT62W7EjcwrKcIVBx5ayeh')"
   ]
  },
  {
   "cell_type": "code",
   "execution_count": null,
   "metadata": {
    "colab": {
     "base_uri": "https://localhost:8080/",
     "height": 52
    },
    "colab_type": "code",
    "executionInfo": {
     "elapsed": 93955,
     "status": "ok",
     "timestamp": 1551835809588,
     "user": {
      "displayName": "Andy W",
      "photoUrl": "https://lh3.googleusercontent.com/-e2yB0x7o_ZY/AAAAAAAAAAI/AAAAAAAAJuw/nAsmHlehdlY/s64/photo.jpg",
      "userId": "17506489879312600830"
     },
     "user_tz": 480
    },
    "id": "r7xpitMqO8bN",
    "outputId": "98facc28-f472-4d9c-efa6-b343038a8d19"
   },
   "outputs": [],
   "source": [
    "importFile('GoogleNews-vectors-negative300.bin', '1zzUeVFsRYw3lWe6kjk1nccywCkMDp-AY')"
   ]
  },
  {
   "cell_type": "markdown",
   "metadata": {
    "colab_type": "text",
    "id": "o0owQf_T5hTr"
   },
   "source": [
    "## End of Google drive code\n",
    "_________________________________________"
   ]
  },
  {
   "cell_type": "markdown",
   "metadata": {
    "colab": {},
    "colab_type": "code",
    "id": "3ODs77INUaJl"
   },
   "source": [
    "## Setup Word Embeddings\n",
    "\n",
    "- Load top 1 million (out of 3 million) word embeddings from the binary file.\n",
    "- The vectors are 300 dimensions large and are created using the word2vec algorithm.\n",
    "- The model was trained on the GoogleNews corpus and the vector is taken from a latent layer, representing a compressed representation of a word with its surrounding context.  \n",
    "    - The GoogleNews corpus is a similar size to the English version of Wikipedia.\n",
    "- We cannot load all 3,000,000 vectors or else we will run out of RAM.\n",
    "    - Missing words will be added programmatically"
   ]
  },
  {
   "cell_type": "code",
   "execution_count": 1,
   "metadata": {
    "colab": {},
    "colab_type": "code",
    "id": "3ODs77INUaJl"
   },
   "outputs": [
    {
     "name": "stdout",
     "output_type": "stream",
     "text": [
      "Wall time: 2.19 s\n"
     ]
    }
   ],
   "source": [
    "%%time\n",
    "import gensim\n",
    "import numpy as np\n",
    "\n",
    "# This line imports 100,000 vectors\n",
    "embeddings = gensim.models.KeyedVectors.load_word2vec_format('GoogleNews-vectors-negative300.bin', limit=100000, binary=True)"
   ]
  },
  {
   "cell_type": "markdown",
   "metadata": {
    "colab_type": "text",
    "id": "A_WqVQBraIN7"
   },
   "source": [
    "### Word Embedding Examples\n",
    "\n",
    "When we import the binary file using the gensim library, we can easily explore interesting properties of word embeddings. Much like a latent vector produced using an autoencoder, each embedding holds meaningful information about each word and the context in which it is used. The following examples explore the latent space in which these vectors reside."
   ]
  },
  {
   "cell_type": "code",
   "execution_count": 2,
   "metadata": {
    "colab": {
     "base_uri": "https://localhost:8080/",
     "height": 124
    },
    "colab_type": "code",
    "executionInfo": {
     "elapsed": 97713,
     "status": "ok",
     "timestamp": 1551835813375,
     "user": {
      "displayName": "Andy W",
      "photoUrl": "https://lh3.googleusercontent.com/-e2yB0x7o_ZY/AAAAAAAAAAI/AAAAAAAAJuw/nAsmHlehdlY/s64/photo.jpg",
      "userId": "17506489879312600830"
     },
     "user_tz": 480
    },
    "id": "pC_Da54bPmGt",
    "outputId": "7f5501f4-7e80-4d3e-8294-b5620bad5300"
   },
   "outputs": [
    {
     "name": "stdout",
     "output_type": "stream",
     "text": [
      "[('teenage_girl', 0.7674504518508911), ('teenager', 0.7674364447593689), ('toddler', 0.701943576335907)]\n",
      "[('striped_bass', 0.47242963314056396), ('halibut', 0.43524497747421265), ('rockfish', 0.4258560836315155)]\n",
      "[('woman', 0.9972377419471741)]\n"
     ]
    }
   ],
   "source": [
    "# Vector addition/subtraction examples:\n",
    "# What are the top three vectors similar to boy and girl?\n",
    "print(embeddings.most_similar(positive=[\"boy\", \"girl\"], topn=3))\n",
    "# What is a fish without water?\n",
    "print(embeddings.most_similar(positive=[\"fish\"], negative=[\"water\"], topn=3)) \n",
    "\n",
    "# Can also obtain nearby vectors. Here of an example where we slightly modify \n",
    "# the \"woman\" vectors and test if we can get back the same bector using the most_similar function\n",
    "v = np.copy(embeddings[\"woman\"])\n",
    "v[0] += 0.2\n",
    "print(embeddings.most_similar(positive=[v], topn=1))"
   ]
  },
  {
   "cell_type": "markdown",
   "metadata": {
    "colab_type": "text",
    "id": "bF-OhBj7aFDY"
   },
   "source": [
    "![](https://drive.google.com/uc?export=view&id=1e9PxMNKjTXDx7KZDxHpC4ENmz0sXHl_g)"
   ]
  },
  {
   "cell_type": "markdown",
   "metadata": {},
   "source": [
    "Figure 1: Word embeddings organize terms based on the context in which they are used. All three example images demonstrate possible transformation functions that convey structure in the latent space. In the \"Male-Female\" image, there exists a function that relates male-oriented words to their corresponding female-oriented words. In the \"Verb Tense\" image, there exists a function that maps a present-tense word to its past-tense conjugation. In the \"Country-Capital\" image, there exists a function that relates a country to its corresponding capital city.\n",
    "\n",
    "_________________________________________"
   ]
  },
  {
   "cell_type": "markdown",
   "metadata": {
    "colab_type": "text",
    "id": "iuvUj83Fb1ug"
   },
   "source": [
    "## Preprocessing\n",
    "\n",
    "1. Split training data into individual tokens, ie: \"Here is a sentence\" --> \\[\"Here\" \"is\" \"a\" \"sentence\"\\]\n",
    "2. Use nltk to split training data into ngram phrases to feed into our LSTM network\n",
    "    - The model's architecture will automatically adjust based on ngram size\n",
    "3. Shuffle the data\n",
    "4. Split the data into training and validation"
   ]
  },
  {
   "cell_type": "code",
   "execution_count": 2,
   "metadata": {
    "colab": {
     "base_uri": "https://localhost:8080/",
     "height": 35
    },
    "colab_type": "code",
    "executionInfo": {
     "elapsed": 100774,
     "status": "ok",
     "timestamp": 1551835816464,
     "user": {
      "displayName": "Andy W",
      "photoUrl": "https://lh3.googleusercontent.com/-e2yB0x7o_ZY/AAAAAAAAAAI/AAAAAAAAJuw/nAsmHlehdlY/s64/photo.jpg",
      "userId": "17506489879312600830"
     },
     "user_tz": 480
    },
    "id": "mz9lUGnqWNGd",
    "outputId": "3d2647f0-20cf-417d-ac5c-105cf99e5803"
   },
   "outputs": [
    {
     "name": "stderr",
     "output_type": "stream",
     "text": [
      "[nltk_data] Downloading package punkt to\n",
      "[nltk_data]     C:\\Users\\Eric\\AppData\\Roaming\\nltk_data...\n",
      "[nltk_data]   Package punkt is already up-to-date!\n"
     ]
    }
   ],
   "source": [
    "import numpy as np\n",
    "import nltk\n",
    "nltk.download('punkt')\n",
    "from nltk.tokenize import word_tokenize\n",
    "\n",
    "\n",
    "def tokenizeFile(fileName: str) -> list:\n",
    "    '''Will take in the name of a txt file located in the base directory \n",
    "    of the drive and return a list of tokens. Tokens are defined to be\n",
    "    any nonzero sequence of characters.'''\n",
    "    tokens = []\n",
    "    with open(fileName, 'r', encoding=\"ISO-8859-1\") as file:\n",
    "        tokens = word_tokenize(file.read())\n",
    "    return tokens"
   ]
  },
  {
   "cell_type": "code",
   "execution_count": 3,
   "metadata": {
    "colab": {
     "base_uri": "https://localhost:8080/",
     "height": 35
    },
    "colab_type": "code",
    "executionInfo": {
     "elapsed": 100774,
     "status": "ok",
     "timestamp": 1551835816464,
     "user": {
      "displayName": "Andy W",
      "photoUrl": "https://lh3.googleusercontent.com/-e2yB0x7o_ZY/AAAAAAAAAAI/AAAAAAAAJuw/nAsmHlehdlY/s64/photo.jpg",
      "userId": "17506489879312600830"
     },
     "user_tz": 480
    },
    "id": "mz9lUGnqWNGd",
    "outputId": "3d2647f0-20cf-417d-ac5c-105cf99e5803"
   },
   "outputs": [],
   "source": [
    "# Used to generate new embeddings with random weights\n",
    "seed = 0\n",
    "# Used to store only the word vectors we come across in a file\n",
    "my_embeddings = gensim.models.keyedvectors.WordEmbeddingsKeyedVectors(300)\n",
    "\n",
    "\n",
    "def addNewEmbedding(token: str):\n",
    "    '''Adds a new word embedding to our vector set with randomly initialized values.\n",
    "    Returns the newly created embedding.'''\n",
    "    global seed\n",
    "    np.random.seed(seed)\n",
    "    seed += 1\n",
    "    weights = np.random.uniform(-1,1,300)\n",
    "    my_embeddings.add(token, weights)\n",
    "    return my_embeddings[token]\n",
    "\n",
    "\n",
    "def flipFirstChar(word: str) -> str:\n",
    "    '''Capitalizes/Un-capitalizes the first character of the word.\n",
    "    It is not garunteed that all terms in the WordNet corpus are lower\n",
    "    case or upper case. So if we can't find a term then it is a good \n",
    "    idea to fip the first character's case and try again. '''\n",
    "    if word[0].isupper():\n",
    "        return word[0].lower() + word[1:]\n",
    "    else:\n",
    "        return word[0].upper() + word[1:]\n",
    "\n",
    "\n",
    "def tokensToVectors(tokens: list) -> (list, list):\n",
    "    '''Convert a list of terms into a list of word embeddings. \n",
    "    If an embeddding exists for a term, we add it to our vector set.\n",
    "    If an embedding does not exist for a term, we create a new embedding and add it to our vector set.'''\n",
    "    vectors = []\n",
    "    unknownTokens = set()\n",
    "    for token in tokens:\n",
    "        # The vector exists in the GoogleNews vector set\n",
    "        if token in embeddings:\n",
    "            weights = embeddings[token]\n",
    "            vectors.append(weights)\n",
    "            my_embeddings.add(token, weights)\n",
    "        # The flipFirstChar'ed vector exists in the GoogleNews vector set\n",
    "        elif flipFirstChar(token) in embeddings:\n",
    "            weights = embeddings[flipFirstChar(token)]\n",
    "            vectors.append(weights)\n",
    "            my_embeddings.add(token, weights)\n",
    "        # The vector does not exist so make a new vector\n",
    "        else:\n",
    "            weights = addNewEmbedding(token)\n",
    "            vectors.append(weights)\n",
    "            unknownTokens.add(token)\n",
    "    return vectors, unknownTokens\n",
    "\n",
    "\n",
    "def phrasesToVectors(ngramList: list, summary=True) -> (list, list):\n",
    "    '''Calls wordsToVectors() on a list of lists. This function will be called\n",
    "       after data is split into ngrams. Each phrase in the code below operations\n",
    "       on a single ngram.'''\n",
    "    ngramVectorList = []\n",
    "    allUnknownTokens = set()\n",
    "    for tokens in ngramList:\n",
    "        vectors, unknownTokens = tokensToVectors(tokens)\n",
    "        ngramVectorList.append(vectors)\n",
    "        allUnknownTokens = allUnknownTokens.union(unknownTokens)  \n",
    "    if summary:\n",
    "        print(\"Number of training ngrams: \" + str(len(ngramVectorList)))\n",
    "        print(\"Number of unknown vector terms created: \" + str(len(allUnknownTokens)))\n",
    "    print(\"Shape of training set: \" + str(np.shape(ngramVectorList)))\n",
    "    return np.array(ngramVectorList, dtype=np.ndarray), allUnknownTokens"
   ]
  },
  {
   "cell_type": "code",
   "execution_count": 4,
   "metadata": {
    "colab": {
     "base_uri": "https://localhost:8080/",
     "height": 104
    },
    "colab_type": "code",
    "executionInfo": {
     "elapsed": 120045,
     "status": "ok",
     "timestamp": 1551835835756,
     "user": {
      "displayName": "Andy W",
      "photoUrl": "https://lh3.googleusercontent.com/-e2yB0x7o_ZY/AAAAAAAAAAI/AAAAAAAAJuw/nAsmHlehdlY/s64/photo.jpg",
      "userId": "17506489879312600830"
     },
     "user_tz": 480
    },
    "id": "uU-H6dNE5hT5",
    "outputId": "c658075b-f9ee-4869-e94c-47e7a3ab7e78"
   },
   "outputs": [
    {
     "name": "stdout",
     "output_type": "stream",
     "text": [
      "Using 4435 non-unique words from the text\n",
      "Number of training ngrams: 4415\n",
      "Number of unknown vector terms created: 149\n",
      "Shape of training set: (4415, 21, 300)\n",
      "Wall time: 1min 13s\n"
     ]
    }
   ],
   "source": [
    "%%time\n",
    "from nltk import ngrams\n",
    "\n",
    "# Cut number of words so we can fit everything in memory\n",
    "words_all = tokenizeFile(\"TheLordOfTheRings_Book1.txt\")\n",
    "words = words_all[:len(words_all)//50]\n",
    "print(\"Using \" + str(len(words)) + \" non-unique words from the text\")\n",
    "# Change this parameter to decrease or increase the size of the training samples\n",
    "N = 20\n",
    "ngrams_words = ngrams(words, N + 1)\n",
    "# ngram_vectors_original, _ = phrasesToVectors(ngrams_words)\n",
    "ngram_vectors, _ = phrasesToVectors(ngrams_words)"
   ]
  },
  {
   "cell_type": "code",
   "execution_count": 5,
   "metadata": {
    "colab": {
     "base_uri": "https://localhost:8080/",
     "height": 87
    },
    "colab_type": "code",
    "executionInfo": {
     "elapsed": 120030,
     "status": "ok",
     "timestamp": 1551835835763,
     "user": {
      "displayName": "Andy W",
      "photoUrl": "https://lh3.googleusercontent.com/-e2yB0x7o_ZY/AAAAAAAAAAI/AAAAAAAAJuw/nAsmHlehdlY/s64/photo.jpg",
      "userId": "17506489879312600830"
     },
     "user_tz": 480
    },
    "id": "qEfgIpp15hT9",
    "outputId": "f7ff6c92-2cc2-42d3-97ee-6f07d59551eb"
   },
   "outputs": [
    {
     "name": "stdout",
     "output_type": "stream",
     "text": [
      "Samples Shape: (4415, 21, 300)\n",
      "Wall time: 201 ms\n"
     ]
    }
   ],
   "source": [
    "%%time\n",
    "# Make a copy of the original ngrams just in case we want to run our model with different parameters\n",
    "# ngram_vectors = ngram_vectors_original\n",
    "# Shuffling the data to increase validation accuracy\n",
    "np.random.shuffle(ngram_vectors)\n",
    "print(\"Samples Shape: \" + str(ngram_vectors.shape))"
   ]
  },
  {
   "cell_type": "markdown",
   "metadata": {
    "colab_type": "text",
    "id": "cBUN5Hjf5hUA"
   },
   "source": [
    "### Training/Validation Split\n",
    "First we will set aside 10% of our data for validation. \n",
    "\n",
    "Each phrase (element) in ngram_vectors will be split into two parts. All the terms preceeding the last term will be used to predict the last term. So, if we have an array of phrases of size six, then these phrases will be split into two arrays of equal size. For example: \n",
    "\n",
    "phrase: \\[This tale grew in the telling\\]\n",
    " - input data = \\[This tale grew in the\\]\n",
    " - expected output = \\[tale grew in the telling\\]"
   ]
  },
  {
   "cell_type": "code",
   "execution_count": 6,
   "metadata": {
    "colab": {
     "base_uri": "https://localhost:8080/",
     "height": 52
    },
    "colab_type": "code",
    "executionInfo": {
     "elapsed": 120016,
     "status": "ok",
     "timestamp": 1551835835768,
     "user": {
      "displayName": "Andy W",
      "photoUrl": "https://lh3.googleusercontent.com/-e2yB0x7o_ZY/AAAAAAAAAAI/AAAAAAAAJuw/nAsmHlehdlY/s64/photo.jpg",
      "userId": "17506489879312600830"
     },
     "user_tz": 480
    },
    "id": "6l2HRpsmaK84",
    "outputId": "c0b380ba-6ab6-4836-e401-7b5f6cc38358"
   },
   "outputs": [
    {
     "name": "stdout",
     "output_type": "stream",
     "text": [
      "Training Input: (3973, 20, 300), Training Predict: (3973, 20, 300)\n",
      "Validation Input: (442, 20, 300), Validation Predict: (442, 20, 300)\n"
     ]
    }
   ],
   "source": [
    "import math\n",
    "\n",
    "# Split data into training and validation\n",
    "split = math.floor(np.size(ngram_vectors, axis=0) * 0.9)\n",
    "training = ngram_vectors[:split,:,:]\n",
    "validation = ngram_vectors[split:,:,:]\n",
    "\n",
    "# Split the training and validation data as discussed above ^\n",
    "train_input = training[:,:-1,:]\n",
    "# train_predict = np.expand_dims(training[:,-1,:], axis=1)\n",
    "train_predict = training[:,1:,:]\n",
    "\n",
    "\n",
    "validation_input = validation[:,:-1,:]\n",
    "# validation_predict = np.expand_dims(validation[:,-1,:], axis=1)\n",
    "validation_predict = validation[:,1:,:]\n",
    "\n",
    "print(\"Training Input: \" + str(train_input.shape) + \", Training Predict: \" + str(train_predict.shape))\n",
    "print(\"Validation Input: \" + str(validation_input.shape) + \", Validation Predict: \" + str(validation_predict.shape))"
   ]
  },
  {
   "cell_type": "markdown",
   "metadata": {
    "colab_type": "text",
    "id": "tOYI6ZRM5hUE"
   },
   "source": [
    "## Architecture Explaination\n",
    "\n",
    "- The input shape is 300 because we take in each dimension of the word embedding as input.\n",
    "- The default Tanh activation function is used on LSTM cells.\n",
    "- No dropout layers are used because they decrease training accuracy with negligible improvements to validation accuracy.\n",
    "- Tanh activation function is used on the final dense layer to restrict the output of the vector from -1 to 1 because word embeddings are normalized betweeen -1 and 1.\n",
    "- A third LSTM layer increases training and validation accuracy\n",
    "- Loss is cosine similarity because word2vec also uses cosine similarity to measure the distance between word vectors.\n",
    "\n",
    "This table represents our adjustments to the model with its corresponding testing and validation scores. All results use 100 epochs, a batch size of 32, and a cosine proximity loss function.\n",
    "\n",
    "| Description | Training Accuracy | Validation Accuracy | |\n",
    "|------|------|------|-|\n",
    "| 2 LSTM with sigmoid<br>1 Dense with no activation | 0.4603 | 0.3670 ||\n",
    "| 2 LSTM with tanh<br>2 Dropout<br>1 Dense with no activation | 0.4067 | 0.3761 ||\n",
    "| 2 LSTM with tanh<br>2 Dropout<br>1 Dense with tanh | 0.4219 | 0.3946 ||\n",
    "| 2 LSTM with tanh<br>1 Dense with no activation | 0.4978 | 0.3707 ||\n",
    "| 2 LSTM with tanh<br>1 Dense with tanh | 0.5012 | 0.3887 ||\n",
    "| 3 LSTM with tanh<br>1 Dense with tanh | 0.5548 | 0.4068 |Best Model|\n"
   ]
  },
  {
   "cell_type": "code",
   "execution_count": 7,
   "metadata": {
    "colab": {
     "base_uri": "https://localhost:8080/",
     "height": 349
    },
    "colab_type": "code",
    "executionInfo": {
     "elapsed": 121155,
     "status": "ok",
     "timestamp": 1551835836935,
     "user": {
      "displayName": "Andy W",
      "photoUrl": "https://lh3.googleusercontent.com/-e2yB0x7o_ZY/AAAAAAAAAAI/AAAAAAAAJuw/nAsmHlehdlY/s64/photo.jpg",
      "userId": "17506489879312600830"
     },
     "user_tz": 480
    },
    "id": "CymWYziXllRA",
    "outputId": "22e50a6c-fb33-4373-9d7b-c805e272890b"
   },
   "outputs": [
    {
     "name": "stderr",
     "output_type": "stream",
     "text": [
      "Using TensorFlow backend.\n"
     ]
    },
    {
     "name": "stdout",
     "output_type": "stream",
     "text": [
      "Input Shape: (20, 300)\n",
      "_________________________________________________________________\n",
      "Layer (type)                 Output Shape              Param #   \n",
      "=================================================================\n",
      "lstm_1 (LSTM)                (None, 20, 300)           721200    \n",
      "_________________________________________________________________\n",
      "lstm_2 (LSTM)                (None, 20, 300)           721200    \n",
      "_________________________________________________________________\n",
      "lstm_3 (LSTM)                (None, 20, 300)           721200    \n",
      "_________________________________________________________________\n",
      "dense_1 (Dense)              (None, 20, 300)           90300     \n",
      "=================================================================\n",
      "Total params: 2,253,900\n",
      "Trainable params: 2,253,900\n",
      "Non-trainable params: 0\n",
      "_________________________________________________________________\n",
      "None\n"
     ]
    }
   ],
   "source": [
    "from tensorflow.keras.models import Sequential\n",
    "from keras.models import Sequential\n",
    "from keras.layers import LSTM, Dense, Dropout\n",
    "\n",
    "input_shape=(N, 300)\n",
    "print(\"Input Shape: \" + str(input_shape))\n",
    "\n",
    "model = Sequential()  \n",
    "model.add(LSTM(300, input_shape=input_shape, return_sequences=True, activation='tanh'))\n",
    "model.add(LSTM(300, return_sequences=True, activation='tanh'))\n",
    "model.add(LSTM(300, return_sequences=True, activation='tanh'))\n",
    "model.add(Dense(300, activation='tanh'))\n",
    "\n",
    "model.compile(loss='cosine_proximity', optimizer='adam',metrics=['accuracy'])\n",
    "print(model.summary())"
   ]
  },
  {
   "cell_type": "code",
   "execution_count": 8,
   "metadata": {
    "colab": {
     "base_uri": "https://localhost:8080/",
     "height": 7075
    },
    "colab_type": "code",
    "executionInfo": {
     "elapsed": 350005,
     "status": "ok",
     "timestamp": 1551836065824,
     "user": {
      "displayName": "Andy W",
      "photoUrl": "https://lh3.googleusercontent.com/-e2yB0x7o_ZY/AAAAAAAAAAI/AAAAAAAAJuw/nAsmHlehdlY/s64/photo.jpg",
      "userId": "17506489879312600830"
     },
     "user_tz": 480
    },
    "id": "UaStJMjKWf7Y",
    "outputId": "9ae8ee3c-0f48-4cbe-eaa8-0eb90a562a03"
   },
   "outputs": [
    {
     "name": "stdout",
     "output_type": "stream",
     "text": [
      "Train on 3973 samples, validate on 442 samples\n",
      "Epoch 1/100\n",
      " - 17s - loss: -3.5149e-01 - acc: 0.0447 - val_loss: -3.7576e-01 - val_acc: 0.0508\n",
      "Epoch 2/100\n",
      " - 12s - loss: -4.1037e-01 - acc: 0.0593 - val_loss: -4.4985e-01 - val_acc: 0.0770\n",
      "Epoch 3/100\n",
      " - 12s - loss: -4.9135e-01 - acc: 0.1061 - val_loss: -5.2551e-01 - val_acc: 0.1171\n",
      "Epoch 4/100\n",
      " - 12s - loss: -5.6391e-01 - acc: 0.1560 - val_loss: -5.9415e-01 - val_acc: 0.1771\n",
      "Epoch 5/100\n",
      " - 12s - loss: -6.3189e-01 - acc: 0.2027 - val_loss: -6.5706e-01 - val_acc: 0.2218\n",
      "Epoch 6/100\n",
      " - 12s - loss: -6.9450e-01 - acc: 0.2498 - val_loss: -7.1305e-01 - val_acc: 0.2612\n",
      "Epoch 7/100\n",
      " - 12s - loss: -7.4703e-01 - acc: 0.3017 - val_loss: -7.6147e-01 - val_acc: 0.3210\n",
      "Epoch 8/100\n",
      " - 12s - loss: -7.8897e-01 - acc: 0.3458 - val_loss: -7.9610e-01 - val_acc: 0.3484\n",
      "Epoch 9/100\n",
      " - 12s - loss: -8.1966e-01 - acc: 0.3859 - val_loss: -8.2111e-01 - val_acc: 0.3811\n",
      "Epoch 10/100\n",
      " - 12s - loss: -8.4196e-01 - acc: 0.4141 - val_loss: -8.4050e-01 - val_acc: 0.4210\n",
      "Epoch 11/100\n",
      " - 12s - loss: -8.5846e-01 - acc: 0.4431 - val_loss: -8.5452e-01 - val_acc: 0.4355\n",
      "Epoch 12/100\n",
      " - 12s - loss: -8.7188e-01 - acc: 0.4661 - val_loss: -8.6447e-01 - val_acc: 0.4716\n",
      "Epoch 13/100\n",
      " - 12s - loss: -8.8196e-01 - acc: 0.4834 - val_loss: -8.7220e-01 - val_acc: 0.4762\n",
      "Epoch 14/100\n",
      " - 12s - loss: -8.8971e-01 - acc: 0.5010 - val_loss: -8.8084e-01 - val_acc: 0.4956\n",
      "Epoch 15/100\n",
      " - 12s - loss: -8.9641e-01 - acc: 0.5157 - val_loss: -8.8671e-01 - val_acc: 0.5084\n",
      "Epoch 16/100\n",
      " - 11s - loss: -9.0222e-01 - acc: 0.5261 - val_loss: -8.9081e-01 - val_acc: 0.5102\n",
      "Epoch 17/100\n",
      " - 12s - loss: -9.0680e-01 - acc: 0.5374 - val_loss: -8.9481e-01 - val_acc: 0.5200\n",
      "Epoch 18/100\n",
      " - 12s - loss: -9.1067e-01 - acc: 0.5458 - val_loss: -8.9798e-01 - val_acc: 0.5090\n",
      "Epoch 19/100\n",
      " - 12s - loss: -9.1406e-01 - acc: 0.5516 - val_loss: -9.0123e-01 - val_acc: 0.5373\n",
      "Epoch 20/100\n",
      " - 12s - loss: -9.1727e-01 - acc: 0.5604 - val_loss: -9.0377e-01 - val_acc: 0.5463\n",
      "Epoch 21/100\n",
      " - 12s - loss: -9.2026e-01 - acc: 0.5697 - val_loss: -9.0675e-01 - val_acc: 0.5518\n",
      "Epoch 22/100\n",
      " - 11s - loss: -9.2307e-01 - acc: 0.5742 - val_loss: -9.0869e-01 - val_acc: 0.5563\n",
      "Epoch 23/100\n",
      " - 12s - loss: -9.2524e-01 - acc: 0.5777 - val_loss: -9.1030e-01 - val_acc: 0.5570\n",
      "Epoch 24/100\n",
      " - 12s - loss: -9.2701e-01 - acc: 0.5816 - val_loss: -9.1255e-01 - val_acc: 0.5748\n",
      "Epoch 25/100\n",
      " - 12s - loss: -9.2929e-01 - acc: 0.5898 - val_loss: -9.1384e-01 - val_acc: 0.5734\n",
      "Epoch 26/100\n",
      " - 12s - loss: -9.3084e-01 - acc: 0.5940 - val_loss: -9.1518e-01 - val_acc: 0.5874\n",
      "Epoch 27/100\n",
      " - 12s - loss: -9.3234e-01 - acc: 0.5962 - val_loss: -9.1665e-01 - val_acc: 0.5950\n",
      "Epoch 28/100\n",
      " - 12s - loss: -9.3358e-01 - acc: 0.6024 - val_loss: -9.1798e-01 - val_acc: 0.5851\n",
      "Epoch 29/100\n",
      " - 12s - loss: -9.3538e-01 - acc: 0.6075 - val_loss: -9.1881e-01 - val_acc: 0.5939\n",
      "Epoch 30/100\n",
      " - 12s - loss: -9.3630e-01 - acc: 0.6144 - val_loss: -9.1994e-01 - val_acc: 0.5837\n",
      "Epoch 31/100\n",
      " - 12s - loss: -9.3755e-01 - acc: 0.6141 - val_loss: -9.2142e-01 - val_acc: 0.6037\n",
      "Epoch 32/100\n",
      " - 12s - loss: -9.3867e-01 - acc: 0.6186 - val_loss: -9.2074e-01 - val_acc: 0.5957\n",
      "Epoch 33/100\n",
      " - 12s - loss: -9.3941e-01 - acc: 0.6228 - val_loss: -9.2297e-01 - val_acc: 0.5976\n",
      "Epoch 34/100\n",
      " - 12s - loss: -9.4041e-01 - acc: 0.6265 - val_loss: -9.2365e-01 - val_acc: 0.5974\n",
      "Epoch 35/100\n",
      " - 12s - loss: -9.4149e-01 - acc: 0.6258 - val_loss: -9.2412e-01 - val_acc: 0.6253\n",
      "Epoch 36/100\n",
      " - 12s - loss: -9.4240e-01 - acc: 0.6325 - val_loss: -9.2513e-01 - val_acc: 0.6181\n",
      "Epoch 37/100\n",
      " - 12s - loss: -9.4300e-01 - acc: 0.6352 - val_loss: -9.2614e-01 - val_acc: 0.6174\n",
      "Epoch 38/100\n",
      " - 12s - loss: -9.4402e-01 - acc: 0.6396 - val_loss: -9.2619e-01 - val_acc: 0.6096\n",
      "Epoch 39/100\n",
      " - 12s - loss: -9.4466e-01 - acc: 0.6414 - val_loss: -9.2744e-01 - val_acc: 0.6212\n",
      "Epoch 40/100\n",
      " - 12s - loss: -9.4546e-01 - acc: 0.6423 - val_loss: -9.2733e-01 - val_acc: 0.6266\n",
      "Epoch 41/100\n",
      " - 12s - loss: -9.4610e-01 - acc: 0.6473 - val_loss: -9.2778e-01 - val_acc: 0.6215\n",
      "Epoch 42/100\n",
      " - 12s - loss: -9.4671e-01 - acc: 0.6518 - val_loss: -9.2864e-01 - val_acc: 0.6305\n",
      "Epoch 43/100\n",
      " - 12s - loss: -9.4718e-01 - acc: 0.6493 - val_loss: -9.2907e-01 - val_acc: 0.6264\n",
      "Epoch 44/100\n",
      " - 12s - loss: -9.4769e-01 - acc: 0.6571 - val_loss: -9.2927e-01 - val_acc: 0.6268\n",
      "Epoch 45/100\n",
      " - 12s - loss: -9.4832e-01 - acc: 0.6551 - val_loss: -9.2973e-01 - val_acc: 0.6302\n",
      "Epoch 46/100\n",
      " - 12s - loss: -9.4882e-01 - acc: 0.6604 - val_loss: -9.3026e-01 - val_acc: 0.6446\n",
      "Epoch 47/100\n",
      " - 12s - loss: -9.4920e-01 - acc: 0.6621 - val_loss: -9.3117e-01 - val_acc: 0.6406\n",
      "Epoch 48/100\n",
      " - 12s - loss: -9.4975e-01 - acc: 0.6643 - val_loss: -9.3087e-01 - val_acc: 0.6325\n",
      "Epoch 49/100\n",
      " - 12s - loss: -9.4973e-01 - acc: 0.6657 - val_loss: -9.3171e-01 - val_acc: 0.6346\n",
      "Epoch 50/100\n",
      " - 12s - loss: -9.5088e-01 - acc: 0.6697 - val_loss: -9.3169e-01 - val_acc: 0.6473\n",
      "Epoch 51/100\n",
      " - 12s - loss: -9.5112e-01 - acc: 0.6731 - val_loss: -9.3207e-01 - val_acc: 0.6440\n",
      "Epoch 52/100\n",
      " - 12s - loss: -9.5164e-01 - acc: 0.6741 - val_loss: -9.3235e-01 - val_acc: 0.6489\n",
      "Epoch 53/100\n",
      " - 12s - loss: -9.5224e-01 - acc: 0.6754 - val_loss: -9.3271e-01 - val_acc: 0.6396\n",
      "Epoch 54/100\n",
      " - 12s - loss: -9.5195e-01 - acc: 0.6734 - val_loss: -9.3276e-01 - val_acc: 0.6372\n",
      "Epoch 55/100\n",
      " - 12s - loss: -9.5250e-01 - acc: 0.6733 - val_loss: -9.3336e-01 - val_acc: 0.6654\n",
      "Epoch 56/100\n",
      " - 12s - loss: -9.5325e-01 - acc: 0.6811 - val_loss: -9.3362e-01 - val_acc: 0.6541\n",
      "Epoch 57/100\n",
      " - 12s - loss: -9.5359e-01 - acc: 0.6801 - val_loss: -9.3406e-01 - val_acc: 0.6653\n",
      "Epoch 58/100\n",
      " - 12s - loss: -9.5390e-01 - acc: 0.6851 - val_loss: -9.3421e-01 - val_acc: 0.6561\n",
      "Epoch 59/100\n",
      " - 12s - loss: -9.5406e-01 - acc: 0.6833 - val_loss: -9.3422e-01 - val_acc: 0.6586\n",
      "Epoch 60/100\n",
      " - 12s - loss: -9.5427e-01 - acc: 0.6863 - val_loss: -9.3451e-01 - val_acc: 0.6597\n",
      "Epoch 61/100\n",
      " - 12s - loss: -9.5471e-01 - acc: 0.6877 - val_loss: -9.3494e-01 - val_acc: 0.6698\n",
      "Epoch 62/100\n",
      " - 12s - loss: -9.5502e-01 - acc: 0.6872 - val_loss: -9.3497e-01 - val_acc: 0.6696\n",
      "Epoch 63/100\n",
      " - 12s - loss: -9.5530e-01 - acc: 0.6908 - val_loss: -9.3551e-01 - val_acc: 0.6683\n",
      "Epoch 64/100\n",
      " - 12s - loss: -9.5561e-01 - acc: 0.6937 - val_loss: -9.3542e-01 - val_acc: 0.6758\n",
      "Epoch 65/100\n",
      " - 12s - loss: -9.5583e-01 - acc: 0.6935 - val_loss: -9.3562e-01 - val_acc: 0.6679\n",
      "Epoch 66/100\n",
      " - 12s - loss: -9.5600e-01 - acc: 0.6956 - val_loss: -9.3589e-01 - val_acc: 0.6544\n",
      "Epoch 67/100\n",
      " - 12s - loss: -9.5616e-01 - acc: 0.6931 - val_loss: -9.3599e-01 - val_acc: 0.6795\n",
      "Epoch 68/100\n",
      " - 12s - loss: -9.5686e-01 - acc: 0.6998 - val_loss: -9.3592e-01 - val_acc: 0.6834\n",
      "Epoch 69/100\n",
      " - 12s - loss: -9.5624e-01 - acc: 0.7007 - val_loss: -9.3611e-01 - val_acc: 0.6690\n",
      "Epoch 70/100\n",
      " - 12s - loss: -9.5685e-01 - acc: 0.6993 - val_loss: -9.3649e-01 - val_acc: 0.6895\n",
      "Epoch 71/100\n",
      " - 12s - loss: -9.5722e-01 - acc: 0.7011 - val_loss: -9.3654e-01 - val_acc: 0.6855\n",
      "Epoch 72/100\n",
      " - 12s - loss: -9.5738e-01 - acc: 0.7039 - val_loss: -9.3700e-01 - val_acc: 0.6799\n",
      "Epoch 73/100\n",
      " - 12s - loss: -9.5770e-01 - acc: 0.7040 - val_loss: -9.3724e-01 - val_acc: 0.6882\n",
      "Epoch 74/100\n",
      " - 12s - loss: -9.5794e-01 - acc: 0.7091 - val_loss: -9.3760e-01 - val_acc: 0.6913\n",
      "Epoch 75/100\n",
      " - 12s - loss: -9.5803e-01 - acc: 0.7106 - val_loss: -9.3757e-01 - val_acc: 0.6704\n",
      "Epoch 76/100\n",
      " - 12s - loss: -9.5829e-01 - acc: 0.7044 - val_loss: -9.3726e-01 - val_acc: 0.6827\n",
      "Epoch 77/100\n",
      " - 12s - loss: -9.5850e-01 - acc: 0.7071 - val_loss: -9.3758e-01 - val_acc: 0.6912\n",
      "Epoch 78/100\n",
      " - 12s - loss: -9.5875e-01 - acc: 0.7118 - val_loss: -9.3763e-01 - val_acc: 0.6822\n",
      "Epoch 79/100\n",
      " - 12s - loss: -9.5878e-01 - acc: 0.7114 - val_loss: -9.3767e-01 - val_acc: 0.6745\n",
      "Epoch 80/100\n",
      " - 12s - loss: -9.5902e-01 - acc: 0.7149 - val_loss: -9.3740e-01 - val_acc: 0.6859\n",
      "Epoch 81/100\n",
      " - 12s - loss: -9.5907e-01 - acc: 0.7080 - val_loss: -9.3824e-01 - val_acc: 0.6826\n",
      "Epoch 82/100\n",
      " - 12s - loss: -9.5939e-01 - acc: 0.7165 - val_loss: -9.3818e-01 - val_acc: 0.6871\n",
      "Epoch 83/100\n",
      " - 12s - loss: -9.5946e-01 - acc: 0.7149 - val_loss: -9.3808e-01 - val_acc: 0.6835\n",
      "Epoch 84/100\n",
      " - 12s - loss: -9.5959e-01 - acc: 0.7145 - val_loss: -9.3855e-01 - val_acc: 0.6933\n",
      "Epoch 85/100\n",
      " - 12s - loss: -9.5997e-01 - acc: 0.7177 - val_loss: -9.3863e-01 - val_acc: 0.6965\n"
     ]
    },
    {
     "name": "stdout",
     "output_type": "stream",
     "text": [
      "Epoch 86/100\n",
      " - 12s - loss: -9.5981e-01 - acc: 0.7194 - val_loss: -9.3841e-01 - val_acc: 0.6844\n",
      "Epoch 87/100\n",
      " - 12s - loss: -9.6000e-01 - acc: 0.7209 - val_loss: -9.3904e-01 - val_acc: 0.6920\n",
      "Epoch 88/100\n",
      " - 11s - loss: -9.6035e-01 - acc: 0.7241 - val_loss: -9.3889e-01 - val_acc: 0.6852\n",
      "Epoch 89/100\n",
      " - 12s - loss: -9.6033e-01 - acc: 0.7219 - val_loss: -9.3881e-01 - val_acc: 0.6887\n",
      "Epoch 90/100\n",
      " - 12s - loss: -9.6030e-01 - acc: 0.7236 - val_loss: -9.3937e-01 - val_acc: 0.7017\n",
      "Epoch 91/100\n",
      " - 12s - loss: -9.6081e-01 - acc: 0.7276 - val_loss: -9.3906e-01 - val_acc: 0.6936\n",
      "Epoch 92/100\n",
      " - 12s - loss: -9.6077e-01 - acc: 0.7247 - val_loss: -9.3916e-01 - val_acc: 0.7037\n",
      "Epoch 93/100\n",
      " - 12s - loss: -9.6108e-01 - acc: 0.7281 - val_loss: -9.3938e-01 - val_acc: 0.7051\n",
      "Epoch 94/100\n",
      " - 12s - loss: -9.6121e-01 - acc: 0.7270 - val_loss: -9.3927e-01 - val_acc: 0.7051\n",
      "Epoch 95/100\n",
      " - 12s - loss: -9.6134e-01 - acc: 0.7281 - val_loss: -9.3953e-01 - val_acc: 0.7009\n",
      "Epoch 96/100\n",
      " - 12s - loss: -9.6140e-01 - acc: 0.7292 - val_loss: -9.3972e-01 - val_acc: 0.7068\n",
      "Epoch 97/100\n",
      " - 12s - loss: -9.6154e-01 - acc: 0.7322 - val_loss: -9.3967e-01 - val_acc: 0.7143\n",
      "Epoch 98/100\n",
      " - 12s - loss: -9.6157e-01 - acc: 0.7330 - val_loss: -9.3980e-01 - val_acc: 0.6995\n",
      "Epoch 99/100\n",
      " - 12s - loss: -9.6177e-01 - acc: 0.7322 - val_loss: -9.3984e-01 - val_acc: 0.7143\n",
      "Epoch 100/100\n",
      " - 12s - loss: -9.6182e-01 - acc: 0.7357 - val_loss: -9.3980e-01 - val_acc: 0.6977\n",
      "Wall time: 19min 33s\n"
     ]
    }
   ],
   "source": [
    "%%time\n",
    "history = model.fit(train_input, train_predict, epochs=100, batch_size=32, verbose=2, validation_data=(validation_input, validation_predict))"
   ]
  },
  {
   "cell_type": "code",
   "execution_count": 10,
   "metadata": {
    "colab": {
     "base_uri": "https://localhost:8080/",
     "height": 377
    },
    "colab_type": "code",
    "executionInfo": {
     "elapsed": 350738,
     "status": "ok",
     "timestamp": 1551836066606,
     "user": {
      "displayName": "Andy W",
      "photoUrl": "https://lh3.googleusercontent.com/-e2yB0x7o_ZY/AAAAAAAAAAI/AAAAAAAAJuw/nAsmHlehdlY/s64/photo.jpg",
      "userId": "17506489879312600830"
     },
     "user_tz": 480
    },
    "id": "_Z6NaUjF5hUT",
    "outputId": "db8a1159-369a-4ebb-ba7b-c99cd9cd31f0"
   },
   "outputs": [],
   "source": [
    "from matplotlib import pyplot as plt\n",
    "\n",
    "def plot_accuracy(history):\n",
    "  plt.plot(history.history['acc'],label='train')\n",
    "  if 'val_acc' in history.history:\n",
    "    plt.plot(history.history['val_acc'],label='val')\n",
    "  plt.xlabel('Epoch')\n",
    "  plt.ylabel('Accuracy')\n",
    "  plt.legend()\n",
    "  plt.title('Accuracy during Training')\n",
    "  plt.show()"
   ]
  },
  {
   "cell_type": "code",
   "execution_count": 11,
   "metadata": {
    "colab": {
     "base_uri": "https://localhost:8080/",
     "height": 377
    },
    "colab_type": "code",
    "executionInfo": {
     "elapsed": 350738,
     "status": "ok",
     "timestamp": 1551836066606,
     "user": {
      "displayName": "Andy W",
      "photoUrl": "https://lh3.googleusercontent.com/-e2yB0x7o_ZY/AAAAAAAAAAI/AAAAAAAAJuw/nAsmHlehdlY/s64/photo.jpg",
      "userId": "17506489879312600830"
     },
     "user_tz": 480
    },
    "id": "_Z6NaUjF5hUT",
    "outputId": "db8a1159-369a-4ebb-ba7b-c99cd9cd31f0"
   },
   "outputs": [
    {
     "data": {
      "image/png": "[encoded data removed]",
      "text/plain": [
       "<Figure size 432x288 with 1 Axes>"
      ]
     },
     "metadata": {
      "needs_background": "light"
     },
     "output_type": "display_data"
    }
   ],
   "source": [
    "plot_accuracy(history)"
   ]
  },
  {
   "cell_type": "code",
   "execution_count": 12,
   "metadata": {
    "colab": {
     "base_uri": "https://localhost:8080/",
     "height": 377
    },
    "colab_type": "code",
    "executionInfo": {
     "elapsed": 350720,
     "status": "ok",
     "timestamp": 1551836066609,
     "user": {
      "displayName": "Andy W",
      "photoUrl": "https://lh3.googleusercontent.com/-e2yB0x7o_ZY/AAAAAAAAAAI/AAAAAAAAJuw/nAsmHlehdlY/s64/photo.jpg",
      "userId": "17506489879312600830"
     },
     "user_tz": 480
    },
    "id": "977XiQEf5hUX",
    "outputId": "9658bc01-9776-4f87-c022-809899b15d16"
   },
   "outputs": [
    {
     "data": {
      "image/png": "[encoded data removed]",
      "text/plain": [
       "<Figure size 432x288 with 1 Axes>"
      ]
     },
     "metadata": {
      "needs_background": "light"
     },
     "output_type": "display_data"
    }
   ],
   "source": [
    "def plot_loss(history):\n",
    "  plt.plot(history.history['loss'],label='train')\n",
    "  if 'val_loss' in history.history:\n",
    "    plt.plot(history.history['val_loss'],label='val')\n",
    "  plt.xlabel('Epoch')\n",
    "  plt.ylabel('Loss')\n",
    "  plt.legend()\n",
    "  plt.title('Loss during Training')\n",
    "  plt.show()\n",
    "\n",
    "plot_loss(history)"
   ]
  },
  {
   "cell_type": "markdown",
   "metadata": {
    "colab_type": "text",
    "id": "gEIj2vesfkV2"
   },
   "source": [
    "## Text Prediction\n",
    "\n",
    "Here we demonstrate the predictive nature of our model. In order to make a prediction, our model must be provided a seed. The seed must be equal to N (defined above as the input size to our model). In the example shown below, we seed our model with the first phrase of the book \"This tale grew in the\" and we expect each prediction to be the next word in the phrase, such as \"tale grew in the telling.\" The correct pairings are as follows:\n",
    "\n",
    "This => tale\n",
    "\n",
    "tale => grew\n",
    "\n",
    "grew => in\n",
    "\n",
    "in => the\n",
    "\n",
    "the => telling"
   ]
  },
  {
   "cell_type": "code",
   "execution_count": 16,
   "metadata": {
    "colab": {
     "base_uri": "https://localhost:8080/",
     "height": 211
    },
    "colab_type": "code",
    "executionInfo": {
     "elapsed": 938,
     "status": "ok",
     "timestamp": 1551836079609,
     "user": {
      "displayName": "Andy W",
      "photoUrl": "https://lh3.googleusercontent.com/-e2yB0x7o_ZY/AAAAAAAAAAI/AAAAAAAAJuw/nAsmHlehdlY/s64/photo.jpg",
      "userId": "17506489879312600830"
     },
     "user_tz": 480
    },
    "id": "7V2LweZcjqfG",
    "outputId": "34fdb3f4-e131-4fa6-e38b-2ff85b028da7"
   },
   "outputs": [
    {
     "name": "stdout",
     "output_type": "stream",
     "text": [
      ". => [('even', 0.6081218719482422)]\n",
      ". => [('less', 0.9473986029624939)]\n",
      ". => [('laborious', 0.9368656277656555)]\n",
      ". => [('.', 0.9998227953910828)]\n",
      ". => [('Then', 0.9802303314208984)]\n",
      ". => [('when', 0.9919359087944031)]\n",
      ". => [('the', 0.9987373948097229)]\n",
      ". => [(\"'end\", 0.977790117263794)]\n",
      ". => [(\"'\", 0.9978280067443848)]\n",
      ". => [('had', 0.9991677403450012)]\n",
      ". => [('at', 0.9994751214981079)]\n",
      ". => [('last', 0.989144504070282)]\n",
      ". => [('been', 0.9959170818328857)]\n",
      ". => [('reached', 0.9868970513343811)]\n",
      ". => [('the', 0.9996724128723145)]\n",
      ". => [('whole', 0.9800723791122437)]\n",
      ". => [('story', 0.9950727224349976)]\n",
      ". => [('had', 0.9991046190261841)]\n",
      ". => [('to', 0.9996762275695801)]\n",
      ". => [('be', 0.9962579011917114)]\n"
     ]
    }
   ],
   "source": [
    "def getTestingPhrase(sentence: str):\n",
    "    '''Converts a phrase with N tokens into a list of vectors'''\n",
    "    if len(sentence.split()) != N:\n",
    "        print(\"Sentence must contain exactly \" + str(N) + \" words.\")\n",
    "        return None\n",
    "    return np.array([my_embeddings[i] for i in sentence.split()])\n",
    "\n",
    "\n",
    "def printPredictions(predictions, testingPhrase):\n",
    "    '''Runs the vectorized phrase on the model and compares the predicted output to the ground truth'''\n",
    "    num_outputs = predictions.shape[1]\n",
    "    for i in range(num_outputs):\n",
    "        print(testingPhrase.split()[i] + \" => \", end='')\n",
    "        print(my_embeddings.most_similar(positive=[predictions[0][i]], topn=1))\n",
    "\n",
    "\n",
    "def predictNext(testingPhrase: str):\n",
    "    test_input = getTestingPhrase(testingPhrase)\n",
    "    test_input = np.expand_dims(test_input, axis=0)\n",
    "    predictions = model.predict(test_input)\n",
    "    printPredictions(predictions, testingPhrase)\n",
    "\n",
    "\n",
    "input_seed = train_input[0]\n",
    "# train_predict\n",
    "# validation_input\n",
    "# validation_predict\n",
    "\n",
    "input_seed = np.expand_dims(input_seed, axis=0)\n",
    "input_seed.shape\n",
    "predictions = model.predict(input_seed)\n",
    "printPredictions(predictions, \". . . . . . . . . . . . . . . . . . . .\")\n",
    "\n",
    "    \n",
    "# Use the first sentence of the text to test how well the model can recall the next word from the text\n",
    "    \n",
    "# This tale grew in the telling until it became a history of the Great War of the Ring \n",
    "# and included many glimpses of the yet more ancient history that preceded it.\n",
    "# predictNext(\"This tale grew in the\")\n",
    "# predictNext(\"telling until it became a\")\n",
    "# predictNext(\"history of the Great War\")\n",
    "# predictNext(\"of the Ring and included\")\n",
    "# predictNext(\"many glimpses of the yet\")\n",
    "# predictNext(\"more ancient history that preceded\")"
   ]
  },
  {
   "cell_type": "markdown",
   "metadata": {},
   "source": [
    "It appears that our model has done a good job memorizing sequences of text from the book. Our model starts off with lower accuracy because it is not provided with much context. But as the model predict subsequent terms, the accuracy increases. In this example, the model recalls 90% of the terms."
   ]
  },
  {
   "cell_type": "code",
   "execution_count": 18,
   "metadata": {},
   "outputs": [
    {
     "name": "stdout",
     "output_type": "stream",
     "text": [
      "[-1, -0.5]: {'lands', 'forest', 'About', 'woodlands', 'A', 'Of', 'land', 'To', 'has', 'An', ',', 'to', 'a', 'of'}\n",
      "[-0.5, 0]: {'forest', 'About', 'woodlands', 'Of', 'land', 'histories', ',', 'books', 'lands', 'records', 'of'}\n",
      "[0, 0.5]: {'A', 'where', 'for', 'The', 'but', 'But', 'That', 'the', 'before', 'in', 'In', 'that', 'a'}\n",
      "[0, 1]: {'It', 'A', 'could', 'where', 'The', 'but', 'not', 'the', 'in', 'that', 'it', 'a'}\n"
     ]
    }
   ],
   "source": [
    "def getSamplesFromRange(low, high):\n",
    "    print(\"[\"+str(low)+\",\"+\" \"+str(high)+\"]: \", end=\"\")\n",
    "    arr = []\n",
    "    for _ in range(N):\n",
    "        arr.append(np.random.uniform(low,high,300))\n",
    "    arr = np.array([np.array(arr)])\n",
    "    predictions = model.predict(arr)\n",
    "    num_outputs = predictions.shape[1]\n",
    "    outputs = set()\n",
    "    nns = 3 # nearest neighbors\n",
    "    for i in range(num_outputs):\n",
    "        tuple_list = my_embeddings.most_similar(positive=[predictions[0][i]], topn=3)\n",
    "        tokens = [i[0] for i in tuple_list]\n",
    "        outputs = outputs | set(tokens)\n",
    "    print(outputs)\n",
    "\n",
    "getSamplesFromRange(-1, -0.5)\n",
    "getSamplesFromRange(-0.5, 0)\n",
    "getSamplesFromRange(0, 0.5)\n",
    "getSamplesFromRange(0, 1)"
   ]
  },
  {
   "cell_type": "markdown",
   "metadata": {},
   "source": [
    "Here we experiment with the model's latent space by making the model predict specified ranges of vectors. From our experiments, the model has appeared to have clustered the input vectors based on their usage. Embeddings with values between [-1, 0] correspond to tokens that are used less often. Some examples that were generated in this range include: \n",
    "\n",
    "tale, '.', woodlands, chapter, '(', forest, ',', Prologue, remember\n",
    "\n",
    "On the other hand, embeddings with values between [0, 1] correspond to tokens that are used more often, such as stop words. Some examples in this range include: \n",
    "\n",
    "in, so, even, the, where, then, but, move, in, so, that, do, have, they, it"
   ]
  },
  {
   "cell_type": "code",
   "execution_count": 19,
   "metadata": {},
   "outputs": [
    {
     "name": "stdout",
     "output_type": "stream",
     "text": [
      "but\n",
      "but\n",
      "but\n",
      "but\n",
      "but\n",
      "but\n",
      "but\n",
      "but\n",
      "but\n",
      "but\n",
      "but\n",
      "but\n",
      "but\n",
      "but\n",
      "but\n",
      "but\n",
      "but\n",
      "but\n",
      "but\n",
      "but\n"
     ]
    }
   ],
   "source": [
    "# Example output when the model is ran with all zeros\n",
    "arr = []\n",
    "for _ in range(N):\n",
    "    arr.append(np.zeros(300))\n",
    "arr = np.array([np.array(arr)])\n",
    "predictions = model.predict(arr)\n",
    "num_outputs = predictions.shape[1]\n",
    "for i in range(num_outputs):\n",
    "    print(my_embeddings.most_similar(positive=[predictions[0][i]], topn=1)[0][0])"
   ]
  },
  {
   "cell_type": "markdown",
   "metadata": {
    "colab_type": "text",
    "id": "yi1_wqi0fhT2"
   },
   "source": [
    "## Text Generation"
   ]
  },
  {
   "cell_type": "markdown",
   "metadata": {},
   "source": [
    "Here we experiment with text generation. The goal of text generation is to provide the model with a seed phrase and have the model generate many values into the \"future.\" We use an iterative algorithm to predict each word. \n",
    "\n",
    "Given a window size of $N$, to predict a word $w_i$, we input $[w_{i-N}, w_{i-N+1}, w_{i-N+2}, ..., w_{i-1}]$\n",
    "\n",
    "Then, we slide our window on top of our newly generated term and repeat this generation step."
   ]
  },
  {
   "cell_type": "code",
   "execution_count": 26,
   "metadata": {
    "colab": {
     "base_uri": "https://localhost:8080/",
     "height": 436
    },
    "colab_type": "code",
    "executionInfo": {
     "elapsed": 1215,
     "status": "ok",
     "timestamp": 1551836084962,
     "user": {
      "displayName": "Andy W",
      "photoUrl": "https://lh3.googleusercontent.com/-e2yB0x7o_ZY/AAAAAAAAAAI/AAAAAAAAJuw/nAsmHlehdlY/s64/photo.jpg",
      "userId": "17506489879312600830"
     },
     "user_tz": 480
    },
    "id": "ygf_m4qVfgGd",
    "outputId": "9a2d316e-449f-41b4-9852-9a1cae638a8d"
   },
   "outputs": [
    {
     "name": "stdout",
     "output_type": "stream",
     "text": [
      "This tale grew in the telling, until it became a history of the Great War of the Ring and included many glimpses other have have have but but but but but\n"
     ]
    }
   ],
   "source": [
    "# generate text out of input sequence string.\n",
    "# The seed input string has to contain at least N words.\n",
    "# If it contains more than N words only the last N will be feed into the network\n",
    "\n",
    "# get array of the last 5 words of the sentence\n",
    "def getVariableTestingPhrase(sentence: str):\n",
    "    '''Converts a variable length phrase with at least N tokens into a list of vectors'''\n",
    "    tokens = word_tokenize(sentence)\n",
    "    if len(tokens) < N:\n",
    "        print(\"Sentence must contain at least \" + str(N) + \" words.\")\n",
    "        return None\n",
    "    return np.array([my_embeddings[i] for i in tokens][-N:])\n",
    "\n",
    "\n",
    "def get_word_from_vector(array_seq):\n",
    "    '''Given the output to our model, obtain the last vector in the array\n",
    "    and fetch its corresponding text translation.'''\n",
    "    return my_embeddings.most_similar(positive=[array_seq[0][-1]], topn=1)[0]\n",
    "\n",
    "\n",
    "def generate_seq(model, seed_text, n_words):\n",
    "    '''Given the model and the seed text, the function will generate n_words number of tokens and\n",
    "    append these tokens to the end of the seed text'''\n",
    "    text_seq = seed_text.split()\n",
    "    # Input Data\n",
    "    text_array_seq = getVariableTestingPhrase(seed_text)\n",
    "    for i in range(n_words):\n",
    "        input = np.expand_dims(text_array_seq, axis=0)\n",
    "        pred = model.predict(input, verbose=0)\n",
    "        pred_word = get_word_from_vector(pred)\n",
    "        text_seq.append(pred_word[0])\n",
    "        # Append predicted word to the end of text_array_seq\n",
    "        # 1. Remove first\n",
    "        text_array_seq = text_array_seq[1:,:]\n",
    "        # 2. Append to last\n",
    "        last_pred = pred[:,-1,:]\n",
    "        text_array_seq = np.append(text_array_seq, last_pred, axis=0)\n",
    "    return ' ' .join(text_seq)\n",
    "  \n",
    "\n",
    "# \"This tale grew in the telling, until it became a history of the Great War of the Ring and included many\"\n",
    "seed_text = \"This tale grew in the telling, until it became a history of the Great War of the Ring and included many\"   \n",
    "generated_text = generate_seq(model, seed_text, 10)\n",
    "print(generated_text)\n",
    "\n",
    "\n",
    "# seed_text = \"Those who had asked for more information about\"\n",
    "# generated_text = generate_seq(model, seed_text, 10)\n",
    "# print(generated_text)\n",
    "\n",
    "# seed_text = \"Bilbo was very rich and\"\n",
    "# generated_text = generate_seq(model, seed_text, 10)\n",
    "# print(generated_text)"
   ]
  },
  {
   "cell_type": "markdown",
   "metadata": {
    "colab": {},
    "colab_type": "code",
    "id": "QbRBtgaamGef"
   },
   "source": [
    "From the output above, our model does not do a good job of generating text beyond the next 3 words. The model exhibits signs of mode collapse because it repeats the same word over and over again. This may be because our model is focusing too much on the last term in the sequence in order to predict the next term. Once our model predicts a common word, it may expect a vector of similar value to come next. Since common words are clustered together (see above), the model gets stuck in a loop of only predicting common words. "
   ]
  },
  {
   "cell_type": "code",
   "execution_count": null,
   "metadata": {},
   "outputs": [],
   "source": []
  }
 ],
 "metadata": {
  "accelerator": "GPU",
  "colab": {
   "collapsed_sections": [],
   "name": "Project_Code",
   "provenance": [],
   "version": "0.3.2"
  },
  "kernelspec": {
   "display_name": "Python 3",
   "language": "python",
   "name": "python3"
  },
  "language_info": {
   "codemirror_mode": {
    "name": "ipython",
    "version": 3
   },
   "file_extension": ".py",
   "mimetype": "text/x-python",
   "name": "python",
   "nbconvert_exporter": "python",
   "pygments_lexer": "ipython3",
   "version": "3.6.8"
  }
 },
 "nbformat": 4,
 "nbformat_minor": 1
}
