{
 "cells": [
  {
   "cell_type": "markdown",
   "metadata": {
    "colab_type": "text",
    "id": "FTeLwWc8MMBO"
   },
   "source": [
    "# Text Prediction and Generation using LSTM Networks"
   ]
  },
  {
   "cell_type": "markdown",
   "metadata": {
    "colab_type": "text",
    "id": "UwK0g5gV5hTi"
   },
   "source": [
    "_______________\n",
    "## Google drive code only\n",
    "Only run the following sections in a colaboratory shell"
   ]
  },
  {
   "cell_type": "code",
   "execution_count": null,
   "metadata": {
    "colab": {
     "base_uri": "https://localhost:8080/",
     "height": 87
    },
    "colab_type": "code",
    "executionInfo": {
     "elapsed": 30489,
     "status": "ok",
     "timestamp": 1551835746036,
     "user": {
      "displayName": "Andy W",
      "photoUrl": "https://lh3.googleusercontent.com/-e2yB0x7o_ZY/AAAAAAAAAAI/AAAAAAAAJuw/nAsmHlehdlY/s64/photo.jpg",
      "userId": "17506489879312600830"
     },
     "user_tz": 480
    },
    "id": "h7P6a2_l5hTj",
    "outputId": "abe81f01-fa9e-4694-f575-e042e4fd56a3"
   },
   "outputs": [],
   "source": [
    "%%time\n",
    "# Code to read google drive files into Colaboratory:\n",
    "!pip install -U -q PyDrive\n",
    "from pydrive.auth import GoogleAuth\n",
    "from pydrive.drive import GoogleDrive\n",
    "from google.colab import auth\n",
    "from oauth2client.client import GoogleCredentials\n",
    "# Authenticate and create the PyDrive client.\n",
    "auth.authenticate_user()\n",
    "gauth = GoogleAuth()\n",
    "gauth.credentials = GoogleCredentials.get_application_default()\n",
    "drive = GoogleDrive(gauth)"
   ]
  },
  {
   "cell_type": "code",
   "execution_count": null,
   "metadata": {
    "colab": {
     "base_uri": "https://localhost:8080/",
     "height": 52
    },
    "colab_type": "code",
    "executionInfo": {
     "elapsed": 30454,
     "status": "ok",
     "timestamp": 1551835746039,
     "user": {
      "displayName": "Andy W",
      "photoUrl": "https://lh3.googleusercontent.com/-e2yB0x7o_ZY/AAAAAAAAAAI/AAAAAAAAJuw/nAsmHlehdlY/s64/photo.jpg",
      "userId": "17506489879312600830"
     },
     "user_tz": 480
    },
    "id": "ujVuCb3iRW8G",
    "outputId": "6ebda17c-e353-49d8-9942-0619a3e141ed"
   },
   "outputs": [],
   "source": [
    "%%time\n",
    "def importFile(fileName: str, fileID: str):\n",
    "  '''Imports a file into the Colaboratory workspace. The fileID can be \n",
    "     found in the file's Share Link'''\n",
    "  print(\"Grabbing file \" + str(fileName) + \" with id = \" + str(fileID)) # Verify that you have everything after '='\n",
    "  downloaded = drive.CreateFile({'id':fileID}) \n",
    "  downloaded.GetContentFile(fileName) "
   ]
  },
  {
   "cell_type": "code",
   "execution_count": null,
   "metadata": {
    "colab": {
     "base_uri": "https://localhost:8080/",
     "height": 52
    },
    "colab_type": "code",
    "executionInfo": {
     "elapsed": 93955,
     "status": "ok",
     "timestamp": 1551835809588,
     "user": {
      "displayName": "Andy W",
      "photoUrl": "https://lh3.googleusercontent.com/-e2yB0x7o_ZY/AAAAAAAAAAI/AAAAAAAAJuw/nAsmHlehdlY/s64/photo.jpg",
      "userId": "17506489879312600830"
     },
     "user_tz": 480
    },
    "id": "r7xpitMqO8bN",
    "outputId": "98facc28-f472-4d9c-efa6-b343038a8d19"
   },
   "outputs": [],
   "source": [
    "# Import all the datasets we are going to use for our project\n",
    "importFile('TheLordOfTheRings_Book1.txt', '1crAeSigOaQcT62W7EjcwrKcIVBx5ayeh')"
   ]
  },
  {
   "cell_type": "code",
   "execution_count": null,
   "metadata": {
    "colab": {
     "base_uri": "https://localhost:8080/",
     "height": 52
    },
    "colab_type": "code",
    "executionInfo": {
     "elapsed": 93955,
     "status": "ok",
     "timestamp": 1551835809588,
     "user": {
      "displayName": "Andy W",
      "photoUrl": "https://lh3.googleusercontent.com/-e2yB0x7o_ZY/AAAAAAAAAAI/AAAAAAAAJuw/nAsmHlehdlY/s64/photo.jpg",
      "userId": "17506489879312600830"
     },
     "user_tz": 480
    },
    "id": "r7xpitMqO8bN",
    "outputId": "98facc28-f472-4d9c-efa6-b343038a8d19"
   },
   "outputs": [],
   "source": [
    "importFile('GoogleNews-vectors-negative300.bin', '1zzUeVFsRYw3lWe6kjk1nccywCkMDp-AY')"
   ]
  },
  {
   "cell_type": "markdown",
   "metadata": {
    "colab_type": "text",
    "id": "o0owQf_T5hTr"
   },
   "source": [
    "## End of Google drive code\n",
    "_________________________________________"
   ]
  },
  {
   "cell_type": "markdown",
   "metadata": {
    "colab": {},
    "colab_type": "code",
    "id": "3ODs77INUaJl"
   },
   "source": [
    "## Setup Word Embeddings\n",
    "\n",
    "- Load top 1 million (out of 3 million) word embeddings from the binary file.\n",
    "- The vectors are 300 dimensions large and are created using the word2vec algorithm.\n",
    "- The model was trained on the GoogleNews corpus and the vector is taken from a latent layer, representing a compressed representation of a word with its surrounding context.  \n",
    "    - The GoogleNews corpus is a similar size to the English version of Wikipedia.\n",
    "- We cannot load all 3,000,000 vectors or else we will run out of RAM.\n",
    "    - Missing words will be added programmatically"
   ]
  },
  {
   "cell_type": "code",
   "execution_count": 1,
   "metadata": {
    "colab": {},
    "colab_type": "code",
    "id": "3ODs77INUaJl"
   },
   "outputs": [
    {
     "name": "stdout",
     "output_type": "stream",
     "text": [
      "Wall time: 4.81 s\n"
     ]
    }
   ],
   "source": [
    "%%time\n",
    "import gensim\n",
    "import numpy as np\n",
    "\n",
    "# This line imports 100,000 vectors\n",
    "embeddings = gensim.models.KeyedVectors.load_word2vec_format('GoogleNews-vectors-negative300.bin', limit=100000, binary=True)"
   ]
  },
  {
   "cell_type": "markdown",
   "metadata": {
    "colab_type": "text",
    "id": "A_WqVQBraIN7"
   },
   "source": [
    "### Word Embedding Examples\n",
    "\n",
    "When we import the binary file using the gensim library, we can easily explore interesting properties of word embeddings. Much like a latent vector produced using an autoencoder, each embedding holds meaningful information about each word and the context in which it is used. The following examples explore the latent space in which these vectors reside."
   ]
  },
  {
   "cell_type": "code",
   "execution_count": 2,
   "metadata": {
    "colab": {
     "base_uri": "https://localhost:8080/",
     "height": 124
    },
    "colab_type": "code",
    "executionInfo": {
     "elapsed": 97713,
     "status": "ok",
     "timestamp": 1551835813375,
     "user": {
      "displayName": "Andy W",
      "photoUrl": "https://lh3.googleusercontent.com/-e2yB0x7o_ZY/AAAAAAAAAAI/AAAAAAAAJuw/nAsmHlehdlY/s64/photo.jpg",
      "userId": "17506489879312600830"
     },
     "user_tz": 480
    },
    "id": "pC_Da54bPmGt",
    "outputId": "7f5501f4-7e80-4d3e-8294-b5620bad5300"
   },
   "outputs": [
    {
     "name": "stdout",
     "output_type": "stream",
     "text": [
      "[('teenage_girl', 0.7674504518508911), ('teenager', 0.7674364447593689), ('toddler', 0.701943576335907)]\n",
      "[('striped_bass', 0.47242963314056396), ('halibut', 0.43524497747421265), ('rockfish', 0.4258560836315155)]\n",
      "[('woman', 0.9972377419471741)]\n"
     ]
    }
   ],
   "source": [
    "# Vector addition/subtraction examples:\n",
    "# What are the top three vectors similar to boy and girl?\n",
    "print(embeddings.most_similar(positive=[\"boy\", \"girl\"], topn=3))\n",
    "# What is a fish without water?\n",
    "print(embeddings.most_similar(positive=[\"fish\"], negative=[\"water\"], topn=3)) \n",
    "\n",
    "# Can also obtain nearby vectors. Here of an example where we slightly modify \n",
    "# the \"woman\" vectors and test if we can get back the same bector using the most_similar function\n",
    "v = np.copy(embeddings[\"woman\"])\n",
    "v[0] += 0.2\n",
    "print(embeddings.most_similar(positive=[v], topn=1))"
   ]
  },
  {
   "cell_type": "markdown",
   "metadata": {
    "colab_type": "text",
    "id": "bF-OhBj7aFDY"
   },
   "source": [
    "![](https://drive.google.com/uc?export=view&id=1e9PxMNKjTXDx7KZDxHpC4ENmz0sXHl_g)"
   ]
  },
  {
   "cell_type": "markdown",
   "metadata": {},
   "source": [
    "Figure 1: Word embeddings organize terms based on the context in which they are used. All three example images demonstrate possible transformation functions that convey structure in the latent space. In the \"Male-Female\" image, there exists a function that relates male-oriented words to their corresponding female-oriented words. In the \"Verb Tense\" image, there exists a function that maps a present-tense word to its past-tense conjugation. In the \"Country-Capital\" image, there exists a function that relates a country to its corresponding capital city.\n",
    "\n",
    "_________________________________________"
   ]
  },
  {
   "cell_type": "markdown",
   "metadata": {
    "colab_type": "text",
    "id": "iuvUj83Fb1ug"
   },
   "source": [
    "## Preprocessing\n",
    "\n",
    "1. Split training data into individual tokens, ie: \"Here is a sentence\" --> \\[\"Here\" \"is\" \"a\" \"sentence\"\\]\n",
    "2. Use nltk to split training data into ngram phrases to feed into our LSTM network\n",
    "    - The model's architecture will automatically adjust based on ngram size\n",
    "3. Shuffle the data\n",
    "4. Split the data into training and validation"
   ]
  },
  {
   "cell_type": "code",
   "execution_count": 3,
   "metadata": {
    "colab": {
     "base_uri": "https://localhost:8080/",
     "height": 35
    },
    "colab_type": "code",
    "executionInfo": {
     "elapsed": 100774,
     "status": "ok",
     "timestamp": 1551835816464,
     "user": {
      "displayName": "Andy W",
      "photoUrl": "https://lh3.googleusercontent.com/-e2yB0x7o_ZY/AAAAAAAAAAI/AAAAAAAAJuw/nAsmHlehdlY/s64/photo.jpg",
      "userId": "17506489879312600830"
     },
     "user_tz": 480
    },
    "id": "mz9lUGnqWNGd",
    "outputId": "3d2647f0-20cf-417d-ac5c-105cf99e5803"
   },
   "outputs": [
    {
     "name": "stderr",
     "output_type": "stream",
     "text": [
      "[nltk_data] Downloading package punkt to\n",
      "[nltk_data]     C:\\Users\\Eric\\AppData\\Roaming\\nltk_data...\n",
      "[nltk_data]   Package punkt is already up-to-date!\n"
     ]
    }
   ],
   "source": [
    "import numpy as np\n",
    "import nltk\n",
    "nltk.download('punkt')\n",
    "from nltk.tokenize import word_tokenize\n",
    "\n",
    "\n",
    "def tokenizeFile(fileName: str) -> list:\n",
    "    '''Will take in the name of a txt file located in the base directory \n",
    "    of the drive and return a list of tokens. Tokens are defined to be\n",
    "    any nonzero sequence of characters.'''\n",
    "    tokens = []\n",
    "    with open(fileName, 'r', encoding=\"ISO-8859-1\") as file:\n",
    "        tokens = word_tokenize(file.read())\n",
    "    return tokens"
   ]
  },
  {
   "cell_type": "code",
   "execution_count": 4,
   "metadata": {
    "colab": {
     "base_uri": "https://localhost:8080/",
     "height": 35
    },
    "colab_type": "code",
    "executionInfo": {
     "elapsed": 100774,
     "status": "ok",
     "timestamp": 1551835816464,
     "user": {
      "displayName": "Andy W",
      "photoUrl": "https://lh3.googleusercontent.com/-e2yB0x7o_ZY/AAAAAAAAAAI/AAAAAAAAJuw/nAsmHlehdlY/s64/photo.jpg",
      "userId": "17506489879312600830"
     },
     "user_tz": 480
    },
    "id": "mz9lUGnqWNGd",
    "outputId": "3d2647f0-20cf-417d-ac5c-105cf99e5803"
   },
   "outputs": [],
   "source": [
    "# Used to generate new embeddings with random weights\n",
    "seed = 0\n",
    "# Used to store only the word vectors we come across in a file\n",
    "my_embeddings = gensim.models.keyedvectors.WordEmbeddingsKeyedVectors(300)\n",
    "\n",
    "\n",
    "def addNewEmbedding(token: str):\n",
    "    '''Adds a new word embedding to our vector set with randomly initialized values.\n",
    "    Returns the newly created embedding.'''\n",
    "    global seed\n",
    "    np.random.seed(seed)\n",
    "    seed += 1\n",
    "    weights = np.random.uniform(-1,1,300)\n",
    "    my_embeddings.add(token, weights)\n",
    "    return my_embeddings[token]\n",
    "\n",
    "\n",
    "def flipFirstChar(word: str) -> str:\n",
    "    '''Capitalizes/Un-capitalizes the first character of the word.\n",
    "    It is not garunteed that all terms in the WordNet corpus are lower\n",
    "    case or upper case. So if we can't find a term then it is a good \n",
    "    idea to fip the first character's case and try again. '''\n",
    "    if word[0].isupper():\n",
    "        return word[0].lower() + word[1:]\n",
    "    else:\n",
    "        return word[0].upper() + word[1:]\n",
    "\n",
    "\n",
    "def tokensToVectors(tokens: list) -> (list, list):\n",
    "    '''Convert a list of terms into a list of word embeddings. \n",
    "    If an embeddding exists for a term, we add it to our vector set.\n",
    "    If an embedding does not exist for a term, we create a new embedding and add it to our vector set.'''\n",
    "    vectors = []\n",
    "    unknownTokens = set()\n",
    "    for token in tokens:\n",
    "        # The vector exists in the GoogleNews vector set\n",
    "        if token in embeddings:\n",
    "            weights = embeddings[token]\n",
    "            vectors.append(weights)\n",
    "            my_embeddings.add(token, weights)\n",
    "        # The flipFirstChar'ed vector exists in the GoogleNews vector set\n",
    "        elif flipFirstChar(token) in embeddings:\n",
    "            weights = embeddings[flipFirstChar(token)]\n",
    "            vectors.append(weights)\n",
    "            my_embeddings.add(token, weights)\n",
    "        # The vector does not exist so make a new vector\n",
    "        else:\n",
    "            weights = addNewEmbedding(token)\n",
    "            vectors.append(weights)\n",
    "            unknownTokens.add(token)\n",
    "    return vectors, unknownTokens\n",
    "\n",
    "\n",
    "def phrasesToVectors(ngramList: list, summary=True) -> (list, list):\n",
    "    '''Calls wordsToVectors() on a list of lists. This function will be called\n",
    "       after data is split into ngrams. Each phrase in the code below operations\n",
    "       on a single ngram.'''\n",
    "    ngramVectorList = []\n",
    "    allUnknownTokens = set()\n",
    "    for tokens in ngramList:\n",
    "        vectors, unknownTokens = tokensToVectors(tokens)\n",
    "        ngramVectorList.append(vectors)\n",
    "        allUnknownTokens = allUnknownTokens.union(unknownTokens)  \n",
    "    if summary:\n",
    "        print(\"Number of training ngrams: \" + str(len(ngramVectorList)))\n",
    "        print(\"Number of unknown vector terms created: \" + str(len(allUnknownTokens)))\n",
    "    print(\"Shape of training set: \" + str(np.shape(ngramVectorList)))\n",
    "    return np.array(ngramVectorList, dtype=np.ndarray), allUnknownTokens"
   ]
  },
  {
   "cell_type": "code",
   "execution_count": 5,
   "metadata": {
    "colab": {
     "base_uri": "https://localhost:8080/",
     "height": 104
    },
    "colab_type": "code",
    "executionInfo": {
     "elapsed": 120045,
     "status": "ok",
     "timestamp": 1551835835756,
     "user": {
      "displayName": "Andy W",
      "photoUrl": "https://lh3.googleusercontent.com/-e2yB0x7o_ZY/AAAAAAAAAAI/AAAAAAAAJuw/nAsmHlehdlY/s64/photo.jpg",
      "userId": "17506489879312600830"
     },
     "user_tz": 480
    },
    "id": "uU-H6dNE5hT5",
    "outputId": "c658075b-f9ee-4869-e94c-47e7a3ab7e78"
   },
   "outputs": [
    {
     "name": "stdout",
     "output_type": "stream",
     "text": [
      "Using 4435 non-unique words from the text\n",
      "Number of training ngrams: 4430\n",
      "Number of unknown vector terms created: 149\n",
      "Shape of training set: (4430, 6, 300)\n",
      "Wall time: 20.1 s\n"
     ]
    }
   ],
   "source": [
    "%%time\n",
    "from nltk import ngrams\n",
    "\n",
    "# Cut number of words so we can fit everything in memory\n",
    "words_all = tokenizeFile(\"TheLordOfTheRings_Book1.txt\")\n",
    "words = words_all[:len(words_all)//50]\n",
    "print(\"Using \" + str(len(words)) + \" non-unique words from the text\")\n",
    "# Change this parameter to decrease or increase the size of the training samples\n",
    "N = 5\n",
    "ngrams_words = ngrams(words, N + 1)\n",
    "ngram_vectors_original, _ = phrasesToVectors(ngrams_words)"
   ]
  },
  {
   "cell_type": "code",
   "execution_count": 6,
   "metadata": {
    "colab": {
     "base_uri": "https://localhost:8080/",
     "height": 87
    },
    "colab_type": "code",
    "executionInfo": {
     "elapsed": 120030,
     "status": "ok",
     "timestamp": 1551835835763,
     "user": {
      "displayName": "Andy W",
      "photoUrl": "https://lh3.googleusercontent.com/-e2yB0x7o_ZY/AAAAAAAAAAI/AAAAAAAAJuw/nAsmHlehdlY/s64/photo.jpg",
      "userId": "17506489879312600830"
     },
     "user_tz": 480
    },
    "id": "qEfgIpp15hT9",
    "outputId": "f7ff6c92-2cc2-42d3-97ee-6f07d59551eb"
   },
   "outputs": [
    {
     "name": "stdout",
     "output_type": "stream",
     "text": [
      "Samples Shape: (4430, 6, 300)\n",
      "Wall time: 56.8 ms\n"
     ]
    }
   ],
   "source": [
    "%%time\n",
    "# Make a copy of the original ngrams just in case we want to run our model with different parameters\n",
    "ngram_vectors = ngram_vectors_original\n",
    "# Shuffling the data to increase validation accuracy\n",
    "np.random.shuffle(ngram_vectors)\n",
    "print(\"Samples Shape: \" + str(ngram_vectors.shape))"
   ]
  },
  {
   "cell_type": "markdown",
   "metadata": {
    "colab_type": "text",
    "id": "cBUN5Hjf5hUA"
   },
   "source": [
    "### Training/Validation Split\n",
    "First we will set aside 10% of our data for validation. \n",
    "\n",
    "Each phrase (element) in ngram_vectors will be split into two parts. All the terms preceeding the last term will be used to predict the last term. So, if we have an array of phrases of size six, then these phrases will be split into two arrays of equal size. For example: \n",
    "\n",
    "phrase: \\[This tale grew in the telling\\]\n",
    " - input data = \\[This tale grew in the\\]\n",
    " - expected output = \\[tale grew in the telling\\]"
   ]
  },
  {
   "cell_type": "code",
   "execution_count": 7,
   "metadata": {
    "colab": {
     "base_uri": "https://localhost:8080/",
     "height": 52
    },
    "colab_type": "code",
    "executionInfo": {
     "elapsed": 120016,
     "status": "ok",
     "timestamp": 1551835835768,
     "user": {
      "displayName": "Andy W",
      "photoUrl": "https://lh3.googleusercontent.com/-e2yB0x7o_ZY/AAAAAAAAAAI/AAAAAAAAJuw/nAsmHlehdlY/s64/photo.jpg",
      "userId": "17506489879312600830"
     },
     "user_tz": 480
    },
    "id": "6l2HRpsmaK84",
    "outputId": "c0b380ba-6ab6-4836-e401-7b5f6cc38358"
   },
   "outputs": [
    {
     "name": "stdout",
     "output_type": "stream",
     "text": [
      "Training Input: (3987, 5, 300), Training Predict: (3987, 5, 300)\n",
      "Validation Input: (443, 5, 300), Validation Predict: (443, 5, 300)\n"
     ]
    }
   ],
   "source": [
    "import math\n",
    "\n",
    "# Split data into training and validation\n",
    "split = math.floor(np.size(ngram_vectors, axis=0) * 0.9)\n",
    "training = ngram_vectors[:split,:,:]\n",
    "validation = ngram_vectors[split:,:,:]\n",
    "\n",
    "# Split the training and validation data as discussed above ^\n",
    "train_input = training[:,:-1,:]\n",
    "# train_predict = np.expand_dims(training[:,-1,:], axis=1)\n",
    "train_predict = training[:,1:,:]\n",
    "\n",
    "\n",
    "validation_input = validation[:,:-1,:]\n",
    "# validation_predict = np.expand_dims(validation[:,-1,:], axis=1)\n",
    "validation_predict = validation[:,1:,:]\n",
    "\n",
    "print(\"Training Input: \" + str(train_input.shape) + \", Training Predict: \" + str(train_predict.shape))\n",
    "print(\"Validation Input: \" + str(validation_input.shape) + \", Validation Predict: \" + str(validation_predict.shape))"
   ]
  },
  {
   "cell_type": "markdown",
   "metadata": {
    "colab_type": "text",
    "id": "tOYI6ZRM5hUE"
   },
   "source": [
    "## Architecture Explaination\n",
    "\n",
    "- The input shape is 300 because we take in each dimension of the word embedding as input.\n",
    "- The default Tanh activation function is used on LSTM cells.\n",
    "- No dropout layers are used because they decrease training accuracy with negligible improvements to validation accuracy.\n",
    "- Tanh activation function is used on the final dense layer to restrict the output of the vector from -1 to 1 because word embeddings are normalized betweeen -1 and 1.\n",
    "- A third LSTM layer increases training and validation accuracy\n",
    "- Loss is cosine similarity because word2vec also uses cosine similarity to measure the distance between word vectors.\n",
    "\n",
    "This table represents our adjustments to the model with its corresponding testing and validation scores. All results use 100 epochs, a batch size of 32, and a cosine proximity loss function.\n",
    "\n",
    "| Description | Training Accuracy | Validation Accuracy | |\n",
    "|------|------|------|-|\n",
    "| 2 LSTM with sigmoid<br>1 Dense with no activation | 0.4603 | 0.3670 ||\n",
    "| 2 LSTM with tanh<br>2 Dropout<br>1 Dense with no activation | 0.4067 | 0.3761 ||\n",
    "| 2 LSTM with tanh<br>2 Dropout<br>1 Dense with tanh | 0.4219 | 0.3946 ||\n",
    "| 2 LSTM with tanh<br>1 Dense with no activation | 0.4978 | 0.3707 ||\n",
    "| 2 LSTM with tanh<br>1 Dense with tanh | 0.5012 | 0.3887 ||\n",
    "| 3 LSTM with tanh<br>1 Dense with tanh | 0.5548 | 0.4068 |Best Model|\n"
   ]
  },
  {
   "cell_type": "code",
   "execution_count": 22,
   "metadata": {
    "colab": {
     "base_uri": "https://localhost:8080/",
     "height": 349
    },
    "colab_type": "code",
    "executionInfo": {
     "elapsed": 121155,
     "status": "ok",
     "timestamp": 1551835836935,
     "user": {
      "displayName": "Andy W",
      "photoUrl": "https://lh3.googleusercontent.com/-e2yB0x7o_ZY/AAAAAAAAAAI/AAAAAAAAJuw/nAsmHlehdlY/s64/photo.jpg",
      "userId": "17506489879312600830"
     },
     "user_tz": 480
    },
    "id": "CymWYziXllRA",
    "outputId": "22e50a6c-fb33-4373-9d7b-c805e272890b"
   },
   "outputs": [
    {
     "name": "stdout",
     "output_type": "stream",
     "text": [
      "Input Shape: (5, 300)\n",
      "_________________________________________________________________\n",
      "Layer (type)                 Output Shape              Param #   \n",
      "=================================================================\n",
      "lstm_12 (LSTM)               (None, 5, 300)            721200    \n",
      "_________________________________________________________________\n",
      "lstm_13 (LSTM)               (None, 5, 300)            721200    \n",
      "_________________________________________________________________\n",
      "lstm_14 (LSTM)               (None, 5, 300)            721200    \n",
      "_________________________________________________________________\n",
      "dense_6 (Dense)              (None, 5, 300)            90300     \n",
      "=================================================================\n",
      "Total params: 2,253,900\n",
      "Trainable params: 2,253,900\n",
      "Non-trainable params: 0\n",
      "_________________________________________________________________\n",
      "None\n"
     ]
    }
   ],
   "source": [
    "from tensorflow.keras.models import Sequential\n",
    "from keras.models import Sequential\n",
    "from keras.layers import LSTM, Dense, Dropout\n",
    "\n",
    "input_shape=(N, 300)\n",
    "print(\"Input Shape: \" + str(input_shape))\n",
    "\n",
    "model = Sequential()  \n",
    "model.add(LSTM(300, input_shape=input_shape, return_sequences=True, activation='tanh'))\n",
    "model.add(LSTM(300, return_sequences=True, activation='tanh'))\n",
    "model.add(LSTM(300, return_sequences=True, activation='tanh'))\n",
    "model.add(Dense(300, activation='tanh'))\n",
    "\n",
    "model.compile(loss='cosine_proximity', optimizer='adam',metrics=['accuracy'])\n",
    "print(model.summary())"
   ]
  },
  {
   "cell_type": "code",
   "execution_count": 23,
   "metadata": {
    "colab": {
     "base_uri": "https://localhost:8080/",
     "height": 7075
    },
    "colab_type": "code",
    "executionInfo": {
     "elapsed": 350005,
     "status": "ok",
     "timestamp": 1551836065824,
     "user": {
      "displayName": "Andy W",
      "photoUrl": "https://lh3.googleusercontent.com/-e2yB0x7o_ZY/AAAAAAAAAAI/AAAAAAAAJuw/nAsmHlehdlY/s64/photo.jpg",
      "userId": "17506489879312600830"
     },
     "user_tz": 480
    },
    "id": "UaStJMjKWf7Y",
    "outputId": "9ae8ee3c-0f48-4cbe-eaa8-0eb90a562a03"
   },
   "outputs": [
    {
     "name": "stdout",
     "output_type": "stream",
     "text": [
      "Train on 3987 samples, validate on 443 samples\n",
      "Epoch 1/100\n",
      " - 6s - loss: -3.5597e-01 - acc: 0.0447 - val_loss: -3.8157e-01 - val_acc: 0.0447\n",
      "Epoch 2/100\n",
      " - 4s - loss: -3.9825e-01 - acc: 0.0621 - val_loss: -4.1936e-01 - val_acc: 0.0659\n",
      "Epoch 3/100\n",
      " - 4s - loss: -4.3657e-01 - acc: 0.0907 - val_loss: -4.4560e-01 - val_acc: 0.0930\n",
      "Epoch 4/100\n",
      " - 4s - loss: -4.6695e-01 - acc: 0.1099 - val_loss: -4.6585e-01 - val_acc: 0.1043\n",
      "Epoch 5/100\n",
      " - 4s - loss: -4.9496e-01 - acc: 0.1269 - val_loss: -4.8623e-01 - val_acc: 0.1237\n",
      "Epoch 6/100\n",
      " - 4s - loss: -5.2241e-01 - acc: 0.1454 - val_loss: -5.0614e-01 - val_acc: 0.1359\n",
      "Epoch 7/100\n",
      " - 4s - loss: -5.4939e-01 - acc: 0.1626 - val_loss: -5.2412e-01 - val_acc: 0.1463\n",
      "Epoch 8/100\n",
      " - 4s - loss: -5.7553e-01 - acc: 0.1819 - val_loss: -5.4362e-01 - val_acc: 0.1670\n",
      "Epoch 9/100\n",
      " - 4s - loss: -6.0048e-01 - acc: 0.2043 - val_loss: -5.6233e-01 - val_acc: 0.1675\n",
      "Epoch 10/100\n",
      " - 4s - loss: -6.2429e-01 - acc: 0.2172 - val_loss: -5.8075e-01 - val_acc: 0.1828\n",
      "Epoch 11/100\n",
      " - 4s - loss: -6.4736e-01 - acc: 0.2360 - val_loss: -5.9849e-01 - val_acc: 0.1964\n",
      "Epoch 12/100\n",
      " - 4s - loss: -6.6930e-01 - acc: 0.2511 - val_loss: -6.1425e-01 - val_acc: 0.2095\n",
      "Epoch 13/100\n",
      " - 4s - loss: -6.8903e-01 - acc: 0.2681 - val_loss: -6.2822e-01 - val_acc: 0.2217\n",
      "Epoch 14/100\n",
      " - 4s - loss: -7.0688e-01 - acc: 0.2828 - val_loss: -6.4144e-01 - val_acc: 0.2253\n",
      "Epoch 15/100\n",
      " - 4s - loss: -7.2282e-01 - acc: 0.2994 - val_loss: -6.5401e-01 - val_acc: 0.2388\n",
      "Epoch 16/100\n",
      " - 4s - loss: -7.3622e-01 - acc: 0.3162 - val_loss: -6.6439e-01 - val_acc: 0.2460\n",
      "Epoch 17/100\n",
      " - 4s - loss: -7.4784e-01 - acc: 0.3266 - val_loss: -6.7401e-01 - val_acc: 0.2582\n",
      "Epoch 18/100\n",
      " - 4s - loss: -7.5885e-01 - acc: 0.3413 - val_loss: -6.8250e-01 - val_acc: 0.2713\n",
      "Epoch 19/100\n",
      " - 4s - loss: -7.6766e-01 - acc: 0.3559 - val_loss: -6.8856e-01 - val_acc: 0.2772\n",
      "Epoch 20/100\n",
      " - 4s - loss: -7.7580e-01 - acc: 0.3681 - val_loss: -6.9489e-01 - val_acc: 0.2862\n",
      "Epoch 21/100\n",
      " - 4s - loss: -7.8230e-01 - acc: 0.3726 - val_loss: -7.0028e-01 - val_acc: 0.2758\n",
      "Epoch 22/100\n",
      " - 4s - loss: -7.8859e-01 - acc: 0.3802 - val_loss: -7.0790e-01 - val_acc: 0.2984\n",
      "Epoch 23/100\n",
      " - 4s - loss: -7.9426e-01 - acc: 0.3908 - val_loss: -7.0923e-01 - val_acc: 0.3007\n",
      "Epoch 24/100\n",
      " - 4s - loss: -7.9884e-01 - acc: 0.3984 - val_loss: -7.1198e-01 - val_acc: 0.3056\n",
      "Epoch 25/100\n",
      " - 4s - loss: -8.0343e-01 - acc: 0.4043 - val_loss: -7.1590e-01 - val_acc: 0.3061\n",
      "Epoch 26/100\n",
      " - 4s - loss: -8.0755e-01 - acc: 0.4094 - val_loss: -7.2140e-01 - val_acc: 0.3147\n",
      "Epoch 27/100\n",
      " - 4s - loss: -8.1113e-01 - acc: 0.4103 - val_loss: -7.2140e-01 - val_acc: 0.3074\n",
      "Epoch 28/100\n",
      " - 4s - loss: -8.1417e-01 - acc: 0.4152 - val_loss: -7.2588e-01 - val_acc: 0.3178\n",
      "Epoch 29/100\n",
      " - 4s - loss: -8.1716e-01 - acc: 0.4250 - val_loss: -7.2965e-01 - val_acc: 0.3187\n",
      "Epoch 30/100\n",
      " - 4s - loss: -8.2042e-01 - acc: 0.4242 - val_loss: -7.2976e-01 - val_acc: 0.3255\n",
      "Epoch 31/100\n",
      " - 4s - loss: -8.2282e-01 - acc: 0.4310 - val_loss: -7.3175e-01 - val_acc: 0.3305\n",
      "Epoch 32/100\n",
      " - 4s - loss: -8.2542e-01 - acc: 0.4333 - val_loss: -7.3359e-01 - val_acc: 0.3350\n",
      "Epoch 33/100\n",
      " - 4s - loss: -8.2734e-01 - acc: 0.4397 - val_loss: -7.3349e-01 - val_acc: 0.3481\n",
      "Epoch 34/100\n",
      " - 4s - loss: -8.2981e-01 - acc: 0.4505 - val_loss: -7.3596e-01 - val_acc: 0.3296\n",
      "Epoch 35/100\n",
      " - 4s - loss: -8.3158e-01 - acc: 0.4480 - val_loss: -7.3773e-01 - val_acc: 0.3449\n",
      "Epoch 36/100\n",
      " - 4s - loss: -8.3319e-01 - acc: 0.4525 - val_loss: -7.3963e-01 - val_acc: 0.3372\n",
      "Epoch 37/100\n",
      " - 4s - loss: -8.3522e-01 - acc: 0.4512 - val_loss: -7.3798e-01 - val_acc: 0.3395\n",
      "Epoch 38/100\n",
      " - 4s - loss: -8.3641e-01 - acc: 0.4527 - val_loss: -7.3949e-01 - val_acc: 0.3517\n",
      "Epoch 39/100\n",
      " - 4s - loss: -8.3784e-01 - acc: 0.4576 - val_loss: -7.4271e-01 - val_acc: 0.3391\n",
      "Epoch 40/100\n",
      " - 4s - loss: -8.3888e-01 - acc: 0.4639 - val_loss: -7.4298e-01 - val_acc: 0.3381\n",
      "Epoch 41/100\n",
      " - 4s - loss: -8.4064e-01 - acc: 0.4642 - val_loss: -7.4557e-01 - val_acc: 0.3503\n",
      "Epoch 42/100\n",
      " - 4s - loss: -8.4190e-01 - acc: 0.4678 - val_loss: -7.4360e-01 - val_acc: 0.3467\n",
      "Epoch 43/100\n",
      " - 4s - loss: -8.4288e-01 - acc: 0.4668 - val_loss: -7.4513e-01 - val_acc: 0.3585\n",
      "Epoch 44/100\n",
      " - 4s - loss: -8.4413e-01 - acc: 0.4703 - val_loss: -7.4691e-01 - val_acc: 0.3756\n",
      "Epoch 45/100\n",
      " - 4s - loss: -8.4512e-01 - acc: 0.4788 - val_loss: -7.4748e-01 - val_acc: 0.3603\n",
      "Epoch 46/100\n",
      " - 4s - loss: -8.4600e-01 - acc: 0.4755 - val_loss: -7.4813e-01 - val_acc: 0.3567\n",
      "Epoch 47/100\n",
      " - 4s - loss: -8.4726e-01 - acc: 0.4728 - val_loss: -7.4911e-01 - val_acc: 0.3684\n",
      "Epoch 48/100\n",
      " - 4s - loss: -8.4772e-01 - acc: 0.4816 - val_loss: -7.4952e-01 - val_acc: 0.3693\n",
      "Epoch 49/100\n",
      " - 4s - loss: -8.4877e-01 - acc: 0.4825 - val_loss: -7.4878e-01 - val_acc: 0.3544\n",
      "Epoch 50/100\n",
      " - 4s - loss: -8.4983e-01 - acc: 0.4826 - val_loss: -7.4995e-01 - val_acc: 0.3616\n",
      "Epoch 51/100\n",
      " - 4s - loss: -8.5065e-01 - acc: 0.4882 - val_loss: -7.4965e-01 - val_acc: 0.3648\n",
      "Epoch 52/100\n",
      " - 4s - loss: -8.5092e-01 - acc: 0.4887 - val_loss: -7.5145e-01 - val_acc: 0.3684\n",
      "Epoch 53/100\n",
      " - 4s - loss: -8.5195e-01 - acc: 0.4907 - val_loss: -7.5167e-01 - val_acc: 0.3643\n",
      "Epoch 54/100\n",
      " - 4s - loss: -8.5274e-01 - acc: 0.4908 - val_loss: -7.5285e-01 - val_acc: 0.3607\n",
      "Epoch 55/100\n",
      " - 4s - loss: -8.5356e-01 - acc: 0.4965 - val_loss: -7.5223e-01 - val_acc: 0.3666\n",
      "Epoch 56/100\n",
      " - 4s - loss: -8.5414e-01 - acc: 0.4945 - val_loss: -7.5405e-01 - val_acc: 0.3580\n",
      "Epoch 57/100\n",
      " - 4s - loss: -8.5485e-01 - acc: 0.4964 - val_loss: -7.5264e-01 - val_acc: 0.3702\n",
      "Epoch 58/100\n",
      " - 4s - loss: -8.5540e-01 - acc: 0.5008 - val_loss: -7.5414e-01 - val_acc: 0.3720\n",
      "Epoch 59/100\n",
      " - 4s - loss: -8.5584e-01 - acc: 0.5009 - val_loss: -7.5532e-01 - val_acc: 0.3779\n",
      "Epoch 60/100\n",
      " - 4s - loss: -8.5628e-01 - acc: 0.5086 - val_loss: -7.5495e-01 - val_acc: 0.3815\n",
      "Epoch 61/100\n",
      " - 4s - loss: -8.5714e-01 - acc: 0.5048 - val_loss: -7.5473e-01 - val_acc: 0.3810\n",
      "Epoch 62/100\n",
      " - 4s - loss: -8.5760e-01 - acc: 0.5076 - val_loss: -7.5536e-01 - val_acc: 0.3743\n",
      "Epoch 63/100\n",
      " - 4s - loss: -8.5829e-01 - acc: 0.5087 - val_loss: -7.5628e-01 - val_acc: 0.3688\n",
      "Epoch 64/100\n",
      " - 4s - loss: -8.5873e-01 - acc: 0.5128 - val_loss: -7.5609e-01 - val_acc: 0.3865\n",
      "Epoch 65/100\n",
      " - 4s - loss: -8.5921e-01 - acc: 0.5132 - val_loss: -7.5741e-01 - val_acc: 0.3684\n",
      "Epoch 66/100\n",
      " - 4s - loss: -8.5985e-01 - acc: 0.5201 - val_loss: -7.5663e-01 - val_acc: 0.3765\n",
      "Epoch 67/100\n",
      " - 4s - loss: -8.6024e-01 - acc: 0.5151 - val_loss: -7.5821e-01 - val_acc: 0.3896\n",
      "Epoch 68/100\n",
      " - 4s - loss: -8.6042e-01 - acc: 0.5190 - val_loss: -7.5798e-01 - val_acc: 0.3910\n",
      "Epoch 69/100\n",
      " - 4s - loss: -8.6087e-01 - acc: 0.5170 - val_loss: -7.5869e-01 - val_acc: 0.3865\n",
      "Epoch 70/100\n",
      " - 4s - loss: -8.6129e-01 - acc: 0.5174 - val_loss: -7.5800e-01 - val_acc: 0.3815\n",
      "Epoch 71/100\n",
      " - 4s - loss: -8.6220e-01 - acc: 0.5207 - val_loss: -7.5853e-01 - val_acc: 0.3819\n",
      "Epoch 72/100\n",
      " - 4s - loss: -8.6251e-01 - acc: 0.5208 - val_loss: -7.5866e-01 - val_acc: 0.4023\n",
      "Epoch 73/100\n",
      " - 4s - loss: -8.6281e-01 - acc: 0.5285 - val_loss: -7.5948e-01 - val_acc: 0.3788\n",
      "Epoch 74/100\n",
      " - 4s - loss: -8.6322e-01 - acc: 0.5237 - val_loss: -7.5896e-01 - val_acc: 0.3937\n",
      "Epoch 75/100\n",
      " - 4s - loss: -8.6360e-01 - acc: 0.5237 - val_loss: -7.5748e-01 - val_acc: 0.3910\n",
      "Epoch 76/100\n",
      " - 4s - loss: -8.6397e-01 - acc: 0.5253 - val_loss: -7.5843e-01 - val_acc: 0.3964\n",
      "Epoch 77/100\n",
      " - 4s - loss: -8.6438e-01 - acc: 0.5335 - val_loss: -7.5996e-01 - val_acc: 0.3887\n",
      "Epoch 78/100\n",
      " - 4s - loss: -8.6463e-01 - acc: 0.5263 - val_loss: -7.5869e-01 - val_acc: 0.3847\n",
      "Epoch 79/100\n",
      " - 4s - loss: -8.6477e-01 - acc: 0.5290 - val_loss: -7.5940e-01 - val_acc: 0.3959\n",
      "Epoch 80/100\n",
      " - 4s - loss: -8.6528e-01 - acc: 0.5289 - val_loss: -7.6047e-01 - val_acc: 0.3982\n",
      "Epoch 81/100\n",
      " - 4s - loss: -8.6564e-01 - acc: 0.5331 - val_loss: -7.6005e-01 - val_acc: 0.4045\n",
      "Epoch 82/100\n",
      " - 4s - loss: -8.6587e-01 - acc: 0.5401 - val_loss: -7.5950e-01 - val_acc: 0.3928\n",
      "Epoch 83/100\n",
      " - 4s - loss: -8.6640e-01 - acc: 0.5335 - val_loss: -7.5959e-01 - val_acc: 0.3905\n",
      "Epoch 84/100\n",
      " - 4s - loss: -8.6650e-01 - acc: 0.5389 - val_loss: -7.6071e-01 - val_acc: 0.3932\n",
      "Epoch 85/100\n",
      " - 4s - loss: -8.6714e-01 - acc: 0.5338 - val_loss: -7.6056e-01 - val_acc: 0.4023\n",
      "Epoch 86/100\n",
      " - 4s - loss: -8.6722e-01 - acc: 0.5411 - val_loss: -7.6018e-01 - val_acc: 0.3964\n"
     ]
    },
    {
     "name": "stdout",
     "output_type": "stream",
     "text": [
      "Epoch 87/100\n",
      " - 4s - loss: -8.6735e-01 - acc: 0.5423 - val_loss: -7.6035e-01 - val_acc: 0.4059\n",
      "Epoch 88/100\n",
      " - 4s - loss: -8.6788e-01 - acc: 0.5396 - val_loss: -7.6089e-01 - val_acc: 0.4072\n",
      "Epoch 89/100\n",
      " - 4s - loss: -8.6805e-01 - acc: 0.5426 - val_loss: -7.5980e-01 - val_acc: 0.4005\n",
      "Epoch 90/100\n",
      " - 4s - loss: -8.6841e-01 - acc: 0.5442 - val_loss: -7.6078e-01 - val_acc: 0.4059\n",
      "Epoch 91/100\n",
      " - 4s - loss: -8.6857e-01 - acc: 0.5460 - val_loss: -7.6152e-01 - val_acc: 0.3914\n",
      "Epoch 92/100\n",
      " - 4s - loss: -8.6891e-01 - acc: 0.5452 - val_loss: -7.6084e-01 - val_acc: 0.3959\n",
      "Epoch 93/100\n",
      " - 4s - loss: -8.6914e-01 - acc: 0.5479 - val_loss: -7.6118e-01 - val_acc: 0.3973\n",
      "Epoch 94/100\n",
      " - 4s - loss: -8.6936e-01 - acc: 0.5520 - val_loss: -7.6104e-01 - val_acc: 0.4090\n",
      "Epoch 95/100\n",
      " - 4s - loss: -8.6958e-01 - acc: 0.5482 - val_loss: -7.6176e-01 - val_acc: 0.4014\n",
      "Epoch 96/100\n",
      " - 4s - loss: -8.6982e-01 - acc: 0.5538 - val_loss: -7.6159e-01 - val_acc: 0.3977\n",
      "Epoch 97/100\n",
      " - 4s - loss: -8.7015e-01 - acc: 0.5483 - val_loss: -7.6173e-01 - val_acc: 0.4023\n",
      "Epoch 98/100\n",
      " - 4s - loss: -8.7044e-01 - acc: 0.5548 - val_loss: -7.6162e-01 - val_acc: 0.4203\n",
      "Epoch 99/100\n",
      " - 4s - loss: -8.7077e-01 - acc: 0.5579 - val_loss: -7.6202e-01 - val_acc: 0.4077\n",
      "Epoch 100/100\n",
      " - 4s - loss: -8.7079e-01 - acc: 0.5548 - val_loss: -7.6203e-01 - val_acc: 0.4068\n",
      "Wall time: 6min 24s\n"
     ]
    }
   ],
   "source": [
    "%%time\n",
    "history = model.fit(train_input, train_predict, epochs=100, batch_size=32, verbose=2, validation_data=(validation_input, validation_predict))"
   ]
  },
  {
   "cell_type": "code",
   "execution_count": 24,
   "metadata": {
    "colab": {
     "base_uri": "https://localhost:8080/",
     "height": 377
    },
    "colab_type": "code",
    "executionInfo": {
     "elapsed": 350738,
     "status": "ok",
     "timestamp": 1551836066606,
     "user": {
      "displayName": "Andy W",
      "photoUrl": "https://lh3.googleusercontent.com/-e2yB0x7o_ZY/AAAAAAAAAAI/AAAAAAAAJuw/nAsmHlehdlY/s64/photo.jpg",
      "userId": "17506489879312600830"
     },
     "user_tz": 480
    },
    "id": "_Z6NaUjF5hUT",
    "outputId": "db8a1159-369a-4ebb-ba7b-c99cd9cd31f0"
   },
   "outputs": [
    {
     "data": {
      "image/png": "[encoded data removed]",
      "text/plain": [
       "<Figure size 432x288 with 1 Axes>"
      ]
     },
     "metadata": {
      "needs_background": "light"
     },
     "output_type": "display_data"
    }
   ],
   "source": [
    "from matplotlib import pyplot as plt\n",
    "\n",
    "def plot_accuracy(history):\n",
    "  plt.plot(history.history['acc'],label='train')\n",
    "  if 'val_acc' in history.history:\n",
    "    plt.plot(history.history['val_acc'],label='val')\n",
    "  plt.xlabel('Epoch')\n",
    "  plt.ylabel('Accuracy')\n",
    "  plt.legend()\n",
    "  plt.title('Accuracy during Training')\n",
    "  plt.show()\n",
    "\n",
    "plot_accuracy(history)"
   ]
  },
  {
   "cell_type": "code",
   "execution_count": 25,
   "metadata": {
    "colab": {
     "base_uri": "https://localhost:8080/",
     "height": 377
    },
    "colab_type": "code",
    "executionInfo": {
     "elapsed": 350720,
     "status": "ok",
     "timestamp": 1551836066609,
     "user": {
      "displayName": "Andy W",
      "photoUrl": "https://lh3.googleusercontent.com/-e2yB0x7o_ZY/AAAAAAAAAAI/AAAAAAAAJuw/nAsmHlehdlY/s64/photo.jpg",
      "userId": "17506489879312600830"
     },
     "user_tz": 480
    },
    "id": "977XiQEf5hUX",
    "outputId": "9658bc01-9776-4f87-c022-809899b15d16"
   },
   "outputs": [
    {
     "data": {
      "image/png": "[encoded data removed]",
      "text/plain": [
       "<Figure size 432x288 with 1 Axes>"
      ]
     },
     "metadata": {
      "needs_background": "light"
     },
     "output_type": "display_data"
    }
   ],
   "source": [
    "def plot_loss(history):\n",
    "  plt.plot(history.history['loss'],label='train')\n",
    "  if 'val_loss' in history.history:\n",
    "    plt.plot(history.history['val_loss'],label='val')\n",
    "  plt.xlabel('Epoch')\n",
    "  plt.ylabel('Loss')\n",
    "  plt.legend()\n",
    "  plt.title('Loss during Training')\n",
    "  plt.show()\n",
    "\n",
    "plot_loss(history)"
   ]
  },
  {
   "cell_type": "markdown",
   "metadata": {
    "colab_type": "text",
    "id": "gEIj2vesfkV2"
   },
   "source": [
    "## Text Prediction\n",
    "\n",
    "Here we demonstrate the predictive nature of our model. In order to make a prediction, our model must be provided a seed. The seed must be equal to N (defined above as the input size to our model). In the example shown below, we seed our model with the first phrase of the book \"This tale grew in the\" and we expect each prediction to be the next word in the phrase, such as \"tale grew in the telling.\" The correct pairings are as follows:\n",
    "\n",
    "This => tale\n",
    "\n",
    "tale => grew\n",
    "\n",
    "grew => in\n",
    "\n",
    "in => the\n",
    "\n",
    "the => telling"
   ]
  },
  {
   "cell_type": "code",
   "execution_count": 38,
   "metadata": {
    "colab": {
     "base_uri": "https://localhost:8080/",
     "height": 211
    },
    "colab_type": "code",
    "executionInfo": {
     "elapsed": 938,
     "status": "ok",
     "timestamp": 1551836079609,
     "user": {
      "displayName": "Andy W",
      "photoUrl": "https://lh3.googleusercontent.com/-e2yB0x7o_ZY/AAAAAAAAAAI/AAAAAAAAJuw/nAsmHlehdlY/s64/photo.jpg",
      "userId": "17506489879312600830"
     },
     "user_tz": 480
    },
    "id": "7V2LweZcjqfG",
    "outputId": "34fdb3f4-e131-4fa6-e38b-2ff85b028da7"
   },
   "outputs": [
    {
     "name": "stdout",
     "output_type": "stream",
     "text": [
      "This => [('tale', 0.7269088625907898)]\n",
      "tale => [('grew', 0.9325688481330872)]\n",
      "grew => [('in', 0.9984217882156372)]\n",
      "in => [('the', 0.9988089203834534)]\n",
      "the => [('telling', 0.9366496801376343)]\n",
      "telling => [(',', 0.9804345369338989)]\n",
      "until => [('it', 0.8028238415718079)]\n",
      "it => [('became', 0.7871156930923462)]\n",
      "became => [('a', 0.9984987378120422)]\n",
      "a => [('history', 0.9456530809402466)]\n"
     ]
    }
   ],
   "source": [
    "def getTestingPhrase(sentence: str):\n",
    "    '''Converts a phrase with N tokens into a list of vectors'''\n",
    "    if len(sentence.split()) != N:\n",
    "        print(\"Sentence must contain exactly \" + str(N) + \" words.\")\n",
    "        return None\n",
    "    return np.array([my_embeddings[i] for i in sentence.split()])\n",
    "\n",
    "\n",
    "def printPredictions(predictions, testingPhrase):\n",
    "    '''Runs the vectorized phrase on the model and compares the predicted output to the ground truth'''\n",
    "    num_outputs = predictions.shape[1]\n",
    "    for i in range(num_outputs):\n",
    "        print(testingPhrase.split()[i] + \" => \", end='')\n",
    "        print(my_embeddings.most_similar(positive=[predictions[0][i]], topn=1))\n",
    "\n",
    "\n",
    "def predictNext(testingPhrase: str):\n",
    "    test_input = getTestingPhrase(testingPhrase)\n",
    "    test_input = np.expand_dims(test_input, axis=0)\n",
    "    predictions = model.predict(test_input)\n",
    "    printPredictions(predictions, testingPhrase)\n",
    "\n",
    "    \n",
    "# Use the first sentence of the text to test how well the model can recall the next word from the text\n",
    "    \n",
    "# This tale grew in the telling until it became a history of the Great War of the Ring \n",
    "# and included many glimpses of the yet more ancient history that preceded it.\n",
    "predictNext(\"This tale grew in the\")\n",
    "predictNext(\"telling until it became a\")\n",
    "# predictNext(\"history of the Great War\")\n",
    "# predictNext(\"of the Ring and included\")\n",
    "# predictNext(\"many glimpses of the yet\")\n",
    "# predictNext(\"more ancient history that preceded\")"
   ]
  },
  {
   "cell_type": "markdown",
   "metadata": {},
   "source": [
    "It appears that our model has done a good job memorizing sequences of text from the book. Our model starts off with lower accuracy because it is not provided with much context. But as the model predict subsequent terms, the accuracy increases. In this example, the model recalls 90% of the terms."
   ]
  },
  {
   "cell_type": "code",
   "execution_count": 99,
   "metadata": {},
   "outputs": [
    {
     "name": "stdout",
     "output_type": "stream",
     "text": [
      "[-1, -0.5]: {'tale', 'and', '.', 'woodlands', 'Of', 'chapter', 'And', '(', 'forest', 'Then', ','}\n",
      "[-0.5, 0]: {'Prologue', '.', 'I', 'my', '(', 'remember', ','}\n",
      "[0, 0.5]: {'in', 'so', 'even', 'the', 'where', 'then', 'but'}\n",
      "[0, 1]: {'move', 'in', 'so', 'that', 'do', 'the', 'have', 'they', 'but', 'it', 'need'}\n"
     ]
    }
   ],
   "source": [
    "def getSamplesFromRange(low, high):\n",
    "    print(\"[\"+str(low)+\",\"+\" \"+str(high)+\"]: \", end=\"\")\n",
    "    arr = []\n",
    "    for _ in range(5):\n",
    "        arr.append(np.random.uniform(low,high,300))\n",
    "    arr = np.array([np.array(arr)])\n",
    "    predictions = model.predict(arr)\n",
    "    num_outputs = predictions.shape[1]\n",
    "    outputs = set()\n",
    "    nns = 3 # nearest neighbors\n",
    "    for i in range(num_outputs):\n",
    "        tuple_list = my_embeddings.most_similar(positive=[predictions[0][i]], topn=3)\n",
    "        tokens = [i[0] for i in tuple_list]\n",
    "        outputs = outputs | set(tokens)\n",
    "    print(outputs)\n",
    "\n",
    "getSamplesFromRange(-1, -0.5)\n",
    "getSamplesFromRange(-0.5, 0)\n",
    "getSamplesFromRange(0, 0.5)\n",
    "getSamplesFromRange(0, 1)"
   ]
  },
  {
   "cell_type": "markdown",
   "metadata": {},
   "source": [
    "Here we experiment with the model's latent space by making the model predict specified ranges of vectors. From our experiments, the model has appeared to have clustered the input vectors based on their usage. Embeddings with values between [-1, 0] correspond to tokens that are used less often. Some examples that were generated in this range include: \n",
    "\n",
    "tale, '.', woodlands, chapter, '(', forest, ',', Prologue, remember\n",
    "\n",
    "On the other hand, embeddings with values between [0, 1] correspond to tokens that are used more often, such as stop words. Some examples in this range include: \n",
    "\n",
    "in, so, even, the, where, then, but, move, in, so, that, do, have, they, it"
   ]
  },
  {
   "cell_type": "code",
   "execution_count": 100,
   "metadata": {},
   "outputs": [
    {
     "ename": "NameError",
     "evalue": "name 'low' is not defined",
     "output_type": "error",
     "traceback": [
      "\u001b[1;31m---------------------------------------------------------------------------\u001b[0m",
      "\u001b[1;31mNameError\u001b[0m                                 Traceback (most recent call last)",
      "\u001b[1;32m<ipython-input-100-a1478f155f63>\u001b[0m in \u001b[0;36m<module>\u001b[1;34m\u001b[0m\n\u001b[0;32m      2\u001b[0m \u001b[0marr\u001b[0m \u001b[1;33m=\u001b[0m \u001b[1;33m[\u001b[0m\u001b[1;33m]\u001b[0m\u001b[1;33m\u001b[0m\u001b[1;33m\u001b[0m\u001b[0m\n\u001b[0;32m      3\u001b[0m \u001b[1;32mfor\u001b[0m \u001b[0m_\u001b[0m \u001b[1;32min\u001b[0m \u001b[0mrange\u001b[0m\u001b[1;33m(\u001b[0m\u001b[1;36m5\u001b[0m\u001b[1;33m)\u001b[0m\u001b[1;33m:\u001b[0m\u001b[1;33m\u001b[0m\u001b[1;33m\u001b[0m\u001b[0m\n\u001b[1;32m----> 4\u001b[1;33m     \u001b[0marr\u001b[0m\u001b[1;33m.\u001b[0m\u001b[0mappend\u001b[0m\u001b[1;33m(\u001b[0m\u001b[0mnp\u001b[0m\u001b[1;33m.\u001b[0m\u001b[0mrandom\u001b[0m\u001b[1;33m.\u001b[0m\u001b[0muniform\u001b[0m\u001b[1;33m(\u001b[0m\u001b[0mlow\u001b[0m\u001b[1;33m,\u001b[0m\u001b[0mhigh\u001b[0m\u001b[1;33m,\u001b[0m\u001b[1;36m300\u001b[0m\u001b[1;33m)\u001b[0m\u001b[1;33m)\u001b[0m\u001b[1;33m\u001b[0m\u001b[1;33m\u001b[0m\u001b[0m\n\u001b[0m\u001b[0;32m      5\u001b[0m \u001b[0marr\u001b[0m \u001b[1;33m=\u001b[0m \u001b[0mnp\u001b[0m\u001b[1;33m.\u001b[0m\u001b[0marray\u001b[0m\u001b[1;33m(\u001b[0m\u001b[1;33m[\u001b[0m\u001b[0mnp\u001b[0m\u001b[1;33m.\u001b[0m\u001b[0marray\u001b[0m\u001b[1;33m(\u001b[0m\u001b[0marr\u001b[0m\u001b[1;33m)\u001b[0m\u001b[1;33m]\u001b[0m\u001b[1;33m)\u001b[0m\u001b[1;33m\u001b[0m\u001b[1;33m\u001b[0m\u001b[0m\n\u001b[0;32m      6\u001b[0m \u001b[0mpredictions\u001b[0m \u001b[1;33m=\u001b[0m \u001b[0mmodel\u001b[0m\u001b[1;33m.\u001b[0m\u001b[0mpredict\u001b[0m\u001b[1;33m(\u001b[0m\u001b[0marr\u001b[0m\u001b[1;33m)\u001b[0m\u001b[1;33m\u001b[0m\u001b[1;33m\u001b[0m\u001b[0m\n",
      "\u001b[1;31mNameError\u001b[0m: name 'low' is not defined"
     ]
    }
   ],
   "source": [
    "# Example output when the model is ran with all zeros\n",
    "arr = []\n",
    "for _ in range(5):\n",
    "    arr.append(np.random.uniform(low,high,300))\n",
    "arr = np.array([np.array(arr)])\n",
    "predictions = model.predict(arr)\n",
    "num_outputs = predictions.shape[1]\n",
    "for i in range(num_outputs):\n",
    "    print(my_embeddings.most_similar(positive=[predictions[0][i]], topn=1)[0][0])"
   ]
  },
  {
   "cell_type": "markdown",
   "metadata": {
    "colab_type": "text",
    "id": "yi1_wqi0fhT2"
   },
   "source": [
    "## Text Generation"
   ]
  },
  {
   "cell_type": "markdown",
   "metadata": {},
   "source": [
    "Here we experiment with text generation. The goal of text generation is to provide the model with a seed phrase and have the model generate many values into the \"future.\" We use an iterative algorithm to predict each word. \n",
    "\n",
    "Given a window size of $N$, to predict a word $w_i$, we input $[w_{i-N}, w_{i-N+1}, w_{i-N+2}, ..., w_{i-1}]$\n",
    "\n",
    "Then, we slide our window on top of our newly generated term and repeat this generation step."
   ]
  },
  {
   "cell_type": "code",
   "execution_count": 47,
   "metadata": {
    "colab": {
     "base_uri": "https://localhost:8080/",
     "height": 436
    },
    "colab_type": "code",
    "executionInfo": {
     "elapsed": 1215,
     "status": "ok",
     "timestamp": 1551836084962,
     "user": {
      "displayName": "Andy W",
      "photoUrl": "https://lh3.googleusercontent.com/-e2yB0x7o_ZY/AAAAAAAAAAI/AAAAAAAAJuw/nAsmHlehdlY/s64/photo.jpg",
      "userId": "17506489879312600830"
     },
     "user_tz": 480
    },
    "id": "ygf_m4qVfgGd",
    "outputId": "9a2d316e-449f-41b4-9852-9a1cae638a8d"
   },
   "outputs": [
    {
     "name": "stdout",
     "output_type": "stream",
     "text": [
      "Those who had asked for more information about hobbits the experience of the that the it it the\n",
      "Bilbo was very rich and kindly or only but it us additional or or or\n"
     ]
    }
   ],
   "source": [
    "# generate text out of input sequence string.\n",
    "# The seed input string has to contain at least N words.\n",
    "# If it contains more than N words only the last N will be feed into the network\n",
    "\n",
    "# get array of the last 5 words of the sentence\n",
    "def getVariableTestingPhrase(sentence: str):\n",
    "    '''Converts a variable length phrase with at least N tokens into a list of vectors'''\n",
    "    if len(sentence.split()) < N:\n",
    "        print(\"Sentence must contain at least \" + str(N) + \" words.\")\n",
    "        return None\n",
    "    return np.array([my_embeddings[i] for i in sentence.split()][-N:])\n",
    "\n",
    "\n",
    "def get_word_from_vector(array_seq):\n",
    "    '''Given the output to our model, obtain the last vector in the array\n",
    "    and fetch its corresponding text translation.'''\n",
    "    return my_embeddings.most_similar(positive=[array_seq[0][-1]], topn=1)[0]\n",
    "\n",
    "\n",
    "def generate_seq(model, seed_text, n_words):\n",
    "    '''Given the model and the seed text, the function will generate n_words number of tokens and\n",
    "    append these tokens to the end of the seed text'''\n",
    "    text_seq = seed_text.split()\n",
    "    # Input Data\n",
    "    text_array_seq = getVariableTestingPhrase(seed_text)\n",
    "    for i in range(n_words):\n",
    "        input = np.expand_dims(text_array_seq, axis=0)\n",
    "        pred = model.predict(input, verbose=0)\n",
    "        pred_word = get_word_from_vector(pred)\n",
    "        text_seq.append(pred_word[0])\n",
    "        # Append predicted word to the end of text_array_seq\n",
    "        # 1. Remove first\n",
    "        text_array_seq = text_array_seq[1:,:]\n",
    "        # 2. Append to last\n",
    "        last_pred = pred[:,-1,:]\n",
    "        text_array_seq = np.append(text_array_seq, last_pred, axis=0)\n",
    "    return ' ' .join(text_seq)\n",
    "  \n",
    "\n",
    "seed_text = \"Those who had asked for more information about\"\n",
    "generated_text = generate_seq(model, seed_text, 10)\n",
    "print(generated_text)\n",
    "\n",
    "seed_text = \"Bilbo was very rich and\"\n",
    "generated_text = generate_seq(model, seed_text, 10)\n",
    "print(generated_text)"
   ]
  },
  {
   "cell_type": "markdown",
   "metadata": {
    "colab": {},
    "colab_type": "code",
    "id": "QbRBtgaamGef"
   },
   "source": [
    "- Reasons for repeated words:\n",
    "    - Mode collapse\n",
    "    - Embeddings are not uniformly distributed in the latent space. If there are large empty spaces then there won't be a \"nearest\", or most similar vector.\n",
    "- Is able to generate around 7 terms before it starts to repeat itself."
   ]
  },
  {
   "cell_type": "code",
   "execution_count": null,
   "metadata": {},
   "outputs": [],
   "source": []
  }
 ],
 "metadata": {
  "accelerator": "GPU",
  "colab": {
   "collapsed_sections": [],
   "name": "Project_Code",
   "provenance": [],
   "version": "0.3.2"
  },
  "kernelspec": {
   "display_name": "Python 3",
   "language": "python",
   "name": "python3"
  },
  "language_info": {
   "codemirror_mode": {
    "name": "ipython",
    "version": 3
   },
   "file_extension": ".py",
   "mimetype": "text/x-python",
   "name": "python",
   "nbconvert_exporter": "python",
   "pygments_lexer": "ipython3",
   "version": "3.6.8"
  }
 },
 "nbformat": 4,
 "nbformat_minor": 1
}
